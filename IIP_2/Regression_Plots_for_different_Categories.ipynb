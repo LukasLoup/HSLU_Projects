{
 "cells": [
  {
   "cell_type": "code",
   "execution_count": 32,
   "metadata": {},
   "outputs": [],
   "source": [
    "from sklearn.linear_model import LinearRegression\n",
    "from sklearn.svm import SVR, LinearSVR\n",
    "from sklearn.model_selection import train_test_split\n",
    "import pandas as pd\n",
    "import numpy"
   ]
  },
  {
   "cell_type": "code",
   "execution_count": 33,
   "metadata": {},
   "outputs": [],
   "source": [
    "#Daten einlesen\n",
    "input_dir = './Data/Preparation/merged_typologien.xlsx'\n",
    "df = pd.read_excel(input_dir)"
   ]
  },
  {
   "cell_type": "code",
   "execution_count": 34,
   "metadata": {},
   "outputs": [],
   "source": [
    "#rows mit ganzem Kanton luzern löschen\n",
    "indexNames = df[df['Gemeinde'] == 'Kanton Luzern'].index\n",
    "indexNames\n",
    "df.drop(indexNames , axis=0, inplace=True)\n",
    "df = df.reset_index()\n",
    "df.drop('index',  axis=1, inplace=True)"
   ]
  },
  {
   "cell_type": "code",
   "execution_count": 40,
   "metadata": {},
   "outputs": [],
   "source": [
    "def select_typologie(df, typologie):\n",
    "    typologie_df = df[df['Gemeindetypologien'] == typologie]\n",
    "\n",
    "    #Kategrien erstellen\n",
    "    typologie_df = pd.get_dummies(typologie_df, columns=['Gemeinde'])\n",
    "\n",
    "    #manuelles splitting für die Jahre\n",
    "    1991 - 2018 #training\n",
    "    2019, 2020, 2021 #test\n",
    "\n",
    "    test = typologie_df[typologie_df['Jahr'] > 2018]\n",
    "    train = typologie_df[typologie_df['Jahr'] <= 2018] \n",
    "\n",
    "    #drop columns   \n",
    "    columns_drop = ['Mittlere Wohnbevölkerung',\n",
    "                    'Gemeinde ID',\n",
    "                    'Ständige Wohnbevölkerung Total',\n",
    "                    'Ständige Wohnbevölkerung Anteil 0-19-Jährige in %',\n",
    "                    'Ständige Wohnbevölkerung Anteil 20-64-Jährige in %',\n",
    "                    'Ständige Wohnbevölkerung Anteil 65-Jährige und Ältere in %',\n",
    "                    'Ständige Wohnbevölkerung Ausländer-anteil in %',\n",
    "                    'Gemeindetypologien']\n",
    "\n",
    "    train = train.drop(columns_drop, axis=1)\n",
    "    test = test.drop(columns_drop, axis=1)\n",
    "\n",
    "    return typologie_df, train, test\n",
    "\n",
    "\n"
   ]
  },
  {
   "cell_type": "code",
   "execution_count": 36,
   "metadata": {},
   "outputs": [
    {
     "data": {
      "text/plain": [
       "array(['Agglokern', 'Land', 'Aggloguertel', 'Stadt', 'Kern'], dtype=object)"
      ]
     },
     "execution_count": 36,
     "metadata": {},
     "output_type": "execute_result"
    }
   ],
   "source": [
    "df.Gemeindetypologien.unique()"
   ]
  },
  {
   "cell_type": "code",
   "execution_count": 81,
   "metadata": {},
   "outputs": [],
   "source": [
    "typologie_df, train, test = select_typologie(df, 'Land')\n"
   ]
  },
  {
   "cell_type": "code",
   "execution_count": 77,
   "metadata": {},
   "outputs": [
    {
     "data": {
      "text/html": [
       "<div>\n",
       "<style scoped>\n",
       "    .dataframe tbody tr th:only-of-type {\n",
       "        vertical-align: middle;\n",
       "    }\n",
       "\n",
       "    .dataframe tbody tr th {\n",
       "        vertical-align: top;\n",
       "    }\n",
       "\n",
       "    .dataframe thead th {\n",
       "        text-align: right;\n",
       "    }\n",
       "</style>\n",
       "<table border=\"1\" class=\"dataframe\">\n",
       "  <thead>\n",
       "    <tr style=\"text-align: right;\">\n",
       "      <th></th>\n",
       "      <th>Gemeinde ID</th>\n",
       "      <th>Mittlere Wohnbevölkerung</th>\n",
       "      <th>Ständige Wohnbevölkerung Total</th>\n",
       "      <th>Ständige Wohnbevölkerung Ausländer-anteil in %</th>\n",
       "      <th>Ständige Wohnbevölkerung Bevölkerungs-dichte1 in Pers./km2</th>\n",
       "      <th>Ständige Wohnbevölkerung Anteil 0-19-Jährige in %</th>\n",
       "      <th>Ständige Wohnbevölkerung Anteil 20-64-Jährige in %</th>\n",
       "      <th>Ständige Wohnbevölkerung Anteil 65-Jährige und Ältere in %</th>\n",
       "      <th>Jahr</th>\n",
       "      <th>Gemeindetypologien</th>\n",
       "      <th>Gemeinde_Oberkirch</th>\n",
       "      <th>Gemeinde_Schenkon</th>\n",
       "      <th>Gemeinde_Sursee</th>\n",
       "    </tr>\n",
       "  </thead>\n",
       "  <tbody>\n",
       "    <tr>\n",
       "      <th>50</th>\n",
       "      <td>1095.0</td>\n",
       "      <td>2337</td>\n",
       "      <td>2328</td>\n",
       "      <td>8.5</td>\n",
       "      <td>212.5</td>\n",
       "      <td>29.3</td>\n",
       "      <td>60.3</td>\n",
       "      <td>10.4</td>\n",
       "      <td>1991</td>\n",
       "      <td>Kern</td>\n",
       "      <td>1</td>\n",
       "      <td>0</td>\n",
       "      <td>0</td>\n",
       "    </tr>\n",
       "    <tr>\n",
       "      <th>61</th>\n",
       "      <td>1099.0</td>\n",
       "      <td>1734</td>\n",
       "      <td>1753</td>\n",
       "      <td>5.5</td>\n",
       "      <td>227.4</td>\n",
       "      <td>33.1</td>\n",
       "      <td>60.5</td>\n",
       "      <td>6.4</td>\n",
       "      <td>1991</td>\n",
       "      <td>Kern</td>\n",
       "      <td>0</td>\n",
       "      <td>1</td>\n",
       "      <td>0</td>\n",
       "    </tr>\n",
       "    <tr>\n",
       "      <th>68</th>\n",
       "      <td>1103.0</td>\n",
       "      <td>7992</td>\n",
       "      <td>7938</td>\n",
       "      <td>15.9</td>\n",
       "      <td>1311.9</td>\n",
       "      <td>25.1</td>\n",
       "      <td>61.6</td>\n",
       "      <td>13.3</td>\n",
       "      <td>1991</td>\n",
       "      <td>Kern</td>\n",
       "      <td>0</td>\n",
       "      <td>0</td>\n",
       "      <td>1</td>\n",
       "    </tr>\n",
       "    <tr>\n",
       "      <th>130</th>\n",
       "      <td>1095.0</td>\n",
       "      <td>2355</td>\n",
       "      <td>2340</td>\n",
       "      <td>9.8</td>\n",
       "      <td>213.6</td>\n",
       "      <td>29.4</td>\n",
       "      <td>60.3</td>\n",
       "      <td>10.3</td>\n",
       "      <td>1992</td>\n",
       "      <td>Kern</td>\n",
       "      <td>1</td>\n",
       "      <td>0</td>\n",
       "      <td>0</td>\n",
       "    </tr>\n",
       "    <tr>\n",
       "      <th>141</th>\n",
       "      <td>1099.0</td>\n",
       "      <td>1758</td>\n",
       "      <td>1751</td>\n",
       "      <td>4.9</td>\n",
       "      <td>227.1</td>\n",
       "      <td>33.1</td>\n",
       "      <td>60.7</td>\n",
       "      <td>6.3</td>\n",
       "      <td>1992</td>\n",
       "      <td>Kern</td>\n",
       "      <td>0</td>\n",
       "      <td>1</td>\n",
       "      <td>0</td>\n",
       "    </tr>\n",
       "  </tbody>\n",
       "</table>\n",
       "</div>"
      ],
      "text/plain": [
       "     Gemeinde ID  Mittlere Wohnbevölkerung  Ständige Wohnbevölkerung Total  \\\n",
       "50        1095.0                      2337                            2328   \n",
       "61        1099.0                      1734                            1753   \n",
       "68        1103.0                      7992                            7938   \n",
       "130       1095.0                      2355                            2340   \n",
       "141       1099.0                      1758                            1751   \n",
       "\n",
       "    Ständige Wohnbevölkerung Ausländer-anteil in %  \\\n",
       "50                                             8.5   \n",
       "61                                             5.5   \n",
       "68                                            15.9   \n",
       "130                                            9.8   \n",
       "141                                            4.9   \n",
       "\n",
       "     Ständige Wohnbevölkerung Bevölkerungs-dichte1 in Pers./km2  \\\n",
       "50                                               212.5            \n",
       "61                                               227.4            \n",
       "68                                              1311.9            \n",
       "130                                              213.6            \n",
       "141                                              227.1            \n",
       "\n",
       "     Ständige Wohnbevölkerung Anteil 0-19-Jährige in %  \\\n",
       "50                                                29.3   \n",
       "61                                                33.1   \n",
       "68                                                25.1   \n",
       "130                                               29.4   \n",
       "141                                               33.1   \n",
       "\n",
       "     Ständige Wohnbevölkerung Anteil 20-64-Jährige in %  \\\n",
       "50                                                60.3    \n",
       "61                                                60.5    \n",
       "68                                                61.6    \n",
       "130                                               60.3    \n",
       "141                                               60.7    \n",
       "\n",
       "     Ständige Wohnbevölkerung Anteil 65-Jährige und Ältere in %  Jahr  \\\n",
       "50                                                10.4           1991   \n",
       "61                                                 6.4           1991   \n",
       "68                                                13.3           1991   \n",
       "130                                               10.3           1992   \n",
       "141                                                6.3           1992   \n",
       "\n",
       "    Gemeindetypologien  Gemeinde_Oberkirch  Gemeinde_Schenkon  Gemeinde_Sursee  \n",
       "50                Kern                   1                  0                0  \n",
       "61                Kern                   0                  1                0  \n",
       "68                Kern                   0                  0                1  \n",
       "130               Kern                   1                  0                0  \n",
       "141               Kern                   0                  1                0  "
      ]
     },
     "execution_count": 77,
     "metadata": {},
     "output_type": "execute_result"
    }
   ],
   "source": [
    "typologie_df.head()"
   ]
  },
  {
   "cell_type": "code",
   "execution_count": 54,
   "metadata": {},
   "outputs": [],
   "source": [
    "from sklearn.preprocessing import StandardScaler\n",
    "from sklearn.metrics import r2_score, mean_squared_error, mean_absolute_percentage_error\n",
    "import matplotlib.pyplot as plt"
   ]
  },
  {
   "cell_type": "code",
   "execution_count": 82,
   "metadata": {},
   "outputs": [
    {
     "data": {
      "text/plain": [
       "'Gemeinde_Aesch'"
      ]
     },
     "execution_count": 82,
     "metadata": {},
     "output_type": "execute_result"
    }
   ],
   "source": [
    "gemeinden = typologie_df.columns.tolist()\n",
    "gemeinden = gemeinden[10:]\n",
    "gemeinden[0]"
   ]
  },
  {
   "attachments": {},
   "cell_type": "markdown",
   "metadata": {},
   "source": [
    "# Polynomial Regression"
   ]
  },
  {
   "cell_type": "code",
   "execution_count": 83,
   "metadata": {},
   "outputs": [
    {
     "name": "stdout",
     "output_type": "stream",
     "text": [
      "R2: 0.9922149170642041\n",
      "mse: 271.8826150708649\n",
      "mape: 0.07982491931726177\n"
     ]
    }
   ],
   "source": [
    "X_train =  train.drop('Ständige Wohnbevölkerung Bevölkerungs-dichte1 in Pers./km2', axis=1)\n",
    "y_train = train['Ständige Wohnbevölkerung Bevölkerungs-dichte1 in Pers./km2']\n",
    "X_test =  test.drop('Ständige Wohnbevölkerung Bevölkerungs-dichte1 in Pers./km2', axis=1)\n",
    "y_test = test['Ständige Wohnbevölkerung Bevölkerungs-dichte1 in Pers./km2']\n",
    "\n",
    "from sklearn.preprocessing import PolynomialFeatures\n",
    "poly = PolynomialFeatures(degree=3, include_bias=True)\n",
    "\n",
    "x_train_poly_features = poly.fit_transform(X_train)\n",
    "x_test_poly_features = poly.transform(X_test)\n",
    "\n",
    "from sklearn.linear_model import LinearRegression\n",
    "poly_reg_model = LinearRegression()\n",
    "poly_reg_model.fit(x_train_poly_features, y_train)\n",
    "poly_y_predicted = poly_reg_model.predict(x_test_poly_features)\n",
    "\n",
    "R2 = r2_score(y_test, poly_y_predicted)\n",
    "mse = mean_squared_error(y_test, poly_y_predicted)\n",
    "mape = mean_absolute_percentage_error(y_test, poly_y_predicted)\n",
    "print(\"R2:\", R2)\n",
    "print(\"mse:\", mse)\n",
    "print(\"mape:\", mape)"
   ]
  },
  {
   "cell_type": "code",
   "execution_count": null,
   "metadata": {},
   "outputs": [],
   "source": [
    "#Gemeinden ploten\n",
    "for i in range(0,len(gemeinden)):\n",
    "    ge = typologie_df[typologie_df[gemeinden[i]] == 1]\n",
    "    columns_drop_2 = ['Mittlere Wohnbevölkerung',\n",
    "                    'Gemeinde ID',\n",
    "                    'Ständige Wohnbevölkerung Total',\n",
    "                    'Ständige Wohnbevölkerung Anteil 0-19-Jährige in %',\n",
    "                    'Ständige Wohnbevölkerung Anteil 20-64-Jährige in %',\n",
    "                    'Ständige Wohnbevölkerung Anteil 65-Jährige und Ältere in %',\n",
    "                    'Ständige Wohnbevölkerung Ausländer-anteil in %',\n",
    "                    'Ständige Wohnbevölkerung Bevölkerungs-dichte1 in Pers./km2',\n",
    "                    'Gemeindetypologien']\n",
    "\n",
    "    ge_x = ge.drop(columns_drop_2, axis=1)\n",
    "    ge_y = ge['Ständige Wohnbevölkerung Bevölkerungs-dichte1 in Pers./km2']\n",
    "\n",
    "    #normalisieren\n",
    "    ge_x = poly.transform(ge_x)\n",
    "    #vorhersage\n",
    "    ge_pred = poly_reg_model.predict(ge_x)\n",
    "    \n",
    "\n",
    "    Jahre=ge.Jahr.tolist()\n",
    "\n",
    "    plt.figure()\n",
    "    plt.scatter(Jahre,ge['Ständige Wohnbevölkerung Bevölkerungs-dichte1 in Pers./km2'])\n",
    "    plt.plot(Jahre, ge_pred, color=\"black\")\n",
    "    plt.scatter(Jahre[-4:], ge_pred[-4:], color='red')\n",
    "    plt.savefig('../Plots_Model/nach_Typologien/Land/' + gemeinden[i] + '.png')\n",
    "    plt.show()\n",
    "    "
   ]
  },
  {
   "attachments": {},
   "cell_type": "markdown",
   "metadata": {},
   "source": [
    "Neue Plots"
   ]
  },
  {
   "cell_type": "code",
   "execution_count": null,
   "metadata": {},
   "outputs": [],
   "source": [
    "#Gemeinden ploten\n",
    "for i in range(0,len(gemeinden)):\n",
    "    ge = typologie_df[typologie_df[gemeinden[i]] == 1]\n",
    "    columns_drop_2 = ['Mittlere Wohnbevölkerung',\n",
    "                    'Gemeinde ID',\n",
    "                    'Ständige Wohnbevölkerung Total',\n",
    "                    'Ständige Wohnbevölkerung Anteil 0-19-Jährige in %',\n",
    "                    'Ständige Wohnbevölkerung Anteil 20-64-Jährige in %',\n",
    "                    'Ständige Wohnbevölkerung Anteil 65-Jährige und Ältere in %',\n",
    "                    'Ständige Wohnbevölkerung Ausländer-anteil in %',\n",
    "                    'Ständige Wohnbevölkerung Bevölkerungs-dichte1 in Pers./km2',\n",
    "                    'Gemeindetypologien']\n",
    "\n",
    "    ge_x = ge.drop(columns_drop_2, axis=1)\n",
    "    ge_y = ge['Ständige Wohnbevölkerung Bevölkerungs-dichte1 in Pers./km2']\n",
    "\n",
    "    #normalisieren\n",
    "    ge_x = poly.transform(ge_x)\n",
    "    #vorhersage\n",
    "    ge_pred = poly_reg_model.predict(ge_x)\n",
    "    \n",
    "\n",
    "    Jahre=ge.Jahr.tolist()\n",
    "\n",
    "    \n",
    "    plt.figure(figsize=(8, 12))\n",
    "    #plt.plot(Jahre,ge['Ständige Wohnbevölkerung Bevölkerungs-dichte1 in Pers./km2'], color=\"black\", linewidth=2)\n",
    "    #plt.plot(Jahre[-4:],ge['Ständige Wohnbevölkerung Bevölkerungs-dichte1 in Pers./km2'][-4:], color=\"blue\", linewidth=2)\n",
    "    #plt.plot(Jahre, ge_pred, color=\"black\")\n",
    "    #plt.plot(Jahre[-4:], ge_pred[-4:], color='red', linewidth=3)\n",
    "    plt.scatter(Jahre,ge['Ständige Wohnbevölkerung Bevölkerungs-dichte1 in Pers./km2'], color=\"black\", s=70)\n",
    "    plt.scatter(Jahre[-4:],ge['Ständige Wohnbevölkerung Bevölkerungs-dichte1 in Pers./km2'][-4:], color=\"lightseagreen\", s=70)\n",
    "    plt.plot(Jahre, ge_pred, color=\"red\", linewidth=2)\n",
    "    #plt.scatter(Jahre[-4:], ge_pred[-4:], color='red', s=40)\n",
    "    \n",
    "    ax = plt.gca()\n",
    "    for spine in ax.spines.values():\n",
    "        spine.set_linewidth(0)\n",
    "    plt.ylim(0, 2300) \n",
    "    plt.xticks(fontsize=14)  # set the font size of the x-axis tick labels to 14\n",
    "    plt.yticks(fontsize=14)\n",
    "\n",
    "    plt.savefig('../Plots_Model/nach_Typologien/New_plots/kern/' + gemeinden[i] + '.png', transparent=True)\n",
    "\n",
    "    plt.show()\n",
    "    "
   ]
  }
 ],
 "metadata": {
  "kernelspec": {
   "display_name": "Python 3",
   "language": "python",
   "name": "python3"
  },
  "language_info": {
   "codemirror_mode": {
    "name": "ipython",
    "version": 3
   },
   "file_extension": ".py",
   "mimetype": "text/x-python",
   "name": "python",
   "nbconvert_exporter": "python",
   "pygments_lexer": "ipython3",
   "version": "3.10.2"
  },
  "orig_nbformat": 4
 },
 "nbformat": 4,
 "nbformat_minor": 2
}
