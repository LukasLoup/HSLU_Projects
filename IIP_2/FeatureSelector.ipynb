{
 "cells": [
  {
   "cell_type": "code",
   "execution_count": 1,
   "metadata": {},
   "outputs": [],
   "source": [
    "import seaborn as sns\n",
    "import matplotlib.pyplot as plt\n",
    "import pandas as pd"
   ]
  },
  {
   "cell_type": "code",
   "execution_count": 2,
   "metadata": {},
   "outputs": [],
   "source": [
    "path_pre = '.\\Data\\Preparation\\Kennzahlen_aller_Gemeinden\\\\'"
   ]
  },
  {
   "cell_type": "code",
   "execution_count": 112,
   "metadata": {},
   "outputs": [],
   "source": [
    "file_name='Alle_Daten'\n",
    "df_new = pd.read_excel(path_pre+file_name+'.xlsx', \n",
    "                   header=[0,1], \n",
    "                   index_col=[0,1])\n",
    "file_name='merged_typologien'\n",
    "df_old = pd.read_excel('.\\Data\\Preparation\\\\'+file_name+'.xlsx')"
   ]
  },
  {
   "cell_type": "code",
   "execution_count": 135,
   "metadata": {},
   "outputs": [],
   "source": [
    "\n",
    "#cols = ['GDEBZNA','Gemeindename','Ständige Wohnbevölkerung Bevölkerungs-dichte1 in Pers./km2']\n",
    "cols = ['Siedlungsfläche_in_%', 'Landwirtschafts-fläche_in_%','Betriebe_total,Wohnungen - Total','Anzahl_Privathaushalte','Gemeindename','Ständige Wohnbevölkerung Bevölkerungs-dichte1 in Pers./km2','Gemeindetypologien']\n",
    "cols_new  = ['Gemeindename','Ständige Wohnbevölkerung Bevölkerungs-dichte1 in Pers./km2','Gemeindetypologien']\n",
    "cols_old = ['Jahr','Gemeindename','Ständige Wohnbevölkerung Bevölkerungs-dichte1 in Pers./km2','Gemeindetypologien']\n",
    "\n",
    "\n",
    "\n",
    "def filter_by_titles(df, titles,level):\n",
    "    # Create a mask for the desired subtitles for all columns in the DataFrame\n",
    "    column_mask = df.columns.isin(titles, level=level)\n",
    "    # Use the mask to filter the columns of the DataFrame\n",
    "    filtered_df = df.loc[:, column_mask]\n",
    "    return filtered_df\n",
    "\n",
    "def filter_by_titles_or_subtitel(df,titles=[],subtitles=[],multheader =True):\n",
    "        df_t = filter_by_titles(df,titles,0)\n",
    "        df_s = filter_by_titles(df,subtitles,1)\n",
    "        filtered_df =  pd.merge(df_t, df_s, left_index=True, right_index=True)\n",
    "        if multheader:\n",
    "            return filtered_df\n",
    "        return filtered_df.droplevel(0, axis=1)\n",
    "        \n",
    "\n",
    "df_s = filter_by_titles_or_subtitel(df_new,subtitles=cols_new,multheader=False)\n",
    "df_s = df_s.reset_index()\n",
    "df_s = df_s.drop_duplicates(subset=['Gemeindecode' ,'Jahr'])\n",
    "\n"
   ]
  },
  {
   "cell_type": "code",
   "execution_count": 138,
   "metadata": {},
   "outputs": [
    {
     "data": {
      "text/html": [
       "<div>\n",
       "<style scoped>\n",
       "    .dataframe tbody tr th:only-of-type {\n",
       "        vertical-align: middle;\n",
       "    }\n",
       "\n",
       "    .dataframe tbody tr th {\n",
       "        vertical-align: top;\n",
       "    }\n",
       "\n",
       "    .dataframe thead th {\n",
       "        text-align: right;\n",
       "    }\n",
       "</style>\n",
       "<table border=\"1\" class=\"dataframe\">\n",
       "  <thead>\n",
       "    <tr style=\"text-align: right;\">\n",
       "      <th></th>\n",
       "      <th>Gemeindecode</th>\n",
       "      <th>Jahr</th>\n",
       "      <th>Gemeindename</th>\n",
       "      <th>Ständige Wohnbevölkerung Bevölkerungs-dichte1 in Pers./km2</th>\n",
       "      <th>Gemeindetypologien</th>\n",
       "    </tr>\n",
       "  </thead>\n",
       "  <tbody>\n",
       "    <tr>\n",
       "      <th>0</th>\n",
       "      <td>1001</td>\n",
       "      <td>1991</td>\n",
       "      <td>Doppleschwand</td>\n",
       "      <td>82.8</td>\n",
       "      <td>Land</td>\n",
       "    </tr>\n",
       "    <tr>\n",
       "      <th>1</th>\n",
       "      <td>1001</td>\n",
       "      <td>1992</td>\n",
       "      <td>Doppleschwand</td>\n",
       "      <td>85.8</td>\n",
       "      <td>Land</td>\n",
       "    </tr>\n",
       "  </tbody>\n",
       "</table>\n",
       "</div>"
      ],
      "text/plain": [
       "   Gemeindecode  Jahr   Gemeindename  \\\n",
       "0          1001  1991  Doppleschwand   \n",
       "1          1001  1992  Doppleschwand   \n",
       "\n",
       "   Ständige Wohnbevölkerung Bevölkerungs-dichte1 in Pers./km2  \\\n",
       "0                                               82.8            \n",
       "1                                               85.8            \n",
       "\n",
       "  Gemeindetypologien  \n",
       "0               Land  \n",
       "1               Land  "
      ]
     },
     "execution_count": 138,
     "metadata": {},
     "output_type": "execute_result"
    }
   ],
   "source": [
    "df_s.head(2)"
   ]
  },
  {
   "cell_type": "code",
   "execution_count": 140,
   "metadata": {},
   "outputs": [
    {
     "data": {
      "text/html": [
       "<div>\n",
       "<style scoped>\n",
       "    .dataframe tbody tr th:only-of-type {\n",
       "        vertical-align: middle;\n",
       "    }\n",
       "\n",
       "    .dataframe tbody tr th {\n",
       "        vertical-align: top;\n",
       "    }\n",
       "\n",
       "    .dataframe thead th {\n",
       "        text-align: right;\n",
       "    }\n",
       "</style>\n",
       "<table border=\"1\" class=\"dataframe\">\n",
       "  <thead>\n",
       "    <tr style=\"text-align: right;\">\n",
       "      <th></th>\n",
       "      <th>Gemeindename</th>\n",
       "      <th>Gemeinde ID</th>\n",
       "      <th>Mittlere Wohnbevölkerung</th>\n",
       "      <th>Ständige Wohnbevölkerung Total</th>\n",
       "      <th>Ständige Wohnbevölkerung Ausländer-anteil in %</th>\n",
       "      <th>Ständige Wohnbevölkerung Bevölkerungs-dichte1 in Pers./km2</th>\n",
       "      <th>Ständige Wohnbevölkerung Anteil 0-19-Jährige in %</th>\n",
       "      <th>Ständige Wohnbevölkerung Anteil 20-64-Jährige in %</th>\n",
       "      <th>Ständige Wohnbevölkerung Anteil 65-Jährige und Ältere in %</th>\n",
       "      <th>Jahr</th>\n",
       "      <th>Gemeindetypologien</th>\n",
       "    </tr>\n",
       "  </thead>\n",
       "  <tbody>\n",
       "    <tr>\n",
       "      <th>1</th>\n",
       "      <td>Adligenswil</td>\n",
       "      <td>1051.0</td>\n",
       "      <td>4330</td>\n",
       "      <td>4356</td>\n",
       "      <td>6.6</td>\n",
       "      <td>623.2</td>\n",
       "      <td>34.6</td>\n",
       "      <td>61.8</td>\n",
       "      <td>3.6</td>\n",
       "      <td>1991</td>\n",
       "      <td>Agglokern</td>\n",
       "    </tr>\n",
       "    <tr>\n",
       "      <th>2</th>\n",
       "      <td>Aesch</td>\n",
       "      <td>1021.0</td>\n",
       "      <td>896</td>\n",
       "      <td>912</td>\n",
       "      <td>6.6</td>\n",
       "      <td>157.2</td>\n",
       "      <td>29.5</td>\n",
       "      <td>61.3</td>\n",
       "      <td>9.2</td>\n",
       "      <td>1991</td>\n",
       "      <td>Land</td>\n",
       "    </tr>\n",
       "  </tbody>\n",
       "</table>\n",
       "</div>"
      ],
      "text/plain": [
       "  Gemeindename  Gemeinde ID  Mittlere Wohnbevölkerung  \\\n",
       "1  Adligenswil       1051.0                      4330   \n",
       "2        Aesch       1021.0                       896   \n",
       "\n",
       "   Ständige Wohnbevölkerung Total  \\\n",
       "1                            4356   \n",
       "2                             912   \n",
       "\n",
       "   Ständige Wohnbevölkerung Ausländer-anteil in %  \\\n",
       "1                                             6.6   \n",
       "2                                             6.6   \n",
       "\n",
       "   Ständige Wohnbevölkerung Bevölkerungs-dichte1 in Pers./km2  \\\n",
       "1                                              623.2            \n",
       "2                                              157.2            \n",
       "\n",
       "   Ständige Wohnbevölkerung Anteil 0-19-Jährige in %  \\\n",
       "1                                               34.6   \n",
       "2                                               29.5   \n",
       "\n",
       "   Ständige Wohnbevölkerung Anteil 20-64-Jährige in %  \\\n",
       "1                                               61.8    \n",
       "2                                               61.3    \n",
       "\n",
       "   Ständige Wohnbevölkerung Anteil 65-Jährige und Ältere in %  Jahr  \\\n",
       "1                                                3.6           1991   \n",
       "2                                                9.2           1991   \n",
       "\n",
       "  Gemeindetypologien  \n",
       "1          Agglokern  \n",
       "2               Land  "
      ]
     },
     "execution_count": 140,
     "metadata": {},
     "output_type": "execute_result"
    }
   ],
   "source": [
    "df_old.head(2)"
   ]
  },
  {
   "cell_type": "code",
   "execution_count": 106,
   "metadata": {},
   "outputs": [
    {
     "name": "stderr",
     "output_type": "stream",
     "text": [
      "C:\\Users\\LUKAS~1.LOU\\AppData\\Local\\Temp/ipykernel_23500/299402388.py:2: FutureWarning: The default value of numeric_only in DataFrame.corr is deprecated. In a future version, it will default to False. Select only valid columns or specify the value of numeric_only to silence this warning.\n",
      "  corr_matrix = df.corr()\n"
     ]
    },
    {
     "data": {
      "image/png": "[encoded data removed]",
      "text/plain": [
       "<Figure size 432x288 with 2 Axes>"
      ]
     },
     "metadata": {
      "needs_background": "light"
     },
     "output_type": "display_data"
    }
   ],
   "source": [
    "def plot_corr_matrix(df):\n",
    "    corr_matrix = df.corr()\n",
    "    #style_plt(f'corr_matrix')\n",
    "    sns.heatmap(corr_matrix, annot=True, cmap=\"YlGnBu\")\n",
    "    plt.show()\n",
    "plot_corr_matrix(df_s)"
   ]
  },
  {
   "cell_type": "code",
   "execution_count": 98,
   "metadata": {},
   "outputs": [],
   "source": [
    "import pandas as pd\n",
    "from sklearn.feature_selection import chi2, f_classif\n",
    "from sklearn.feature_selection import SelectKBest, mutual_info_classif\n",
    "\n",
    "\n",
    "class FeatureSelector:\n",
    "    def __init__(self, data, target):\n",
    "        self.data = data\n",
    "        self.target = target\n",
    "\n",
    "    def pearson_corr(self, threshold=0.5):\n",
    "        corr_matrix = self.data.corr()\n",
    "        relevant_features = corr_matrix.index[abs(corr_matrix[self.target]) >= threshold]\n",
    "        return relevant_features.tolist()\n",
    "\n",
    "    def chi2_test(self, k=10):\n",
    "        selector = SelectKBest(chi2, k=k)\n",
    "        selector.fit(self.data, self.target)\n",
    "        relevant_features = self.data.columns[selector.get_support()]\n",
    "        return relevant_features.tolist()\n",
    "\n",
    "    def f_test(self, k=10):\n",
    "        selector = SelectKBest(f_classif, k=k)\n",
    "        selector.fit(self.data, self.target)\n",
    "        relevant_features = self.data.columns[selector.get_support()]\n",
    "        return relevant_features.tolist()\n",
    "\n",
    "    def mutual_info(self, k=10):\n",
    "        selector = SelectKBest(mutual_info_classif, k=k)\n",
    "        selector.fit(self.data, self.target)\n",
    "        relevant_features = self.data.columns[selector.get_support()]\n",
    "        return relevant_features.tolist()"
   ]
  },
  {
   "cell_type": "code",
   "execution_count": 99,
   "metadata": {},
   "outputs": [],
   "source": [
    "#df_s = pd.get_dummies(df_s, columns=['Gemeindetypologien','Gemeindename'])\n",
    "\n",
    "X = df_s.drop('Ständige Wohnbevölkerung Bevölkerungs-dichte1 in Pers./km2', axis=1)\n",
    "Y = df_s['Ständige Wohnbevölkerung Bevölkerungs-dichte1 in Pers./km2']\n"
   ]
  },
  {
   "cell_type": "code",
   "execution_count": 104,
   "metadata": {},
   "outputs": [
    {
     "ename": "ValueError",
     "evalue": "could not convert string to float: 'Doppleschwand'",
     "output_type": "error",
     "traceback": [
      "\u001b[1;31m---------------------------------------------------------------------------\u001b[0m",
      "\u001b[1;31mValueError\u001b[0m                                Traceback (most recent call last)",
      "Cell \u001b[1;32mIn[104], line 2\u001b[0m\n\u001b[0;32m      1\u001b[0m fsel \u001b[39m=\u001b[39m FeatureSelector(df_s,\u001b[39m'\u001b[39m\u001b[39mStändige Wohnbevölkerung Bevölkerungs-dichte1 in Pers./km2\u001b[39m\u001b[39m'\u001b[39m)\n\u001b[1;32m----> 2\u001b[0m fsel\u001b[39m.\u001b[39;49mf_test()\n",
      "Cell \u001b[1;32mIn[98], line 24\u001b[0m, in \u001b[0;36mFeatureSelector.f_test\u001b[1;34m(self, k)\u001b[0m\n\u001b[0;32m     22\u001b[0m \u001b[39mdef\u001b[39;00m \u001b[39mf_test\u001b[39m(\u001b[39mself\u001b[39m, k\u001b[39m=\u001b[39m\u001b[39m10\u001b[39m):\n\u001b[0;32m     23\u001b[0m     selector \u001b[39m=\u001b[39m SelectKBest(f_classif, k\u001b[39m=\u001b[39mk)\n\u001b[1;32m---> 24\u001b[0m     selector\u001b[39m.\u001b[39;49mfit(\u001b[39mself\u001b[39;49m\u001b[39m.\u001b[39;49mdata, \u001b[39mself\u001b[39;49m\u001b[39m.\u001b[39;49mtarget)\n\u001b[0;32m     25\u001b[0m     relevant_features \u001b[39m=\u001b[39m \u001b[39mself\u001b[39m\u001b[39m.\u001b[39mdata\u001b[39m.\u001b[39mcolumns[selector\u001b[39m.\u001b[39mget_support()]\n\u001b[0;32m     26\u001b[0m     \u001b[39mreturn\u001b[39;00m relevant_features\u001b[39m.\u001b[39mtolist()\n",
      "File \u001b[1;32mc:\\Users\\Lukas.loup\\AppData\\Local\\Programs\\Python\\Python310\\lib\\site-packages\\sklearn\\feature_selection\\_univariate_selection.py:463\u001b[0m, in \u001b[0;36m_BaseFilter.fit\u001b[1;34m(self, X, y)\u001b[0m\n\u001b[0;32m    446\u001b[0m \u001b[39mdef\u001b[39;00m \u001b[39mfit\u001b[39m(\u001b[39mself\u001b[39m, X, y):\n\u001b[0;32m    447\u001b[0m \u001b[39m    \u001b[39m\u001b[39m\"\"\"Run score function on (X, y) and get the appropriate features.\u001b[39;00m\n\u001b[0;32m    448\u001b[0m \n\u001b[0;32m    449\u001b[0m \u001b[39m    Parameters\u001b[39;00m\n\u001b[1;32m   (...)\u001b[0m\n\u001b[0;32m    461\u001b[0m \u001b[39m        Returns the instance itself.\u001b[39;00m\n\u001b[0;32m    462\u001b[0m \u001b[39m    \"\"\"\u001b[39;00m\n\u001b[1;32m--> 463\u001b[0m     X, y \u001b[39m=\u001b[39m \u001b[39mself\u001b[39;49m\u001b[39m.\u001b[39;49m_validate_data(\n\u001b[0;32m    464\u001b[0m         X, y, accept_sparse\u001b[39m=\u001b[39;49m[\u001b[39m\"\u001b[39;49m\u001b[39mcsr\u001b[39;49m\u001b[39m\"\u001b[39;49m, \u001b[39m\"\u001b[39;49m\u001b[39mcsc\u001b[39;49m\u001b[39m\"\u001b[39;49m], multi_output\u001b[39m=\u001b[39;49m\u001b[39mTrue\u001b[39;49;00m\n\u001b[0;32m    465\u001b[0m     )\n\u001b[0;32m    467\u001b[0m     \u001b[39mif\u001b[39;00m \u001b[39mnot\u001b[39;00m \u001b[39mcallable\u001b[39m(\u001b[39mself\u001b[39m\u001b[39m.\u001b[39mscore_func):\n\u001b[0;32m    468\u001b[0m         \u001b[39mraise\u001b[39;00m \u001b[39mTypeError\u001b[39;00m(\n\u001b[0;32m    469\u001b[0m             \u001b[39m\"\u001b[39m\u001b[39mThe score function should be a callable, \u001b[39m\u001b[39m%s\u001b[39;00m\u001b[39m (\u001b[39m\u001b[39m%s\u001b[39;00m\u001b[39m) was passed.\u001b[39m\u001b[39m\"\u001b[39m\n\u001b[0;32m    470\u001b[0m             \u001b[39m%\u001b[39m (\u001b[39mself\u001b[39m\u001b[39m.\u001b[39mscore_func, \u001b[39mtype\u001b[39m(\u001b[39mself\u001b[39m\u001b[39m.\u001b[39mscore_func))\n\u001b[0;32m    471\u001b[0m         )\n",
      "File \u001b[1;32mc:\\Users\\Lukas.loup\\AppData\\Local\\Programs\\Python\\Python310\\lib\\site-packages\\sklearn\\base.py:596\u001b[0m, in \u001b[0;36mBaseEstimator._validate_data\u001b[1;34m(self, X, y, reset, validate_separately, **check_params)\u001b[0m\n\u001b[0;32m    594\u001b[0m         y \u001b[39m=\u001b[39m check_array(y, input_name\u001b[39m=\u001b[39m\u001b[39m\"\u001b[39m\u001b[39my\u001b[39m\u001b[39m\"\u001b[39m, \u001b[39m*\u001b[39m\u001b[39m*\u001b[39mcheck_y_params)\n\u001b[0;32m    595\u001b[0m     \u001b[39melse\u001b[39;00m:\n\u001b[1;32m--> 596\u001b[0m         X, y \u001b[39m=\u001b[39m check_X_y(X, y, \u001b[39m*\u001b[39m\u001b[39m*\u001b[39mcheck_params)\n\u001b[0;32m    597\u001b[0m     out \u001b[39m=\u001b[39m X, y\n\u001b[0;32m    599\u001b[0m \u001b[39mif\u001b[39;00m \u001b[39mnot\u001b[39;00m no_val_X \u001b[39mand\u001b[39;00m check_params\u001b[39m.\u001b[39mget(\u001b[39m\"\u001b[39m\u001b[39mensure_2d\u001b[39m\u001b[39m\"\u001b[39m, \u001b[39mTrue\u001b[39;00m):\n",
      "File \u001b[1;32mc:\\Users\\Lukas.loup\\AppData\\Local\\Programs\\Python\\Python310\\lib\\site-packages\\sklearn\\utils\\validation.py:1074\u001b[0m, in \u001b[0;36mcheck_X_y\u001b[1;34m(X, y, accept_sparse, accept_large_sparse, dtype, order, copy, force_all_finite, ensure_2d, allow_nd, multi_output, ensure_min_samples, ensure_min_features, y_numeric, estimator)\u001b[0m\n\u001b[0;32m   1069\u001b[0m         estimator_name \u001b[39m=\u001b[39m _check_estimator_name(estimator)\n\u001b[0;32m   1070\u001b[0m     \u001b[39mraise\u001b[39;00m \u001b[39mValueError\u001b[39;00m(\n\u001b[0;32m   1071\u001b[0m         \u001b[39mf\u001b[39m\u001b[39m\"\u001b[39m\u001b[39m{\u001b[39;00mestimator_name\u001b[39m}\u001b[39;00m\u001b[39m requires y to be passed, but the target y is None\u001b[39m\u001b[39m\"\u001b[39m\n\u001b[0;32m   1072\u001b[0m     )\n\u001b[1;32m-> 1074\u001b[0m X \u001b[39m=\u001b[39m check_array(\n\u001b[0;32m   1075\u001b[0m     X,\n\u001b[0;32m   1076\u001b[0m     accept_sparse\u001b[39m=\u001b[39;49maccept_sparse,\n\u001b[0;32m   1077\u001b[0m     accept_large_sparse\u001b[39m=\u001b[39;49maccept_large_sparse,\n\u001b[0;32m   1078\u001b[0m     dtype\u001b[39m=\u001b[39;49mdtype,\n\u001b[0;32m   1079\u001b[0m     order\u001b[39m=\u001b[39;49morder,\n\u001b[0;32m   1080\u001b[0m     copy\u001b[39m=\u001b[39;49mcopy,\n\u001b[0;32m   1081\u001b[0m     force_all_finite\u001b[39m=\u001b[39;49mforce_all_finite,\n\u001b[0;32m   1082\u001b[0m     ensure_2d\u001b[39m=\u001b[39;49mensure_2d,\n\u001b[0;32m   1083\u001b[0m     allow_nd\u001b[39m=\u001b[39;49mallow_nd,\n\u001b[0;32m   1084\u001b[0m     ensure_min_samples\u001b[39m=\u001b[39;49mensure_min_samples,\n\u001b[0;32m   1085\u001b[0m     ensure_min_features\u001b[39m=\u001b[39;49mensure_min_features,\n\u001b[0;32m   1086\u001b[0m     estimator\u001b[39m=\u001b[39;49mestimator,\n\u001b[0;32m   1087\u001b[0m     input_name\u001b[39m=\u001b[39;49m\u001b[39m\"\u001b[39;49m\u001b[39mX\u001b[39;49m\u001b[39m\"\u001b[39;49m,\n\u001b[0;32m   1088\u001b[0m )\n\u001b[0;32m   1090\u001b[0m y \u001b[39m=\u001b[39m _check_y(y, multi_output\u001b[39m=\u001b[39mmulti_output, y_numeric\u001b[39m=\u001b[39my_numeric, estimator\u001b[39m=\u001b[39mestimator)\n\u001b[0;32m   1092\u001b[0m check_consistent_length(X, y)\n",
      "File \u001b[1;32mc:\\Users\\Lukas.loup\\AppData\\Local\\Programs\\Python\\Python310\\lib\\site-packages\\sklearn\\utils\\validation.py:856\u001b[0m, in \u001b[0;36mcheck_array\u001b[1;34m(array, accept_sparse, accept_large_sparse, dtype, order, copy, force_all_finite, ensure_2d, allow_nd, ensure_min_samples, ensure_min_features, estimator, input_name)\u001b[0m\n\u001b[0;32m    854\u001b[0m         array \u001b[39m=\u001b[39m array\u001b[39m.\u001b[39mastype(dtype, casting\u001b[39m=\u001b[39m\u001b[39m\"\u001b[39m\u001b[39munsafe\u001b[39m\u001b[39m\"\u001b[39m, copy\u001b[39m=\u001b[39m\u001b[39mFalse\u001b[39;00m)\n\u001b[0;32m    855\u001b[0m     \u001b[39melse\u001b[39;00m:\n\u001b[1;32m--> 856\u001b[0m         array \u001b[39m=\u001b[39m np\u001b[39m.\u001b[39;49masarray(array, order\u001b[39m=\u001b[39;49morder, dtype\u001b[39m=\u001b[39;49mdtype)\n\u001b[0;32m    857\u001b[0m \u001b[39mexcept\u001b[39;00m ComplexWarning \u001b[39mas\u001b[39;00m complex_warning:\n\u001b[0;32m    858\u001b[0m     \u001b[39mraise\u001b[39;00m \u001b[39mValueError\u001b[39;00m(\n\u001b[0;32m    859\u001b[0m         \u001b[39m\"\u001b[39m\u001b[39mComplex data not supported\u001b[39m\u001b[39m\\n\u001b[39;00m\u001b[39m{}\u001b[39;00m\u001b[39m\\n\u001b[39;00m\u001b[39m\"\u001b[39m\u001b[39m.\u001b[39mformat(array)\n\u001b[0;32m    860\u001b[0m     ) \u001b[39mfrom\u001b[39;00m \u001b[39mcomplex_warning\u001b[39;00m\n",
      "File \u001b[1;32mc:\\Users\\Lukas.loup\\AppData\\Local\\Programs\\Python\\Python310\\lib\\site-packages\\pandas\\core\\generic.py:2070\u001b[0m, in \u001b[0;36mNDFrame.__array__\u001b[1;34m(self, dtype)\u001b[0m\n\u001b[0;32m   2069\u001b[0m \u001b[39mdef\u001b[39;00m \u001b[39m__array__\u001b[39m(\u001b[39mself\u001b[39m, dtype: npt\u001b[39m.\u001b[39mDTypeLike \u001b[39m|\u001b[39m \u001b[39mNone\u001b[39;00m \u001b[39m=\u001b[39m \u001b[39mNone\u001b[39;00m) \u001b[39m-\u001b[39m\u001b[39m>\u001b[39m np\u001b[39m.\u001b[39mndarray:\n\u001b[1;32m-> 2070\u001b[0m     \u001b[39mreturn\u001b[39;00m np\u001b[39m.\u001b[39;49masarray(\u001b[39mself\u001b[39;49m\u001b[39m.\u001b[39;49m_values, dtype\u001b[39m=\u001b[39;49mdtype)\n",
      "\u001b[1;31mValueError\u001b[0m: could not convert string to float: 'Doppleschwand'"
     ]
    }
   ],
   "source": [
    "fsel = FeatureSelector(df_s,'Ständige Wohnbevölkerung Bevölkerungs-dichte1 in Pers./km2')\n",
    "fsel.f_test()"
   ]
  }
 ],
 "metadata": {
  "kernelspec": {
   "display_name": "Python 3",
   "language": "python",
   "name": "python3"
  },
  "language_info": {
   "codemirror_mode": {
    "name": "ipython",
    "version": 3
   },
   "file_extension": ".py",
   "mimetype": "text/x-python",
   "name": "python",
   "nbconvert_exporter": "python",
   "pygments_lexer": "ipython3",
   "version": "3.10.1"
  },
  "orig_nbformat": 4
 },
 "nbformat": 4,
 "nbformat_minor": 2
}
