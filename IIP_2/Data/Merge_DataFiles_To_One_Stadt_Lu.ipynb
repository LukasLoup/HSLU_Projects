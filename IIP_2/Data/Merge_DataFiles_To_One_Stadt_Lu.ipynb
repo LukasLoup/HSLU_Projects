{
 "cells": [
  {
   "cell_type": "code",
   "execution_count": 35,
   "metadata": {},
   "outputs": [],
   "source": [
    "import os\n",
    "import pandas as pd\n",
    "\n",
    "# Define the directory where the Excel files are located\n",
    "input_dir = '/Users/itz/Documents/_HSLU/2023_FS_IIP2/iip2/Data/Raw/Stadt_Luzern'\n",
    "\n",
    "# Define the directory where the modified Excel files will be saved\n",
    "output_dir = '/Users/itz/Documents/_HSLU/2023_FS_IIP2/iip2/Data/Preparation/Stadt_Luzern'\n",
    "\n",
    "# Get a list of all the Excel files in the input directory\n",
    "files = os.listdir(input_dir)\n",
    "excel_files = [f for f in files if f.endswith('.xlsx')]\n",
    "\n",
    "# Loop through each Excel file and modify it\n",
    "for file in excel_files:\n",
    "    # Load the Excel file into a Pandas DataFrame\n",
    "    df = pd.read_excel(os.path.join(input_dir, file), skiprows=4)\n",
    "    df.drop(range(34, 41), inplace=True)\n",
    "\n",
    "    # Save the modified DataFrame as a new Excel file\n",
    "    new_file = os.path.join(output_dir, file)\n",
    "    df.to_excel(new_file, index=False)\n"
   ]
  },
  {
   "cell_type": "code",
   "execution_count": 36,
   "metadata": {},
   "outputs": [],
   "source": [
    "# Define the directory where the Excel files are located\n",
    "input_dir = '/Users/itz/Documents/_HSLU/2023_FS_IIP2/iip2/Data/Preparation/Stadt_Luzern'\n",
    "\n",
    "# Define the directory where the modified Excel files will be saved\n",
    "output_dir = '/Users/itz/Documents/_HSLU/2023_FS_IIP2/iip2/Data/Preparation/Stadt_Luzern'\n",
    "\n",
    "# Get a list of all the Excel files in the input directory\n",
    "files = os.listdir(input_dir)\n",
    "excel_files = [f for f in files if f.endswith('.xlsx')]"
   ]
  },
  {
   "cell_type": "code",
   "execution_count": 37,
   "metadata": {},
   "outputs": [],
   "source": [
    "# Loop through each Excel file and modify it\n",
    "for file in excel_files:\n",
    "    # Load the Excel file into a Pandas DataFrame\n",
    "    file_path = os.path.join(input_dir, file)\n",
    "    df = pd.read_excel(file_path)\n",
    "\n",
    "    year = file[-9:-5]\n",
    "\n",
    "    df.columns.values[1] = \"Quartier ID\"\n",
    "    df.columns.values[2] = \"Mittlere Wohnbevölkerung Total\"\n",
    "    df.columns.values[3] = \"Ständige Wohnbevölkerung Total\"\n",
    "    df.columns.values[4] = \"Ständige Wohnbevölkerung Ausländeranteil in %\"\n",
    "    df.columns.values[5] = \"Ständige Wohnbevölkerung Bevölkerungsdichte in Pers./km2\"\n",
    "    df.columns.values[6] = \"Ständige Wohnbevölkerung Anteil 0-19-Jährige in %\"\n",
    "    df.columns.values[7] = \"Ständige Wohnbevölkerung Anteil 20-64-Jährige in %\"\n",
    "    df.columns.values[8] = \"Ständige Wohnbevölkerung Anteil 65-Jährige und Ältere in %\"\n",
    "    df['Jahr'] = year\n",
    "\n",
    "    # Save the modified DataFrame as a new Excel file\n",
    "    new_file = os.path.join(output_dir, file)\n",
    "    df.to_excel(new_file, index=False)"
   ]
  },
  {
   "cell_type": "code",
   "execution_count": 38,
   "metadata": {},
   "outputs": [],
   "source": [
    "# Define the directory where the Excel files are located\n",
    "input_dir = '/Users/itz/Documents/_HSLU/2023_FS_IIP2/iip2/Data/Preparation/Stadt_Luzern'\n",
    "\n",
    "# Get a list of all the Excel files in the input directory\n",
    "files = os.listdir(input_dir)\n",
    "excel_files = [f for f in files if f.endswith('.xlsx')]"
   ]
  },
  {
   "cell_type": "code",
   "execution_count": 39,
   "metadata": {},
   "outputs": [],
   "source": [
    "# Load the first Excel file into a Pandas DataFrame\n",
    "df_merged = pd.read_excel(os.path.join(input_dir, excel_files[0]))"
   ]
  },
  {
   "cell_type": "code",
   "execution_count": 40,
   "metadata": {},
   "outputs": [],
   "source": [
    "# Loop through each remaining Excel file and merge it with the existing DataFrame\n",
    "for file in excel_files[1:]:\n",
    "    df = pd.read_excel(os.path.join(input_dir, file))\n",
    "    df_merged = pd.concat([df_merged, df])"
   ]
  },
  {
   "cell_type": "code",
   "execution_count": 41,
   "metadata": {},
   "outputs": [],
   "source": [
    "# Save the merged DataFrame as a new Excel file\n",
    "output_path = '/Users/itz/Documents/_HSLU/2023_FS_IIP2/iip2/Data/Preparation/Stadt_Luzern/stadt_luzern_merged.xlsx'\n",
    "df_merged.to_excel(output_path, index=False)\n"
   ]
  }
 ],
 "metadata": {
  "kernelspec": {
   "display_name": "base",
   "language": "python",
   "name": "python3"
  },
  "language_info": {
   "codemirror_mode": {
    "name": "ipython",
    "version": 3
   },
   "file_extension": ".py",
   "mimetype": "text/x-python",
   "name": "python",
   "nbconvert_exporter": "python",
   "pygments_lexer": "ipython3",
   "version": "3.10.1"
  },
  "orig_nbformat": 4
 },
 "nbformat": 4,
 "nbformat_minor": 2
}
