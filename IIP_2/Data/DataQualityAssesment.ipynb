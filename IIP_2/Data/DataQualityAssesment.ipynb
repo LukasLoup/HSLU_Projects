{
 "cells": [
  {
   "cell_type": "code",
   "execution_count": 6,
   "metadata": {},
   "outputs": [
    {
     "name": "stdout",
     "output_type": "stream",
     "text": [
      "Warning: The dataset contains null or missing values.\n",
      "Warning: The dataset contains outliers or abnormal values.\n"
     ]
    },
    {
     "name": "stderr",
     "output_type": "stream",
     "text": [
      "C:\\Users\\hodel\\AppData\\Local\\Temp\\ipykernel_17900\\921870574.py:18: FutureWarning: Dropping of nuisance columns in DataFrame reductions (with 'numeric_only=None') is deprecated; in a future version this will raise TypeError.  Select only valid columns before calling the reduction.\n",
      "  z_scores = (df - df.mean()) / df.std()\n"
     ]
    },
    {
     "data": {
      "application/vnd.jupyter.widget-view+json": {
       "model_id": "63ca37c381974c8e8408229f0f3ba181",
       "version_major": 2,
       "version_minor": 0
      },
      "text/plain": [
       "Summarize dataset:   0%|          | 0/5 [00:00<?, ?it/s]"
      ]
     },
     "metadata": {},
     "output_type": "display_data"
    },
    {
     "data": {
      "application/vnd.jupyter.widget-view+json": {
       "model_id": "8805ccf92595449894a553848794354f",
       "version_major": 2,
       "version_minor": 0
      },
      "text/plain": [
       "Generate report structure:   0%|          | 0/1 [00:00<?, ?it/s]"
      ]
     },
     "metadata": {},
     "output_type": "display_data"
    },
    {
     "data": {
      "application/vnd.jupyter.widget-view+json": {
       "model_id": "fac23c1603534a858407a955b8e70a33",
       "version_major": 2,
       "version_minor": 0
      },
      "text/plain": [
       "Render HTML:   0%|          | 0/1 [00:00<?, ?it/s]"
      ]
     },
     "metadata": {},
     "output_type": "display_data"
    },
    {
     "data": {
      "application/vnd.jupyter.widget-view+json": {
       "model_id": "4a7080e5c9c64f1899e05a9bc6a1b8cc",
       "version_major": 2,
       "version_minor": 0
      },
      "text/plain": [
       "Export report to file:   0%|          | 0/1 [00:00<?, ?it/s]"
      ]
     },
     "metadata": {},
     "output_type": "display_data"
    }
   ],
   "source": [
    "import pandas as pd\n",
    "from pandas_profiling import ProfileReport\n",
    "\n",
    "# Load the Excel file into a Pandas DataFrame\n",
    "df = pd.read_excel('.\\\\Preparation\\\\merged.xlsx')\n",
    "\n",
    "# Check for null or missing values\n",
    "if df.isnull().values.any():\n",
    "    print('Warning: The dataset contains null or missing values.')\n",
    "\n",
    "# Check for duplicates\n",
    "if df.duplicated().values.any():\n",
    "    print('Warning: The dataset contains duplicate rows.')\n",
    "\n",
    "# Check for outliers or abnormal values\n",
    "# You can use various statistical techniques for this, depending on the nature of your data\n",
    "# Here's an example using the z-score method:\n",
    "z_scores = (df - df.mean()) / df.std()\n",
    "if (z_scores.abs() > 3).any().any():\n",
    "    print('Warning: The dataset contains outliers or abnormal values.')\n",
    "\n",
    "# Generate a report using Pandas Profiling\n",
    "report = ProfileReport(df)\n",
    "\n",
    "# Save the report as an HTML file\n",
    "report.to_file('.\\\\report.html')"
   ]
  },
  {
   "cell_type": "code",
   "execution_count": 31,
   "metadata": {},
   "outputs": [
    {
     "name": "stderr",
     "output_type": "stream",
     "text": [
      "C:\\Users\\hodel\\AppData\\Local\\Temp\\ipykernel_17900\\96253772.py:11: SettingWithCopyWarning: \n",
      "A value is trying to be set on a copy of a slice from a DataFrame\n",
      "\n",
      "See the caveats in the documentation: https://pandas.pydata.org/pandas-docs/stable/user_guide/indexing.html#returning-a-view-versus-a-copy\n",
      "  emmen_df.rename(columns={'Ständige Wohnbevölkerung Bevölkerungs-dichte1 in Pers./km2': 'Dichte'}, inplace=True)\n"
     ]
    }
   ],
   "source": [
    "import pandas as pd\n",
    "import matplotlib.pyplot as plt\n",
    "import matplotlib\n",
    "matplotlib.use('TkAgg')\n",
    "\n",
    "# Load the Excel file into a Pandas DataFrame\n",
    "df = pd.read_excel('.\\\\Preparation\\\\merged.xlsx')\n",
    "\n",
    "# Filter the rows where the \"Gemeinde\" column is \"Emmen\"\n",
    "emmen_df = df[df['Gemeinde'] == 'Root']\n",
    "emmen_df.rename(columns={'Ständige Wohnbevölkerung Bevölkerungs-dichte1 in Pers./km2': 'Dichte'}, inplace=True)\n",
    "\n",
    "plt.scatter(emmen_df['Jahr'], emmen_df['Dichte'])\n",
    "plt.ylabel('Ständige Wohnbevölkerung Bevölkerungsdichte1 in Pers./km2')\n",
    "plt.xlabel('Jahr')\n",
    "plt.title('Scatter plot of Emmen data')\n",
    "plt.show()\n"
   ]
  }
 ],
 "metadata": {
  "kernelspec": {
   "display_name": "base",
   "language": "python",
   "name": "python3"
  },
  "language_info": {
   "codemirror_mode": {
    "name": "ipython",
    "version": 3
   },
   "file_extension": ".py",
   "mimetype": "text/x-python",
   "name": "python",
   "nbconvert_exporter": "python",
   "pygments_lexer": "ipython3",
   "version": "3.9.13"
  },
  "orig_nbformat": 4
 },
 "nbformat": 4,
 "nbformat_minor": 2
}
