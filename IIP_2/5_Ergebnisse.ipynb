{
 "cells": [
  {
   "attachments": {},
   "cell_type": "markdown",
   "metadata": {},
   "source": [
    "# Ergebnisse"
   ]
  },
  {
   "attachments": {},
   "cell_type": "markdown",
   "metadata": {},
   "source": [
    "Dieses Notebook enthält die Analyse unserer Ergbnisse sowie den Code zur Auswertung des Models anhand der Testdaten. Das Laden der Daten und das Trainieren des Models dauern jeweils ca. 2 Minuten. Nach dem Trainieren wird ein Dokument mit den Modellgewichten gespeicher."
   ]
  },
  {
   "attachments": {},
   "cell_type": "markdown",
   "metadata": {},
   "source": [
    "### Ergebnisse Testdaten"
   ]
  },
  {
   "attachments": {},
   "cell_type": "markdown",
   "metadata": {},
   "source": [
    "Die Auswertung der Testdaten zeigt eine zufriedenstellende Performance mit Blick auf das gesamte Modell. Sowohl der R2-Wert als auch der MAPE (Mean Absolute Percentage Error) liegen etwas unter den Werten der Validierung, sind jedoch nicht wesentlich schlechter. Interessanterweise scheint es bei der Analyse nach Gemeindetypologien eine Verschiebung der Probleme zu geben. In der Kategorie \"Land\" erzielt das Modell bessere Ergebnisse auf den Testdaten als in der Validierung, während es bei der Kategorie \"Kern\" genau umgekehrt ist. \n",
    "\n",
    "Bei genauerer Betrachtung der einzelnen Gemeinden treten jedoch unvorhersehbare Probleme auf. Die Gemeinden Emme, Kriens, Menznau, Luzern, Pfaffnau, Ruswil und Willisau weisen nicht nur eine sehr schlechte Performance auf, sondern auch eine unerklärliche. Die Vorhersagen des Modells treffen nicht nur nicht mit der Realität überein, sondern zeigen auch keinerlei Konsistenz. Die prognostizierte Bevölkerung springt von Jahr zu Jahr mit grossen Unterschieden. "
   ]
  },
  {
   "attachments": {},
   "cell_type": "markdown",
   "metadata": {},
   "source": [
    "### Interpretation der Ergebnisse und Fehleranalyse "
   ]
  },
  {
   "attachments": {},
   "cell_type": "markdown",
   "metadata": {},
   "source": [
    "Die drei bevölkerungsreichsten Gemeinden weisen die schlechteste Performance auf. Das Modell scheint hierbei besondere Schwierigkeiten zu haben. Eine mögliche Erklärung dafür könnte darin liegen, dass diese Gemeinden in ihrer Einzigartigkeit hervorstechen. Im Kanton Luzern gibt es eine Vielzahl kleinerer und mittelgrosser Gemeinden, jedoch keine vergleichbare Gemeinde wie Luzern. Daher besteht der Verdacht, dass das Modell zu stark auf das Vorhersagen von kleineren Gemeinden trainiert wurde und Schwierigkeiten hat, gute Ergebnisse bei grösseren Gemeinden zu erzielen. \n",
    "\n",
    "Eine potenzielle Lösung könnte darin bestehen, beim Training Gemeinden ähnlicher Grösse aus anderen Kantonen einzubeziehen. Auf diese Weise könnte das Modell von diesen Gemeinden lernen.  \n",
    "\n",
    "Der Verdacht, dass das Problem der \"dummy variable trap\" eine Ursache für die Schwierigkeiten sein könnte, hat sich nicht bestätigt. Nachdem dieser Fehler behoben wurde, ergab sich keine Verbesserung der Performance des Modells. \n",
    "\n",
    "Um die Performance der \"Problem-Gemeinden\" zu verbessern, wurden einige Tests durchgeführt, wobei der Fokus auf die Gemeinde Luzern lag, da sie die schlechtesten Ergebnisse erzielt hat. Dabei stellte sich heraus, dass die Entfernung einiger Merkmale in Verbindung mit dem Ausschluss der Jahre 1991 bis 1998 signifikante Verbesserungen in der Performance bewirkte. Insbesondere die Features \"Wohnungen Total\" und \"Anzahl Privathaushalte\" erwiesen sich als ausschlaggebend für diese Verbesserungen. Es lässt sich jedoch nicht abschliessend erklären, warum sich diese beiden Features negativ auf die Performance der Testdaten auswirkte. \n",
    "\n",
    "Eine weitere Beobachtung ist, dass sich die Performance der starken Ausreisser verbessert, wenn anstelle der absoluten Bevölkerungszahl die Bevölkerungsdichte vorhergesagt wird. In diesem Szenario zeigt lediglich die Gemeinde Kriens weiterhin sehr schlechte Ergebnisse, während die anderen Gemeinden sich dem Durchschnitt annähern. Es scheint möglich zu sein, dass die Bevölkerungsdichte über den gesamten Datensatz hinweg in einem etwas komprimierteren Spektrum liegt, was es dem Modell ermöglicht, besser damit umzugehen. \n",
    "\n",
    "Es kann vermutet werden, dass die Verwendung der Bevölkerungsdichte als Vorhersageziel dem Modell eine gewisse Normalisierung ermöglicht und somit die Performance bei den einwohnerstarken Gemeinden verbessert. Das könnte darauf hindeuten, dass die Bevölkerungsdichte als Merkmal eine bessere Einordnung und Vergleichbarkeit zwischen den Gemeinden ermöglicht als die absolute Bevölkerungszahl. \n",
    "\n",
    "Es ist wichtig zu betonen, dass diese Änderungen nur zu Analysezwecken ausgeführt wurden und nicht in das endgültige Modell übernommen wurden. "
   ]
  },
  {
   "attachments": {},
   "cell_type": "markdown",
   "metadata": {},
   "source": [
    "### Requirements"
   ]
  },
  {
   "attachments": {},
   "cell_type": "markdown",
   "metadata": {},
   "source": [
    "Dieses Notebook benötigt das Excel 'Alle_Daten'."
   ]
  },
  {
   "attachments": {},
   "cell_type": "markdown",
   "metadata": {},
   "source": [
    "#### Python version"
   ]
  },
  {
   "attachments": {},
   "cell_type": "markdown",
   "metadata": {},
   "source": [
    "Python version used in this notebook: Python 3.10.2"
   ]
  },
  {
   "attachments": {},
   "cell_type": "markdown",
   "metadata": {},
   "source": [
    "#### Libaries"
   ]
  },
  {
   "cell_type": "code",
   "execution_count": null,
   "metadata": {},
   "outputs": [],
   "source": [
    "!pip install pandas\n",
    "!pip install numpy\n",
    "!pip install matplotlib\n",
    "!pip install seaborn\n",
    "!pip install scikit-learn\n",
    "!pip install ipywidgets"
   ]
  },
  {
   "attachments": {},
   "cell_type": "markdown",
   "metadata": {},
   "source": [
    "### Imports"
   ]
  },
  {
   "cell_type": "code",
   "execution_count": null,
   "metadata": {},
   "outputs": [],
   "source": [
    "import numpy as np\n",
    "import pandas as pd\n",
    "import matplotlib.pyplot as plt \n",
    "import seaborn as sns\n",
    "import pickle\n",
    "import ipywidgets as widgets\n",
    "\n",
    "from sklearn.metrics import mean_absolute_percentage_error, r2_score\n",
    "from sklearn.preprocessing import StandardScaler\n",
    "from sklearn.svm import SVR"
   ]
  },
  {
   "cell_type": "code",
   "execution_count": null,
   "metadata": {},
   "outputs": [],
   "source": [
    "# define the target column\n",
    "target = \"Ständige Wohnbevölkerung Total\""
   ]
  },
  {
   "attachments": {},
   "cell_type": "markdown",
   "metadata": {},
   "source": [
    "### Funktionen"
   ]
  },
  {
   "attachments": {},
   "cell_type": "markdown",
   "metadata": {},
   "source": [
    "Datensatz von Excel einlesen"
   ]
  },
  {
   "cell_type": "code",
   "execution_count": null,
   "metadata": {},
   "outputs": [],
   "source": [
    "def read_excel():\n",
    "    # Function to read in excel\n",
    "    column_names_to_load = [\n",
    "        'Siedlungsfläche_in_%', \n",
    "        'Landwirtschafts-fläche_in_%',\n",
    "        'Betriebe_total',\n",
    "        'Wohnungen - Total',\n",
    "        'Anzahl_Privathaushalte',\n",
    "        'Gemeindename',\n",
    "        'Gemeindetypologien',\n",
    "        target]\n",
    "\n",
    "    # Load all data from excel\n",
    "    path = 'Data/Preparation/Kennzahlen_aller_Gemeinden/Alle_Daten.xlsx'\n",
    "    data = pd.read_excel(path, header=[0,1], index_col=[0,1])\n",
    "\n",
    "    # Extract wanted columns\n",
    "    column_mask = data.columns.isin(column_names_to_load, level=1)\n",
    "    data = data.loc[:, column_mask]\n",
    "\n",
    "    # Drop top level column names\n",
    "    data = data.droplevel(0,axis=1)\n",
    "\n",
    "    # Reset index\n",
    "    data = data.reset_index()\n",
    "    return data"
   ]
  },
  {
   "attachments": {},
   "cell_type": "markdown",
   "metadata": {},
   "source": [
    "Definiere die Splits"
   ]
  },
  {
   "cell_type": "code",
   "execution_count": null,
   "metadata": {},
   "outputs": [],
   "source": [
    "def train_test_split(data, test_length):\n",
    "    # Function for train and test split\n",
    "    start_year = 1991\n",
    "    amount_of_years = 30\n",
    "\n",
    "    # Define length of splits\n",
    "    train_length = amount_of_years - test_length\n",
    "\n",
    "    # Define years where train and validation split ends\n",
    "    train_data_end_year = start_year + train_length\n",
    "\n",
    "    # Apply splits\n",
    "    train = data[data['Jahr'] <= train_data_end_year]\n",
    "    test = data[data['Jahr'] > train_data_end_year]\n",
    "    \n",
    "    return train, test"
   ]
  },
  {
   "attachments": {},
   "cell_type": "markdown",
   "metadata": {},
   "source": [
    "Definiere x und y"
   ]
  },
  {
   "cell_type": "code",
   "execution_count": null,
   "metadata": {},
   "outputs": [],
   "source": [
    "def x_y_split(data):\n",
    "    # Function for x and y split\n",
    "    y_column_name = target\n",
    "\n",
    "    x_column_names = [\n",
    "        'Jahr',\n",
    "        'Siedlungsfläche_in_%', \n",
    "        'Landwirtschafts-fläche_in_%',\n",
    "        'Betriebe_total',\n",
    "        'Wohnungen - Total',\n",
    "        'Anzahl_Privathaushalte',\n",
    "        'Gemeindename',\n",
    "        'Gemeindetypologien'\n",
    "        ]\n",
    "\n",
    "    # Execute the y split\n",
    "    y = data[y_column_name]\n",
    "    y.name = \"y\"\n",
    "\n",
    "    x = data[x_column_names]\n",
    "\n",
    "    assert len(x) == len(y), 'X and Y split need to have the same length'\n",
    "\n",
    "    return x, y"
   ]
  },
  {
   "attachments": {},
   "cell_type": "markdown",
   "metadata": {},
   "source": [
    "Dummyvariable und Skalierung"
   ]
  },
  {
   "cell_type": "code",
   "execution_count": null,
   "metadata": {},
   "outputs": [],
   "source": [
    "def set_dummy_variables(x):\n",
    "    # Function to set dummie variables\n",
    "    # Set dummie variables for the column Gemeindetypologien and Gemeindename \n",
    "    return pd.get_dummies(x, columns=['Gemeindetypologien', 'Gemeindename'])\n",
    "\n",
    "def scale(x, scaler):\n",
    "    # Function to scale the data\n",
    "    # Store the column names that it can be reapplied after scaling\n",
    "    x_columns = x.columns\n",
    "\n",
    "    # Scale the data with the StandardScaler\n",
    "    if not scaler:\n",
    "        scaler = StandardScaler()\n",
    "        x = scaler.fit_transform(x)\n",
    "    else:\n",
    "        x = scaler.transform(x)\n",
    "    \n",
    "    # Create pandas dataframes from ndArrays and reapply columnnames\n",
    "    x = pd.DataFrame(x, columns=x_columns)\n",
    "\n",
    "    return x, scaler"
   ]
  },
  {
   "attachments": {},
   "cell_type": "markdown",
   "metadata": {},
   "source": [
    "Extrahiere Daten für die Visualisierungen"
   ]
  },
  {
   "cell_type": "code",
   "execution_count": null,
   "metadata": {},
   "outputs": [],
   "source": [
    "def get_jahre(x):\n",
    "    # Function to get all years from the x set\n",
    "    return list(x['Jahr'].unique())\n",
    "\n",
    "def get_gemeinde_and_gemeindetypologien(x):\n",
    "    # Function to get all municipalities and the dummy variable column names\n",
    "    gemeinden = x.columns.tolist()[11:]\n",
    "\n",
    "    # All gemeindetypologien dummy variable column names\n",
    "    gemeinden_typologien = x.columns.tolist()[6:10]\n",
    "\n",
    "    return gemeinden, gemeinden_typologien"
   ]
  },
  {
   "attachments": {},
   "cell_type": "markdown",
   "metadata": {},
   "source": [
    "Definiere Metriken"
   ]
  },
  {
   "cell_type": "code",
   "execution_count": null,
   "metadata": {},
   "outputs": [],
   "source": [
    "def evaluate(y, y_pred):\n",
    "    # Calculate the R2 and MAPE and print it \n",
    "    r2 = r2_score(y, y_pred)\n",
    "    mape = mean_absolute_percentage_error(y, y_pred)\n",
    "    print('R2: ', r2)\n",
    "    print('MAPE: ', mape)"
   ]
  },
  {
   "attachments": {},
   "cell_type": "markdown",
   "metadata": {},
   "source": [
    "Koeffizienten"
   ]
  },
  {
   "cell_type": "code",
   "execution_count": null,
   "metadata": {},
   "outputs": [],
   "source": [
    "def get_coeff(model):\n",
    "    # get the coefficients from the diffrent models\n",
    "    type_switch = {\n",
    "        SVR: lambda x: x.dual_coef_,\n",
    "    }\n",
    "\n",
    "    return type_switch[type(model)](model).tolist()"
   ]
  },
  {
   "attachments": {},
   "cell_type": "markdown",
   "metadata": {},
   "source": [
    "Plotfunktion für einzelne Gemeinden"
   ]
  },
  {
   "cell_type": "code",
   "execution_count": null,
   "metadata": {},
   "outputs": [],
   "source": [
    "def plot_gemeinde(gemeinde, jahre_train, jahre_test, x_list, y_list, y_pred_list):    \n",
    "    # Concat the train and validation set for the X data set\n",
    "    x = pd.concat(x_list, axis=0).reset_index()\n",
    "\n",
    "    # Concat the train and validation set for the Y data set\n",
    "    y = pd.concat(y_list, axis=0).reset_index()\n",
    "    \n",
    "    # Concat the predicted values from the train and validation set\n",
    "    y_pred = pd.concat(y_pred_list, axis=0).reset_index()\n",
    "\n",
    "    # Concat the X, Y, and the predicted values\n",
    "    visualisation_all_gemeinde_data = pd.concat([pd.DataFrame(x), y, y_pred], axis=1)\n",
    "\n",
    "    # Extract the data for one gemeinde. Get the rows where the gemeinde dummy variable is positive\n",
    "    visualisation_gemeinde_data = visualisation_all_gemeinde_data[visualisation_all_gemeinde_data[gemeinde] > 0]\n",
    "\n",
    "    # Extract the expected and the predicted value\n",
    "    gemeinde_data_y = visualisation_gemeinde_data['y']\n",
    "    gemeinde_pred = visualisation_gemeinde_data['pred']\n",
    "\n",
    "    # Plot the data\n",
    "    plt.figure()\n",
    "\n",
    "    # Set title on plot\n",
    "    plt.title(gemeinde)\n",
    "    \n",
    "    # plot the expected data as dots\n",
    "    plt.scatter(jahre_train, gemeinde_data_y[:len(jahre_train)], label='Train')\n",
    "    plt.scatter(jahre_test, gemeinde_data_y[len(jahre_train):len(jahre_train) + len(jahre_test)], color='lightgreen', label='Test')\n",
    "\n",
    "    # plot the prediction as line\n",
    "    plt.plot(jahre_train + jahre_test, gemeinde_pred, color=\"black\", label='Prediction')\n",
    "\n",
    "    # Show legend\n",
    "    plt.legend()\n",
    "\n",
    "    # activate this for fixed y-axis\n",
    "    # plt.ylim([50, 2500])\n",
    "\n",
    "    plt.show()\n",
    "\n",
    "    # Save the image and close the plot that it doesn't display in the jupyter notebook\n",
    "    #plt.savefig(f'{folder}/Gemeinden/{gemeinde}.png')\n",
    "    #plt.close()\n",
    "      "
   ]
  },
  {
   "attachments": {},
   "cell_type": "markdown",
   "metadata": {},
   "source": [
    "Plotfunktionen zur Evaluierung"
   ]
  },
  {
   "cell_type": "code",
   "execution_count": null,
   "metadata": {},
   "outputs": [],
   "source": [
    "def plot_std(folder, dataframe, gemeinden_typologien):\n",
    "    # create a figure with subplots\n",
    "    fig, axes = plt.subplots(nrows=2, ncols=2, figsize=(10,8))\n",
    "    fig.subplots_adjust(left=0.1, right=0.9, bottom=0.1, top=0.9)\n",
    "\n",
    "\n",
    "    # iterate over the columns and plot each one in a subplot\n",
    "    for ax, gemeinden_typologie in zip(axes.flat, gemeinden_typologien):\n",
    "        # extract the column \n",
    "        subset = dataframe[dataframe[gemeinden_typologie] > 0][['Delta_Percent']]\n",
    "        column_data = subset['Delta_Percent']\n",
    "\n",
    "        # calculate the mean and standard deviation\n",
    "        mean = column_data.mean()\n",
    "        std = column_data.std()\n",
    "\n",
    "        # plot the density plot with a shaded area for the standard deviation and a line for the mean\n",
    "        ax = sns.kdeplot(column_data, fill=False, ax=ax, color='red', linewidth=1, label='absolut percentage error', bw_adjust=0.3)\n",
    "        ax.axvline(mean, color='black', linestyle='dotted', linewidth=1, label = 'mean absolute percentage error: ' + str(round(mean, 1)))\n",
    "        ax.fill_betweenx([0, ax.get_ylim()[1]], mean-std, mean+std, alpha=0.3, color='blue', label=\"standard deviation: \" + str(round(std, 1)) + \" %\")\n",
    "\n",
    "        #labels\n",
    "        ax.set_xlabel('absolut percentage error')\n",
    "        ax.set_ylabel('density')\n",
    "        ax.set_title(gemeinden_typologie, fontsize=10)\n",
    "        ax.legend()\n",
    "        ax.grid(False)\n",
    "\n",
    "\n",
    "    # set same scale for all subplots\n",
    "    for ax in axes.flat:\n",
    "        ax.set_xlim([-5, 25])\n",
    "        ax.set_ylim([0, 0.28])\n",
    "        ax.tick_params(axis='both', labelsize=8)\n",
    "\n",
    "    # adjust the layout and show the figure\n",
    "    fig.tight_layout()\n",
    "    plt.show()\n",
    "\n",
    "    #Save the image and close the plot that it doesn't display in the jupyter notebook\n",
    "    #plt.savefig(f'{folder}/standard_deviation.png')\n",
    "    #plt.close()"
   ]
  },
  {
   "cell_type": "code",
   "execution_count": null,
   "metadata": {},
   "outputs": [],
   "source": [
    "def plot_density(folder, visualisation_all_gemeindetypologien_data):\n",
    "    plt.subplots_adjust(left=0.1, right=0.9, bottom=0.1, top=0.9)\n",
    "\n",
    "    # Create density plot\n",
    "    sns.set_style('whitegrid')\n",
    "    sns.kdeplot(visualisation_all_gemeindetypologien_data['Delta_Percent'], fill=True, color='red', bw_adjust=0.5)\n",
    "    \n",
    "    # Plot mean and median\n",
    "    mean = np.mean(visualisation_all_gemeindetypologien_data['Delta_Percent'])\n",
    "    plt.axvline(x=mean, color='black', linestyle='dotted', linewidth=1.3, label='mean absolut percentage error: ' + str(round(mean, 1)))\n",
    "    median = np.median(visualisation_all_gemeindetypologien_data['Delta_Percent'])\n",
    "    plt.axvline(x=median, color='blue', linestyle='dotted', linewidth=1.3, label='median absolut percentage error: ' + str(round(median, 1)))\n",
    "    \n",
    "    # Calculate 15% and 85% quantiles\n",
    "    cutoff15 = np.percentile(visualisation_all_gemeindetypologien_data['Delta_Percent'], q=85)\n",
    "    cutoff85 = np.percentile(visualisation_all_gemeindetypologien_data['Delta_Percent'], q=15)\n",
    "\n",
    "    # Plot quantiles\n",
    "    plt.axvline(x=cutoff15, color='red', linestyle='dotted', linewidth=1.3, label='15% quantile: '+ str(round(cutoff85, 1)))\n",
    "    plt.axvline(x=cutoff85, color='red', linestyle='dotted', linewidth=1.3, label='85% quantile: ' + str(round(cutoff15, 1)))\n",
    "\n",
    "    # Add labels and title\n",
    "    plt.xlabel('absolut percentage error', labelpad=10)\n",
    "    plt.ylabel('density', labelpad=10)\n",
    "    plt.title('distribution - absolut percentage error', fontsize=10)\n",
    "    plt.tick_params(axis='both', labelsize=8)\n",
    "    \n",
    "    # Show legend\n",
    "    plt.legend()\n",
    "    plt.grid(False)\n",
    "\n",
    "    plt.show()\n",
    "\n",
    "    # Save the image\n",
    "    #plt.savefig(f'{folder}/density.png')\n",
    "    #plt.close()\n",
    "    "
   ]
  },
  {
   "cell_type": "code",
   "execution_count": null,
   "metadata": {},
   "outputs": [],
   "source": [
    "def plot_violin_plot(folder, gemeinden_typologien, visualisation_all_gemeindetypologien_data):\n",
    "    plt.figure(figsize=(6, 4))\n",
    "\n",
    "    # Extract the data for each Gemeindetypologie\n",
    "    gemeinden_typologien_violin_party = []\n",
    "\n",
    "    # Loop over all Gemeindetypologien\n",
    "    for gemeinden_typologie in gemeinden_typologien: \n",
    "        gemeinden_typologien_violin_party.append(\n",
    "            # Extract the data for one Gemeindetypologie. Get the rows where the Gemeindetypologie dummy variable is positive\n",
    "            visualisation_all_gemeindetypologien_data[visualisation_all_gemeindetypologien_data[gemeinden_typologie] > 0]['Delta_Percent']\n",
    "        )\n",
    "    \n",
    "\n",
    "    # Create violin plot\n",
    "    violin_parts = plt.violinplot(gemeinden_typologien_violin_party, showmeans=False, showmedians=True)\n",
    "\n",
    "    # xtick labels\n",
    "    typologien_list = [''] + [gemeinden_typologie[19:] for gemeinden_typologie in gemeinden_typologien] + ['']\n",
    "\n",
    "    # Set title\n",
    "    plt.title(\"Absolute Percentage error of predictions\", fontsize=12, pad=20)\n",
    "\n",
    "    # Set lables\n",
    "    plt.xlabel('Gemeindetypologien', fontsize=12, labelpad=10)\n",
    "    plt.ylabel('Absolute Percentage Error', fontsize=12, labelpad=10)\n",
    "    plt.xticks(list(range(len(typologien_list))), typologien_list, fontsize=10)\n",
    "    plt.yticks(fontsize=10)\n",
    "    plt.grid(True)\n",
    "\n",
    "    # Set color\n",
    "    for pc in violin_parts['bodies']:\n",
    "        pc.set_facecolor('red')\n",
    "        pc.set_color('red')\n",
    "        pc.set_edgecolor('black')\n",
    "\n",
    "    for partname in ('cbars','cmins','cmaxes','cmedians'):\n",
    "        vp = violin_parts[partname]\n",
    "        vp.set_edgecolor('red')\n",
    "        vp.set_linewidth(1)\n",
    "    \n",
    "    plt.show()\n",
    "    \n",
    "    # Save the image\n",
    "    #plt.savefig(f'{folder}/topologien.png')\n",
    "    #plt.close()\n",
    "    \n"
   ]
  },
  {
   "attachments": {},
   "cell_type": "markdown",
   "metadata": {},
   "source": [
    "Funktion zur Datenvorbereitung und Ansteuerung der Plotfunktionen"
   ]
  },
  {
   "cell_type": "code",
   "execution_count": null,
   "metadata": {},
   "outputs": [],
   "source": [
    "def plot_gemeinde_typologie(gemeinden_typologien, x, y, y_pred, folder = None):\n",
    "    # Concat the X, Y, and the predicted values\n",
    "    visualisation_all_gemeindetypologien_data = pd.concat([x.reset_index(), y.reset_index(), y_pred.reset_index()], axis=1)\n",
    "    \n",
    "\n",
    "    # Calculate delta for each prediction\n",
    "    visualisation_all_gemeindetypologien_data['Delta'] = visualisation_all_gemeindetypologien_data['pred'] - visualisation_all_gemeindetypologien_data['y']   \n",
    "\n",
    "    # Calculate the absolute percentage error for each prediction\n",
    "    visualisation_all_gemeindetypologien_data['Delta_Percent'] = 100\n",
    "    visualisation_all_gemeindetypologien_data['Delta_Percent'] = (abs(visualisation_all_gemeindetypologien_data['Delta']) / visualisation_all_gemeindetypologien_data['pred'] ) * 100\n",
    "    #return visualisation_all_gemeindetypologien_data\n",
    "    print('Violin plot: distribution absolut percentage error per Gemeindetyplogie')\n",
    "    plot_violin_plot(folder, gemeinden_typologien, visualisation_all_gemeindetypologien_data)\n",
    "    print('Density plot: distribution absolut percentage error')\n",
    "    plot_density(folder, visualisation_all_gemeindetypologien_data)\n",
    "    print('Density plots: distribution absolut percentage error and standar deviation per Gemeindetypologie')\n",
    "    plot_std(folder, visualisation_all_gemeindetypologien_data, gemeinden_typologien)\n",
    "\n"
   ]
  },
  {
   "attachments": {},
   "cell_type": "markdown",
   "metadata": {},
   "source": [
    "### Datenaufbereitung"
   ]
  },
  {
   "cell_type": "code",
   "execution_count": null,
   "metadata": {},
   "outputs": [],
   "source": [
    "TRAIN_LENGTH = 22\n",
    "TEST_LENGTH = 8 \n",
    "\n",
    "# Load data if not already loaded\n",
    "data = read_excel()\n",
    "\n",
    "# Split\n",
    "train, test = train_test_split(data, TEST_LENGTH)\n",
    "\n",
    "x_train, y_train = x_y_split(train)\n",
    "x_test, y_test = x_y_split(test)\n",
    "\n",
    "# Set dummy variables\n",
    "x_train = set_dummy_variables(x_train)\n",
    "x_test = set_dummy_variables(x_test)\n",
    "\n",
    "# Extract data for visualisations before scaling\n",
    "jahre_train = get_jahre(x_train)\n",
    "jahre_test = get_jahre(x_test)\n",
    "gemeinden, gemeinden_typologien = get_gemeinde_and_gemeindetypologien(x_test)\n",
    "\n",
    "# Scale the data\n",
    "x_train, scaler = scale(x_train, None)\n",
    "x_test, scaler = scale(x_test, scaler)"
   ]
  },
  {
   "attachments": {},
   "cell_type": "markdown",
   "metadata": {},
   "source": [
    "### Model trainieren"
   ]
  },
  {
   "attachments": {},
   "cell_type": "markdown",
   "metadata": {},
   "source": [
    "Die Entscheidung für welches Model und das Tunen der Hyperparamter sind zu diesem Zeitpunkt bereits abgeschlossen."
   ]
  },
  {
   "cell_type": "code",
   "execution_count": null,
   "metadata": {},
   "outputs": [],
   "source": [
    "# Create model\n",
    "model_name = f'T{TRAIN_LENGTH} V{TEST_LENGTH} SVR POLY3 C=80 Gamma=0.015'\n",
    "model = SVR(kernel='poly', degree=3, C=30, gamma=0.1)\n",
    "\n",
    "print(\"Trying model:\", model_name)\n",
    "\n",
    "\n",
    "# Train Model\n",
    "model.fit(x_train, y_train)\n",
    "\n",
    "# or load already stored weights if desired\n",
    "# with open(f'model_weights.pkl', 'rb') as f:\n",
    "#     model = pickle.load(f)\n",
    "\n",
    "# Save the trained model weights\n",
    "with open(f'model_weights.pkl', 'wb') as f:\n",
    "    pickle.dump(model, f)\n",
    "\n",
    "\n",
    "# Prediction\n",
    "y_pred_train = pd.Series(model.predict(x_train), name = 'pred')\n",
    "y_pred_test = pd.Series(model.predict(x_test), name = 'pred')\n",
    "        "
   ]
  },
  {
   "attachments": {},
   "cell_type": "markdown",
   "metadata": {},
   "source": [
    "### Model evaluieren"
   ]
  },
  {
   "cell_type": "code",
   "execution_count": null,
   "metadata": {},
   "outputs": [],
   "source": [
    "coeff = get_coeff(model)\n",
    "# dict comprehension of coeff and x_train.columns\n",
    "coeff_columns = {k: v for k, v in zip(x_train.columns, *coeff)}\n",
    "\n",
    "evaluate(y_test, y_pred_test)\n",
    "print()\n",
    "\n",
    "print('Coefficients:')\n",
    "for key in coeff_columns:\n",
    "    print(key, coeff_columns[key])"
   ]
  },
  {
   "attachments": {},
   "cell_type": "markdown",
   "metadata": {},
   "source": [
    "### Visualisierung des Outputs"
   ]
  },
  {
   "attachments": {},
   "cell_type": "markdown",
   "metadata": {},
   "source": [
    "Über das widget können einzelne Gemeinden ausgewählt und betrachtet werden."
   ]
  },
  {
   "cell_type": "code",
   "execution_count": null,
   "metadata": {},
   "outputs": [],
   "source": [
    "def call_plots(Gemeinde):\n",
    "    plot_gemeinde(Gemeinde, \n",
    "    jahre_train, \n",
    "    jahre_test,\n",
    "    [x_train, x_test], \n",
    "    [y_train, y_test], \n",
    "    [y_pred_train, y_pred_test]\n",
    "    )\n",
    "\n",
    "\n",
    "widgets.interact(call_plots, Gemeinde=widgets.Dropdown(\n",
    "    options=gemeinden\n",
    "));"
   ]
  },
  {
   "attachments": {},
   "cell_type": "markdown",
   "metadata": {},
   "source": [
    "Plots der Evaluierung"
   ]
  },
  {
   "cell_type": "code",
   "execution_count": null,
   "metadata": {},
   "outputs": [],
   "source": [
    "plot_gemeinde_typologie(gemeinden_typologien, \n",
    "                        x_test, \n",
    "                        y_test,\n",
    "                        y_pred_test\n",
    "                            )"
   ]
  }
 ],
 "metadata": {
  "kernelspec": {
   "display_name": "Python 3",
   "language": "python",
   "name": "python3"
  },
  "language_info": {
   "codemirror_mode": {
    "name": "ipython",
    "version": 3
   },
   "file_extension": ".py",
   "mimetype": "text/x-python",
   "name": "python",
   "nbconvert_exporter": "python",
   "pygments_lexer": "ipython3",
   "version": "3.10.2"
  },
  "orig_nbformat": 4
 },
 "nbformat": 4,
 "nbformat_minor": 2
}
