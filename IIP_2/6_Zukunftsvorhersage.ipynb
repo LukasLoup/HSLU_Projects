{
 "cells": [
  {
   "attachments": {},
   "cell_type": "markdown",
   "metadata": {},
   "source": [
    "# Zukunftsvorhersage"
   ]
  },
  {
   "attachments": {},
   "cell_type": "markdown",
   "metadata": {},
   "source": [
    "Dieses Notebook enthält den Code, um Vorhersagen für die Wohnbevölkerung der Gemeinden des Kanton Luzerns zu machen. Das Trainieren des Models benötig 1 bis 2 Minuten."
   ]
  },
  {
   "attachments": {},
   "cell_type": "markdown",
   "metadata": {},
   "source": [
    "### Vorhersage"
   ]
  },
  {
   "attachments": {},
   "cell_type": "markdown",
   "metadata": {},
   "source": [
    "Im vorangegangenen Notebook wurden die Ergebnisse des Modells anhand der Testdaten diskutiert. Das eigentliche Ziel besteht jedoch darin, das Modell zur Vorhersage zukünftiger Jahre einzusetzen. Um dieses Szenario zu simulieren, wurde das Modell erneut trainiert, wobei sämtliche verfügbaren Daten verwendet wurden, ohne dabei die Hyperparameter anzupassen. Anschliessend wurden mithilfe dieses Modells Vorhersagen für die Bevölkerungszahlen der Gemeinden im Kanton Luzern für die kommenden acht Jahre generiert. Natürlich lässt sich die Genauigkeit dieser Prognosen nicht direkt bewerten. Dennoch war es äusserst interessant, einen näheren Blick auf die einzelnen Prognosen zu werfen. Insbesondere fiel auf, dass die zuvor erwähnten \"Problem-Gemeinden\" nun konsistente und plausible Vorschläge lieferten, ohne ungewöhnliche Sprünge. Die genaue Ursache dafür, dass das Modell nun eine bessere Leistung zu zeigen schien, konnten wir letztendlich nicht eindeutig erklären. Eine Hypothese besteht darin, dass die grössere Anzahl an Datenpunkten zu einer Stabilisierung der Prediction beigetragen haben könnte. "
   ]
  },
  {
   "attachments": {},
   "cell_type": "markdown",
   "metadata": {},
   "source": [
    "### Requirements"
   ]
  },
  {
   "attachments": {},
   "cell_type": "markdown",
   "metadata": {},
   "source": [
    "Dieses Notebook benötigt das Excel 'Alle_Daten'."
   ]
  },
  {
   "attachments": {},
   "cell_type": "markdown",
   "metadata": {},
   "source": [
    "#### Python Version"
   ]
  },
  {
   "attachments": {},
   "cell_type": "markdown",
   "metadata": {},
   "source": [
    "Python version used in this notebook: Python 3.10.2"
   ]
  },
  {
   "attachments": {},
   "cell_type": "markdown",
   "metadata": {},
   "source": [
    "#### Libraries"
   ]
  },
  {
   "cell_type": "code",
   "execution_count": null,
   "metadata": {},
   "outputs": [],
   "source": [
    "!pip install scikit-learn\n",
    "!pip install pandas\n",
    "!pip install matplotlib"
   ]
  },
  {
   "attachments": {},
   "cell_type": "markdown",
   "metadata": {},
   "source": [
    "### Imports"
   ]
  },
  {
   "cell_type": "code",
   "execution_count": null,
   "metadata": {},
   "outputs": [],
   "source": [
    "import pandas as pd\n",
    "import matplotlib.pyplot as plt \n",
    "import pickle\n",
    "import ipywidgets as widgets\n",
    "\n",
    "from sklearn.preprocessing import StandardScaler\n",
    "from sklearn.svm import SVR"
   ]
  },
  {
   "attachments": {},
   "cell_type": "markdown",
   "metadata": {},
   "source": [
    "### Funktionen"
   ]
  },
  {
   "attachments": {},
   "cell_type": "markdown",
   "metadata": {},
   "source": [
    "Datensatz von Excel einlesen"
   ]
  },
  {
   "cell_type": "code",
   "execution_count": null,
   "metadata": {},
   "outputs": [],
   "source": [
    "# function to read in the data\n",
    "def read_excel(target):\n",
    "    column_names_to_load = [\n",
    "        'Siedlungsfläche_in_%', \n",
    "        'Landwirtschafts-fläche_in_%',\n",
    "        'Betriebe_total',\n",
    "        'Wohnungen - Total',\n",
    "        'Anzahl_Privathaushalte',\n",
    "        'Gemeindename',\n",
    "        'Gemeindetypologien',\n",
    "        target]\n",
    "\n",
    "    # Load all data from excel\n",
    "    path = 'Data/Preparation/Kennzahlen_aller_Gemeinden/Alle_Daten.xlsx'\n",
    "    data = pd.read_excel(path, header=[0,1], index_col=[0,1])\n",
    "\n",
    "    # Extract wanted columns\n",
    "    column_mask = data.columns.isin(column_names_to_load, level=1)\n",
    "    data = data.loc[:, column_mask]\n",
    "\n",
    "    # Drop top level column names\n",
    "    data = data.droplevel(0,axis=1)\n",
    "\n",
    "    # Reset index\n",
    "    data = data.reset_index()\n",
    "\n",
    "    return data"
   ]
  },
  {
   "attachments": {},
   "cell_type": "markdown",
   "metadata": {},
   "source": [
    "Splitfunktion"
   ]
  },
  {
   "cell_type": "code",
   "execution_count": null,
   "metadata": {},
   "outputs": [],
   "source": [
    "def train_test_split(data, test_length):\n",
    "    start_year = 1991\n",
    "    amount_of_years = 38\n",
    "\n",
    "    # Define length of splits\n",
    "    train_length = amount_of_years - test_length\n",
    "\n",
    "    # Define years where train and validation split ends\n",
    "    train_data_end_year = start_year + train_length\n",
    "\n",
    "    # Apply splits\n",
    "    train = data[data['Jahr'] <= train_data_end_year]\n",
    "    test = data[data['Jahr'] > train_data_end_year]\n",
    "\n",
    "    \n",
    "    return train, test"
   ]
  },
  {
   "attachments": {},
   "cell_type": "markdown",
   "metadata": {},
   "source": [
    "Definiere x und y"
   ]
  },
  {
   "cell_type": "code",
   "execution_count": null,
   "metadata": {},
   "outputs": [],
   "source": [
    "def x_y_split(data, target):\n",
    "    y_column_name = target\n",
    "\n",
    "    x_column_names = [\n",
    "        'Jahr',\n",
    "        'Siedlungsfläche_in_%', \n",
    "        'Landwirtschafts-fläche_in_%',\n",
    "        'Betriebe_total',\n",
    "        'Wohnungen - Total',\n",
    "        'Anzahl_Privathaushalte',\n",
    "        'Gemeindename',\n",
    "        'Gemeindetypologien'\n",
    "        ]\n",
    "\n",
    "    # Execute the Y split\n",
    "    y = data[y_column_name]\n",
    "    y.name = \"y\"\n",
    "\n",
    "    x = data[x_column_names]\n",
    "\n",
    "    assert len(x) == len(y), 'X and Y split need to have the same length'\n",
    "\n",
    "    return x, y"
   ]
  },
  {
   "attachments": {},
   "cell_type": "markdown",
   "metadata": {},
   "source": [
    "Dummyvariablen definieren und Skalierung"
   ]
  },
  {
   "cell_type": "code",
   "execution_count": null,
   "metadata": {},
   "outputs": [],
   "source": [
    "def set_dummy_variables(x):\n",
    "    # Set dummie variables for the column Gemeindetypologien and Gemeindename in the X split\n",
    "    return pd.get_dummies(x, columns=['Gemeindetypologien', 'Gemeindename'])\n",
    "\n",
    "def scale(x, scaler):\n",
    "    # Store the column names that it can be reapplied after scaling\n",
    "    x_columns = x.columns\n",
    "\n",
    "    # Scale the data with the StandardScaler\n",
    "    if not scaler:\n",
    "        scaler = StandardScaler()\n",
    "        x = scaler.fit_transform(x)\n",
    "    else:\n",
    "        x = scaler.transform(x)\n",
    "    \n",
    "    # Create pandas dataframes from ndArrays and reapply columnnames\n",
    "    x = pd.DataFrame(x, columns=x_columns)\n",
    "\n",
    "    return x, scaler"
   ]
  },
  {
   "attachments": {},
   "cell_type": "markdown",
   "metadata": {},
   "source": [
    "Daten für die Visualisierungen vorbereiten"
   ]
  },
  {
   "cell_type": "code",
   "execution_count": null,
   "metadata": {},
   "outputs": [],
   "source": [
    "def get_jahre(x):\n",
    "    # All years from the x set\n",
    "    return list(x['Jahr'].unique())\n",
    "\n",
    "def get_gemeinde_and_gemeindetypologien(x):\n",
    "    # All Gemeinde dummy variable column names\n",
    "    gemeinden = x.columns.tolist()[11:]\n",
    "\n",
    "    # All Gemeindetypologien dummy variable column names\n",
    "    gemeinden_typologien = x.columns.tolist()[6:10]\n",
    "\n",
    "    return gemeinden, gemeinden_typologien"
   ]
  },
  {
   "attachments": {},
   "cell_type": "markdown",
   "metadata": {},
   "source": [
    "Einzelne Gemeinde ploten"
   ]
  },
  {
   "cell_type": "code",
   "execution_count": null,
   "metadata": {},
   "outputs": [],
   "source": [
    "def plot_gemeinde(gemeinde, jahre_train, jahre_test, x_list, y_list, y_pred_list):    \n",
    "    # Concat the train and validation set for the X data set\n",
    "    x = pd.concat(x_list, axis=0).reset_index()\n",
    "\n",
    "    # Concat the train and validation set for the Y data set\n",
    "    y = pd.concat(y_list, axis=0).reset_index()\n",
    "    \n",
    "    # Concat the predicted values from the train and validation set\n",
    "    y_pred = pd.concat(y_pred_list, axis=0).reset_index()\n",
    "\n",
    "    # Concat the X, Y, and the predicted values\n",
    "    visualisation_all_gemeinde_data = pd.concat([pd.DataFrame(x), y, y_pred], axis=1)\n",
    "\n",
    "    # Extract the data for one gemeinde. Get the rows where the gemeinde dummy variable is positive\n",
    "    visualisation_gemeinde_data = visualisation_all_gemeinde_data[visualisation_all_gemeinde_data[gemeinde] > 0]\n",
    "\n",
    "    # Extract the expected and the predicted value\n",
    "    gemeinde_data_y = visualisation_gemeinde_data[0]\n",
    "    gemeinde_pred = visualisation_gemeinde_data['pred']\n",
    "\n",
    "    # Plot the data\n",
    "    plt.figure()\n",
    "\n",
    "    # Set title on plot\n",
    "    plt.title(gemeinde)\n",
    "    \n",
    "    # plot the expected data as dots\n",
    "    plt.scatter(jahre_train, gemeinde_data_y[:len(jahre_train)], label='Train')\n",
    "\n",
    "    # plot the prediction as line\n",
    "    plt.plot(jahre_train + jahre_test, gemeinde_pred, color=\"black\", label='Prediction')\n",
    "\n",
    "    # Show legend\n",
    "    plt.legend()\n",
    "\n",
    "    # activate this for fixed y-axis\n",
    "    # plt.ylim([50, 2500])\n",
    "\n",
    "    plt.show()\n",
    "\n",
    "    # Save the image and close the plot that it doesn't display in the jupyter notebook\n",
    "    #plt.savefig(f'{folder}/Gemeinden/{gemeinde}.png')\n",
    "    #plt.close()\n",
    "      \n"
   ]
  },
  {
   "attachments": {},
   "cell_type": "markdown",
   "metadata": {},
   "source": [
    "### Datenaufbereiten"
   ]
  },
  {
   "cell_type": "code",
   "execution_count": null,
   "metadata": {},
   "outputs": [],
   "source": [
    "# to switch target you can swicht the lines\n",
    "target = \"Ständige Wohnbevölkerung Total\"\n",
    "# target ='Ständige Wohnbevölkerung Bevölkerungs-dichte1 in Pers./km2'\n",
    "\n",
    "# Load data if not already loaded\n",
    "data = read_excel(target)\n",
    "\n",
    "# x_y_split\n",
    "x_data, y_data = x_y_split(data, target)"
   ]
  },
  {
   "attachments": {},
   "cell_type": "markdown",
   "metadata": {},
   "source": [
    "Simulierung des Datensatzes für die Zukunftsvorhersage"
   ]
  },
  {
   "cell_type": "code",
   "execution_count": null,
   "metadata": {},
   "outputs": [],
   "source": [
    "# simulate future data\n",
    "# define year to predict into the future\n",
    "jahre_zukunft = [2022, 2023, 2024, 2025, 2026, 2027, 2028, 2029]\n",
    "temp = x_data[x_data['Jahr']==2021]\n",
    "gemeinde_namen = temp.Gemeindename.unique().tolist()\n",
    "\n",
    "df_list = []\n",
    "for j in gemeinde_namen:\n",
    "    i = temp[temp['Gemeindename']== j ]\n",
    "    # repeat the first row 8 times\n",
    "    repeated_row = pd.concat([i.iloc[0:1]] * 8, ignore_index=True)\n",
    "    # change the year entries\n",
    "    repeated_row.loc[:, 'Jahr'] = jahre_zukunft\n",
    "\n",
    "    # append the repeated row to the dataframe\n",
    "    #df = pd.concat([temp, repeated_row], ignore_index=True)\n",
    "    df_list.append(repeated_row )\n",
    "\n",
    "# combine to one dataframe\n",
    "df_list.append(x_data)\n",
    "x = pd.concat(df_list, ignore_index=True)\n"
   ]
  },
  {
   "attachments": {},
   "cell_type": "markdown",
   "metadata": {},
   "source": [
    "Daten vorbereiten für das Model"
   ]
  },
  {
   "cell_type": "code",
   "execution_count": null,
   "metadata": {},
   "outputs": [],
   "source": [
    "# Define training and test length\n",
    "TRAIN_LENGTH = 30\n",
    "TEST_LENGTH = 8\n",
    "\n",
    "# Split\n",
    "x_data, x_future = train_test_split(x, TEST_LENGTH)\n",
    "\n",
    "# Set dummy variables\n",
    "x_data = set_dummy_variables(x_data)\n",
    "x_future = set_dummy_variables(x_future)\n",
    "\n",
    "# Extract data for visualisations before scaling\n",
    "jahre = get_jahre(x_data)\n",
    "jahre_zukunft = get_jahre(x_future)\n",
    "gemeinden, gemeinden_typologien = get_gemeinde_and_gemeindetypologien(x_data)\n",
    "\n",
    "# Scale the data\n",
    "x_data, scaler = scale(x_data, None)\n",
    "x_future, scaler = scale(x_future, scaler)"
   ]
  },
  {
   "attachments": {},
   "cell_type": "markdown",
   "metadata": {},
   "source": [
    "### Model trainieren"
   ]
  },
  {
   "cell_type": "code",
   "execution_count": null,
   "metadata": {},
   "outputs": [],
   "source": [
    "# define model and model name\n",
    "model_name = f'T{TRAIN_LENGTH} V{TEST_LENGTH} SVR POLY3 C=80 Gamma=0.015'\n",
    "model = SVR(kernel='poly', degree=3, C=30, gamma=0.1)\n",
    "\n",
    "print(\"Train model:\", model_name)\n",
    "\n",
    "# Train Model\n",
    "model.fit(x_data, y_data)\n",
    "\n",
    "# or load already stored weights if desired\n",
    "# with open(f'zukunfst_model_weights.pkl', 'rb') as f:\n",
    "#     model = pickle.load(f)\n",
    "\n",
    "# Save the trained model weights\n",
    "with open(f'zukunfst_model_weights.pkl', 'wb') as f:\n",
    "    pickle.dump(model, f)\n",
    "\n",
    "\n",
    "# Prediction\n",
    "y_pred = pd.Series(model.predict(x_data), name = 'pred')\n",
    "y_pred_future = pd.Series(model.predict(x_future), name = 'pred')\n",
    "        "
   ]
  },
  {
   "attachments": {},
   "cell_type": "markdown",
   "metadata": {},
   "source": [
    "### Bevölkerungsvorhersagen mit trainiertem Model"
   ]
  },
  {
   "cell_type": "code",
   "execution_count": null,
   "metadata": {},
   "outputs": [],
   "source": [
    "# predict the values of a gemeinde\n",
    "def prediction_for_single_gemeinde(Gemeinde):\n",
    "    key = Gemeinde\n",
    "    single_prediciton = model.predict(x_future[x_future[key] > 0]).tolist()\n",
    "    paired = list(zip(jahre_zukunft, single_prediciton))\n",
    "    print (Gemeinde)\n",
    "    for i in paired:\n",
    "        print(i)\n",
    "\n",
    "\n",
    "widgets.interact(prediction_for_single_gemeinde, Gemeinde=widgets.Dropdown(\n",
    "    options=gemeinden\n",
    "));"
   ]
  },
  {
   "cell_type": "code",
   "execution_count": null,
   "metadata": {},
   "outputs": [],
   "source": [
    "def call_plots(Gemeinde):\n",
    "    plot_gemeinde(Gemeinde, \n",
    "    jahre, \n",
    "    jahre_zukunft,\n",
    "    [x_data, x_future], \n",
    "    [y_data, y_pred_future], \n",
    "    [y_pred, y_pred_future]\n",
    "    )\n",
    "\n",
    "\n",
    "widgets.interact(call_plots, Gemeinde=widgets.Dropdown(\n",
    "    options=gemeinden\n",
    "));"
   ]
  }
 ],
 "metadata": {
  "kernelspec": {
   "display_name": "Python 3",
   "language": "python",
   "name": "python3"
  },
  "language_info": {
   "codemirror_mode": {
    "name": "ipython",
    "version": 3
   },
   "file_extension": ".py",
   "mimetype": "text/x-python",
   "name": "python",
   "nbconvert_exporter": "python",
   "pygments_lexer": "ipython3",
   "version": "3.10.2"
  },
  "orig_nbformat": 4
 },
 "nbformat": 4,
 "nbformat_minor": 2
}
