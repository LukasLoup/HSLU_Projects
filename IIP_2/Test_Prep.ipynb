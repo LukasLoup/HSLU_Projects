{
 "cells": [
  {
   "cell_type": "code",
   "execution_count": 1,
   "metadata": {},
   "outputs": [],
   "source": [
    "import numpy as np\n",
    "from sklearn import datasets\n",
    "from sklearn.metrics import mean_absolute_percentage_error, r2_score\n",
    "from sklearn.preprocessing import StandardScaler\n",
    "from sklearn.svm import SVR\n",
    "import os\n",
    "import pandas as pd\n",
    "import matplotlib.pyplot as plt \n",
    "import seaborn as sns\n",
    "import pickle"
   ]
  },
  {
   "cell_type": "code",
   "execution_count": 2,
   "metadata": {},
   "outputs": [],
   "source": [
    "#to switch target line\n",
    "target = \"Ständige Wohnbevölkerung Total\"\n",
    "#target ='Ständige Wohnbevölkerung Bevölkerungs-dichte1 in Pers./km2'"
   ]
  },
  {
   "attachments": {},
   "cell_type": "markdown",
   "metadata": {},
   "source": [
    "# Prepare data for model\n",
    "Read Data from excel"
   ]
  },
  {
   "cell_type": "code",
   "execution_count": 3,
   "metadata": {},
   "outputs": [],
   "source": [
    "def read_excel():\n",
    "    column_names_to_load = [\n",
    "        'Siedlungsfläche_in_%', \n",
    "        'Landwirtschafts-fläche_in_%',\n",
    "        'Betriebe_total',\n",
    "        'Wohnungen - Total',\n",
    "        'Anzahl_Privathaushalte',\n",
    "        'Gemeindename',\n",
    "        'Gemeindetypologien',\n",
    "        target]\n",
    "\n",
    "    # Load all data from excel\n",
    "    path = 'Data/Preparation/Kennzahlen_aller_Gemeinden/Alle_Daten.xlsx'\n",
    "    data = pd.read_excel(path, header=[0,1], index_col=[0,1])\n",
    "\n",
    "    # Extract wanted columns\n",
    "    column_mask = data.columns.isin(column_names_to_load, level=1)\n",
    "    data = data.loc[:, column_mask]\n",
    "\n",
    "    # Drop top level column names\n",
    "    data = data.droplevel(0,axis=1)\n",
    "\n",
    "    # Reset index\n",
    "    data = data.reset_index()\n",
    "\n",
    "    \n",
    "    return data"
   ]
  },
  {
   "attachments": {},
   "cell_type": "markdown",
   "metadata": {},
   "source": [
    "Define Train / Verification / Test split"
   ]
  },
  {
   "cell_type": "code",
   "execution_count": 4,
   "metadata": {},
   "outputs": [],
   "source": [
    "def train_test_split(data, test_length):\n",
    "    start_year = 1991\n",
    "    amount_of_years = 30\n",
    "\n",
    "    # Define length of splits\n",
    "    train_length = amount_of_years - test_length\n",
    "\n",
    "    # Define years where train and validation split ends\n",
    "    train_data_end_year = start_year + train_length\n",
    "\n",
    "    # Apply splits\n",
    "    train = data[data['Jahr'] <= train_data_end_year]\n",
    "    test = data[data['Jahr'] > train_data_end_year]\n",
    "    \n",
    "    return train, test"
   ]
  },
  {
   "attachments": {},
   "cell_type": "markdown",
   "metadata": {},
   "source": [
    "Define X and Y Split"
   ]
  },
  {
   "cell_type": "code",
   "execution_count": 5,
   "metadata": {},
   "outputs": [],
   "source": [
    "def x_y_split(data):\n",
    "    y_column_name = target\n",
    "\n",
    "    x_column_names = [\n",
    "        'Jahr',\n",
    "        'Siedlungsfläche_in_%', \n",
    "        'Landwirtschafts-fläche_in_%',\n",
    "        'Betriebe_total',\n",
    "        'Wohnungen - Total',\n",
    "        'Anzahl_Privathaushalte',\n",
    "        'Gemeindename',\n",
    "        'Gemeindetypologien'\n",
    "        ]\n",
    "\n",
    "    # Execute the Y split\n",
    "    y = data[y_column_name]\n",
    "    y.name = \"y\"\n",
    "\n",
    "    x = data[x_column_names]\n",
    "\n",
    "    assert len(x) == len(y), 'X and Y split need to have the same length'\n",
    "\n",
    "    return x, y"
   ]
  },
  {
   "attachments": {},
   "cell_type": "markdown",
   "metadata": {},
   "source": [
    "Set dummy variables and scale the data"
   ]
  },
  {
   "cell_type": "code",
   "execution_count": 6,
   "metadata": {},
   "outputs": [],
   "source": [
    "def set_dummy_variables(x):\n",
    "    # Set dummie variables for the column Gemeindetypologien and Gemeindename in the X split\n",
    "    return pd.get_dummies(x, columns=['Gemeindetypologien', 'Gemeindename'])\n",
    "\n",
    "def scale(x, scaler):\n",
    "    # Store the column names that it can be reapplied after scaling\n",
    "    x_columns = x.columns\n",
    "\n",
    "    # Scale the data with the StandardScaler\n",
    "    if not scaler:\n",
    "        scaler = StandardScaler()\n",
    "        x = scaler.fit_transform(x)\n",
    "    else:\n",
    "        x = scaler.transform(x)\n",
    "    \n",
    "    # Create pandas dataframes from ndArrays and reapply columnnames\n",
    "    x = pd.DataFrame(x, columns=x_columns)\n",
    "\n",
    "    return x, scaler"
   ]
  },
  {
   "attachments": {},
   "cell_type": "markdown",
   "metadata": {},
   "source": [
    "Extract data which is used for visualisation"
   ]
  },
  {
   "cell_type": "code",
   "execution_count": 7,
   "metadata": {},
   "outputs": [],
   "source": [
    "def get_jahre(x):\n",
    "    # All years from the x set\n",
    "    return list(x['Jahr'].unique())\n",
    "\n",
    "def get_gemeinde_and_gemeindetypologien(x):\n",
    "    # All Gemeinde dummy variable column names\n",
    "    gemeinden = x.columns.tolist()[11:]\n",
    "\n",
    "    # All Gemeindetypologien dummy variable column names\n",
    "    gemeinden_typologien = x.columns.tolist()[6:10]\n",
    "\n",
    "    return gemeinden, gemeinden_typologien"
   ]
  },
  {
   "attachments": {},
   "cell_type": "markdown",
   "metadata": {},
   "source": [
    "# Model Evaluation"
   ]
  },
  {
   "cell_type": "code",
   "execution_count": 8,
   "metadata": {},
   "outputs": [],
   "source": [
    "def clean_output(name): \n",
    "    directory = f'./{name}'\n",
    "\n",
    "    prepare_folder(directory)\n",
    "    prepare_folder(f'{directory}/Gemeinden')\n",
    "\n",
    "    return directory\n",
    "\n",
    "def prepare_folder(folder):\n",
    "    # create folder if it doesn't exist otherwise clear the entire folder\n",
    "    if not os.path.exists(folder):\n",
    "        os.makedirs(folder)\n",
    "    else: \n",
    "        for filename in os.listdir(folder):\n",
    "            file_path = os.path.join(folder, filename)\n",
    "            try:\n",
    "                if os.path.isfile(file_path):\n",
    "                    os.remove(file_path)\n",
    "            except Exception as e:\n",
    "                print(f\"Error deleting file: {file_path} - {e}\")"
   ]
  },
  {
   "attachments": {},
   "cell_type": "markdown",
   "metadata": {},
   "source": [
    "## Metrics"
   ]
  },
  {
   "cell_type": "code",
   "execution_count": 21,
   "metadata": {},
   "outputs": [],
   "source": [
    "def evaluate(folder, y, y_pred, coeff):\n",
    "    # calculate the R2 and MAPE and write it to a file\n",
    "    r2 = r2_score(y, y_pred)\n",
    "    mape = mean_absolute_percentage_error(y, y_pred)\n",
    "    with open(f'{folder}/metric.txt', 'w') as f:\n",
    "        f.write(f\"R2: {r2} \\n\")\n",
    "        f.write(f\"MAPE: {mape}\")\n",
    "\n",
    "    # write the coefficients from the model to a file\n",
    "    with open(f'{folder}/coeff.txt', 'w') as f:\n",
    "        for key, value in coeff.items():\n",
    "            f.write(f'{key}: {value}\\n')"
   ]
  },
  {
   "cell_type": "code",
   "execution_count": 10,
   "metadata": {},
   "outputs": [],
   "source": [
    "def get_coeff(model):\n",
    "    # get the coefficients from the diffrent models\n",
    "    type_switch = {\n",
    "        SVR: lambda x: x.dual_coef_,\n",
    "    }\n",
    "\n",
    "    return type_switch[type(model)](model).tolist()"
   ]
  },
  {
   "attachments": {},
   "cell_type": "markdown",
   "metadata": {},
   "source": [
    "## Visualtions"
   ]
  },
  {
   "cell_type": "markdown",
   "metadata": {},
   "source": []
  },
  {
   "attachments": {},
   "cell_type": "markdown",
   "metadata": {},
   "source": [
    "## Plot for a single gemeinde"
   ]
  },
  {
   "cell_type": "code",
   "execution_count": 11,
   "metadata": {},
   "outputs": [],
   "source": [
    "def plot_gemeinde(folder, gemeinden, jahre_train, jahre_test, x_list, y_list, y_pred_list):    \n",
    "    # Concat the train and validation set for the X data set\n",
    "    x = pd.concat(x_list, axis=0).reset_index()\n",
    "\n",
    "    # Concat the train and validation set for the Y data set\n",
    "    y = pd.concat(y_list, axis=0).reset_index()\n",
    "    \n",
    "    # Concat the predicted values from the train and validation set\n",
    "    y_pred = pd.concat(y_pred_list, axis=0).reset_index()\n",
    "\n",
    "    # Concat the X, Y, and the predicted values\n",
    "    visualisation_all_gemeinde_data = pd.concat([pd.DataFrame(x), y, y_pred], axis=1)\n",
    "\n",
    "    # Loop over all gemeinde\n",
    "    for gemeinde in gemeinden:\n",
    "\n",
    "        # Extract the data for one gemeinde. Get the rows where the gemeinde dummy variable is positive\n",
    "        visualisation_gemeinde_data = visualisation_all_gemeinde_data[visualisation_all_gemeinde_data[gemeinde] > 0]\n",
    "\n",
    "        # Extract the expected and the predicted value\n",
    "        gemeinde_data_y = visualisation_gemeinde_data['y']\n",
    "        gemeinde_pred = visualisation_gemeinde_data['pred']\n",
    "\n",
    "        # Plot the data\n",
    "        plt.figure()\n",
    "\n",
    "        # Set title on plot\n",
    "        plt.title(gemeinde)\n",
    "        \n",
    "        # plot the expected data as dots\n",
    "        plt.scatter(jahre_train, gemeinde_data_y[:len(jahre_train)], label='Train')\n",
    "        plt.scatter(jahre_test, gemeinde_data_y[len(jahre_train):len(jahre_train) + len(jahre_test)], color='lightgreen', label='Test')\n",
    "\n",
    "        # plot the prediction as line\n",
    "        plt.plot(jahre_train + jahre_test, gemeinde_pred, color=\"black\", label='Prediction')\n",
    "\n",
    "        # Show legend\n",
    "        plt.legend()\n",
    "\n",
    "        # activate this for fixed y-axis\n",
    "        # plt.ylim([50, 2500])\n",
    "\n",
    "        #plt.show()\n",
    "\n",
    "        # Save the image and close the plot that it doesn't display in the jupyter notebook\n",
    "        plt.savefig(f'{folder}/Gemeinden/{gemeinde}.png')\n",
    "        plt.close()\n",
    "      \n"
   ]
  },
  {
   "attachments": {},
   "cell_type": "markdown",
   "metadata": {},
   "source": [
    "## Plot to compare Gemeindetypologien"
   ]
  },
  {
   "attachments": {},
   "cell_type": "markdown",
   "metadata": {},
   "source": [
    "Plot standard deviation and absolut percentage error"
   ]
  },
  {
   "cell_type": "code",
   "execution_count": 12,
   "metadata": {},
   "outputs": [],
   "source": [
    "def plot_std(folder, dataframe, gemeinden_typologien):\n",
    "    # create a figure with subplots\n",
    "    fig, axes = plt.subplots(nrows=2, ncols=2, figsize=(10,8))\n",
    "    fig.subplots_adjust(left=0.1, right=0.9, bottom=0.1, top=0.9)\n",
    "\n",
    "\n",
    "    # iterate over the columns and plot each one in a subplot\n",
    "    for ax, gemeinden_typologie in zip(axes.flat, gemeinden_typologien):\n",
    "        # extract the column \n",
    "        subset = dataframe[dataframe[gemeinden_typologie] > 0][['Delta_Percent']]\n",
    "        column_data = subset['Delta_Percent']\n",
    "\n",
    "        # calculate the mean and standard deviation\n",
    "        mean = column_data.mean()\n",
    "        std = column_data.std()\n",
    "\n",
    "        # plot the density plot with a shaded area for the standard deviation and a line for the mean\n",
    "        ax = sns.kdeplot(column_data, fill=False, ax=ax, color='red', linewidth=1, label='absolut percentage error', bw_adjust=0.3)\n",
    "        ax.axvline(mean, color='black', linestyle='dotted', linewidth=1, label = 'mean absolute percentage error: ' + str(round(mean, 1)))\n",
    "        ax.fill_betweenx([0, ax.get_ylim()[1]], mean-std, mean+std, alpha=0.3, color='blue', label=\"standard deviation: \" + str(round(std, 1)) + \" %\")\n",
    "\n",
    "        #labels\n",
    "        ax.set_xlabel('absolut percentage error')\n",
    "        ax.set_ylabel('density')\n",
    "        ax.set_title(gemeinden_typologie, fontsize=10)\n",
    "        ax.legend()\n",
    "        ax.grid(False)\n",
    "\n",
    "\n",
    "    # set same scale for all subplots\n",
    "    for ax in axes.flat:\n",
    "        ax.set_xlim([-5, 25])\n",
    "        ax.set_ylim([0, 0.28])\n",
    "        ax.tick_params(axis='both', labelsize=8)\n",
    "\n",
    "    # adjust the layout and show the figure\n",
    "    fig.tight_layout()\n",
    "    #plt.show()\n",
    "\n",
    "    #Save the image and close the plot that it doesn't display in the jupyter notebook\n",
    "    plt.savefig(f'{folder}/standard_deviation.png')\n",
    "    plt.close()"
   ]
  },
  {
   "attachments": {},
   "cell_type": "markdown",
   "metadata": {},
   "source": [
    "Plot density of percentage error"
   ]
  },
  {
   "cell_type": "code",
   "execution_count": 13,
   "metadata": {},
   "outputs": [],
   "source": [
    "def plot_density(folder, visualisation_all_gemeindetypologien_data):\n",
    "    plt.subplots_adjust(left=0.1, right=0.9, bottom=0.1, top=0.9)\n",
    "\n",
    "    # Create density plot\n",
    "    sns.set_style('whitegrid')\n",
    "    sns.kdeplot(visualisation_all_gemeindetypologien_data['Delta_Percent'], fill=True, color='red', bw_adjust=0.5)\n",
    "    \n",
    "    # Plot mean and median\n",
    "    mean = np.mean(visualisation_all_gemeindetypologien_data['Delta_Percent'])\n",
    "    plt.axvline(x=mean, color='black', linestyle='dotted', linewidth=1.3, label='mean absolut percentage error: ' + str(round(mean, 1)))\n",
    "    median = np.median(visualisation_all_gemeindetypologien_data['Delta_Percent'])\n",
    "    plt.axvline(x=median, color='blue', linestyle='dotted', linewidth=1.3, label='median absolut percentage error: ' + str(round(median, 1)))\n",
    "    \n",
    "    # Calculate 15% and 85% quantiles\n",
    "    cutoff15 = np.percentile(visualisation_all_gemeindetypologien_data['Delta_Percent'], q=85)\n",
    "    cutoff85 = np.percentile(visualisation_all_gemeindetypologien_data['Delta_Percent'], q=15)\n",
    "\n",
    "    # Plot quantiles\n",
    "    plt.axvline(x=cutoff15, color='red', linestyle='dotted', linewidth=1.3, label='15% quantile: '+ str(round(cutoff85, 1)))\n",
    "    plt.axvline(x=cutoff85, color='red', linestyle='dotted', linewidth=1.3, label='85% quantile: ' + str(round(cutoff15, 1)))\n",
    "\n",
    "    # Add labels and title\n",
    "    plt.xlabel('absolut percentage error', labelpad=10)\n",
    "    plt.ylabel('density', labelpad=10)\n",
    "    plt.title('distribution - absolut percentage error', fontsize=10)\n",
    "    plt.tick_params(axis='both', labelsize=8)\n",
    "    \n",
    "    # Show legend\n",
    "    plt.legend()\n",
    "    plt.grid(False)\n",
    "\n",
    "    #plt.show()\n",
    "\n",
    "    # Save the image\n",
    "    plt.savefig(f'{folder}/density.png')\n",
    "    plt.close()\n",
    "    "
   ]
  },
  {
   "attachments": {},
   "cell_type": "markdown",
   "metadata": {},
   "source": [
    "Violin plot of percentage error for each gemeindetypologie"
   ]
  },
  {
   "cell_type": "code",
   "execution_count": 14,
   "metadata": {},
   "outputs": [],
   "source": [
    "def plot_violin_plot(folder, gemeinden_typologien, visualisation_all_gemeindetypologien_data):\n",
    "    plt.figure(figsize=(6, 4))\n",
    "\n",
    "    # Extract the data for each Gemeindetypologie\n",
    "    gemeinden_typologien_violin_party = []\n",
    "\n",
    "    # Loop over all Gemeindetypologien\n",
    "    for gemeinden_typologie in gemeinden_typologien: \n",
    "        gemeinden_typologien_violin_party.append(\n",
    "            # Extract the data for one Gemeindetypologie. Get the rows where the Gemeindetypologie dummy variable is positive\n",
    "            visualisation_all_gemeindetypologien_data[visualisation_all_gemeindetypologien_data[gemeinden_typologie] > 0]['Delta_Percent']\n",
    "        )\n",
    "    \n",
    "\n",
    "    # Create violin plot\n",
    "    violin_parts = plt.violinplot(gemeinden_typologien_violin_party, showmeans=False, showmedians=True)\n",
    "\n",
    "    # xtick labels\n",
    "    typologien_list = [''] + [gemeinden_typologie[19:] for gemeinden_typologie in gemeinden_typologien] + ['']\n",
    "\n",
    "    # Set title\n",
    "    plt.title(\"Absolute Percentage error of predictions\", fontsize=12, pad=20)\n",
    "\n",
    "    # Set lables\n",
    "    plt.xlabel('Gemeindetypologien', fontsize=12, labelpad=10)\n",
    "    plt.ylabel('Absolute Percentage Error', fontsize=12, labelpad=10)\n",
    "    plt.xticks(list(range(len(typologien_list))), typologien_list, fontsize=10)\n",
    "    plt.yticks(fontsize=10)\n",
    "    plt.grid(True)\n",
    "\n",
    "    # Set color\n",
    "    for pc in violin_parts['bodies']:\n",
    "        pc.set_facecolor('red')\n",
    "        pc.set_color('red')\n",
    "        pc.set_edgecolor('black')\n",
    "\n",
    "    for partname in ('cbars','cmins','cmaxes','cmedians'):\n",
    "        vp = violin_parts[partname]\n",
    "        vp.set_edgecolor('red')\n",
    "        vp.set_linewidth(1)\n",
    "    \n",
    "    #plt.show()\n",
    "    \n",
    "    # Save the image\n",
    "    plt.savefig(f'{folder}/topologien.png')\n",
    "    plt.close()\n",
    "    \n"
   ]
  },
  {
   "attachments": {},
   "cell_type": "markdown",
   "metadata": {},
   "source": [
    "Function to plot all of them and prepare the data"
   ]
  },
  {
   "cell_type": "code",
   "execution_count": 15,
   "metadata": {},
   "outputs": [],
   "source": [
    "def plot_gemeinde_typologie(folder, gemeinden_typologien, x, y, y_pred):\n",
    "    # Concat the X, Y, and the predicted values\n",
    "    visualisation_all_gemeindetypologien_data = pd.concat([x.reset_index(), y.reset_index(), y_pred.reset_index()], axis=1)\n",
    "    \n",
    "\n",
    "    # Calculate delta for each prediction\n",
    "    visualisation_all_gemeindetypologien_data['Delta'] = visualisation_all_gemeindetypologien_data['pred'] - visualisation_all_gemeindetypologien_data['y']   \n",
    "\n",
    "    # Calculate the absolute percentage error for each prediction\n",
    "    visualisation_all_gemeindetypologien_data['Delta_Percent'] = 100\n",
    "    visualisation_all_gemeindetypologien_data['Delta_Percent'] = (abs(visualisation_all_gemeindetypologien_data['Delta']) / visualisation_all_gemeindetypologien_data['pred'] ) * 100\n",
    "    #return visualisation_all_gemeindetypologien_data\n",
    "    plot_std(folder, visualisation_all_gemeindetypologien_data, gemeinden_typologien)\n",
    "    plot_violin_plot(folder, gemeinden_typologien, visualisation_all_gemeindetypologien_data)\n",
    "    plot_density(folder, visualisation_all_gemeindetypologien_data)\n"
   ]
  },
  {
   "attachments": {},
   "cell_type": "markdown",
   "metadata": {},
   "source": [
    "# Define size of train & validation split\n",
    "Size of test set is fixed to 8 points\n",
    "SVR POLY3 C=80 Gamma=0.015"
   ]
  },
  {
   "cell_type": "code",
   "execution_count": 16,
   "metadata": {},
   "outputs": [],
   "source": [
    "TRAIN_LENGTH = 22\n",
    "TEST_LENGTH = 8\n",
    "\n",
    "model_name = f'T{TRAIN_LENGTH} V{TEST_LENGTH} SVR POLY3 C=80 Gamma=0.015'\n",
    "model = SVR(kernel='poly', degree=3, C=30, gamma=0.1)\n",
    "\n",
    "# Load data if not already loaded\n",
    "data = read_excel()\n",
    "\n",
    "# Split\n",
    "train, test = train_test_split(data, TEST_LENGTH)\n",
    "\n",
    "x_train, y_train = x_y_split(train)\n",
    "x_test, y_test = x_y_split(test)\n",
    "\n",
    "# Set dummy variables\n",
    "x_train = set_dummy_variables(x_train)\n",
    "x_test = set_dummy_variables(x_test)\n",
    "\n",
    "# Extract data for visualisations before scaling\n",
    "jahre_train = get_jahre(x_train)\n",
    "jahre_test = get_jahre(x_test)\n",
    "gemeinden, gemeinden_typologien = get_gemeinde_and_gemeindetypologien(x_test)\n",
    "\n",
    "# Scale the data\n",
    "x_train, scaler = scale(x_train, None)\n",
    "x_test, scaler = scale(x_test, scaler)"
   ]
  },
  {
   "attachments": {},
   "cell_type": "markdown",
   "metadata": {},
   "source": [
    "# Train the model\n",
    "SVR POLY3 C=80 Gamma=0.015"
   ]
  },
  {
   "cell_type": "code",
   "execution_count": 17,
   "metadata": {},
   "outputs": [
    {
     "name": "stdout",
     "output_type": "stream",
     "text": [
      "Trying model: T22 V8 SVR POLY3 C=80 Gamma=0.015\n"
     ]
    }
   ],
   "source": [
    "print(\"Trying model:\", model_name)\n",
    "\n",
    "# Prepare folder for output\n",
    "directory = clean_output(model_name)\n",
    "\n",
    "# Train Model\n",
    "model.fit(x_train, y_train)\n",
    "\n",
    "# or load already stored weights if desired\n",
    "# with open(f'{directory}/model_weights.pkl', 'rb') as f:\n",
    "#     model = pickle.load(f)\n",
    "\n",
    "# Save the trained model weights\n",
    "with open(f'{directory}/model_weights.pkl', 'wb') as f:\n",
    "    pickle.dump(model, f)\n",
    "\n",
    "\n",
    "# Prediction\n",
    "y_pred_train = pd.Series(model.predict(x_train), name = 'pred')\n",
    "y_pred_test = pd.Series(model.predict(x_test), name = 'pred')\n",
    "        "
   ]
  },
  {
   "attachments": {},
   "cell_type": "markdown",
   "metadata": {},
   "source": [
    "# Evaluate the model"
   ]
  },
  {
   "cell_type": "code",
   "execution_count": 23,
   "metadata": {},
   "outputs": [
    {
     "name": "stdout",
     "output_type": "stream",
     "text": [
      "{'Jahr': -30.0, 'Siedlungsfläche_in_%': 30.0, 'Landwirtschafts-fläche_in_%': -30.0, 'Betriebe_total': 30.0, 'Wohnungen - Total': 30.0, 'Anzahl_Privathaushalte': 30.0, 'Gemeindetypologien_Aggloguertel': -30.0, 'Gemeindetypologien_Agglokern': -17.118545964734313, 'Gemeindetypologien_Kern': -30.0, 'Gemeindetypologien_Land': -30.0, 'Gemeindename_Adligenswil': 30.0, 'Gemeindename_Alberswil': 30.0, 'Gemeindename_Altbüron': 30.0, 'Gemeindename_Altishofen': -30.0, 'Gemeindename_Ballwil': -30.0, 'Gemeindename_Beromünster': 30.0, 'Gemeindename_Buchrain': 14.69568459312683, 'Gemeindename_Buttisholz': -30.0, 'Gemeindename_Büron': -30.0, 'Gemeindename_Dagmersellen': -30.0, 'Gemeindename_Dierikon': 30.0, 'Gemeindename_Doppleschwand': -4.301197380476823, 'Gemeindename_Ebikon': 30.0, 'Gemeindename_Egolzwil': -30.0, 'Gemeindename_Eich': -30.0, 'Gemeindename_Emmen': -30.0, 'Gemeindename_Entlebuch': 16.880545629521578, 'Gemeindename_Ermensee': 30.0, 'Gemeindename_Escholzmatt-Marbach': 30.0, 'Gemeindename_Ettiswil': 30.0, 'Gemeindename_Fischbach': 30.0, 'Gemeindename_Flühli': 30.0, 'Gemeindename_Geuensee': -30.0, 'Gemeindename_Gisikon': 30.0, 'Gemeindename_Greppen': 30.0, 'Gemeindename_Grossdietwil': -30.0, 'Gemeindename_Grosswangen': -30.0, 'Gemeindename_Hildisrieden': -30.0, 'Gemeindename_Hitzkirch': 13.89512548260927, 'Gemeindename_Hochdorf': -30.0, 'Gemeindename_Hohenrain': -30.0, 'Gemeindename_Honau': -30.0, 'Gemeindename_Horw': -17.03237385434541, 'Gemeindename_Inwil': 30.0, 'Gemeindename_Knutwil': 30.0, 'Gemeindename_Kriens': 15.322202699313996, 'Gemeindename_Luthern': -20.626483028694615, 'Gemeindename_Luzern': 30.0, 'Gemeindename_Malters': 30.0, 'Gemeindename_Mauensee': 30.0, 'Gemeindename_Meggen': 30.0, 'Gemeindename_Meierskappel': -30.0, 'Gemeindename_Menznau': -25.289472997982813, 'Gemeindename_Nebikon': -30.0, 'Gemeindename_Neuenkirch': -30.0, 'Gemeindename_Nottwil': 2.4744276730868044, 'Gemeindename_Oberkirch': -30.0, 'Gemeindename_Pfaffnau': -30.0, 'Gemeindename_Rain': -30.0, 'Gemeindename_Reiden': 30.0, 'Gemeindename_Roggliswil': 30.0, 'Gemeindename_Romoos': -30.0, 'Gemeindename_Root': 30.0, 'Gemeindename_Rothenburg': 30.0, 'Gemeindename_Ruswil': 30.0, 'Gemeindename_Römerswil': 4.9737724216008035, 'Gemeindename_Schenkon': 30.0, 'Gemeindename_Schlierbach': -30.0, 'Gemeindename_Schongau': -25.94778819052652, 'Gemeindename_Schwarzenberg': -22.747821803468003, 'Gemeindename_Schötz': -30.0, 'Gemeindename_Schüpfheim': 30.0, 'Gemeindename_Sempach': 30.0, 'Gemeindename_Sursee': 30.0, 'Gemeindename_Triengen': 30.0, 'Gemeindename_Udligenswil': 30.0, 'Gemeindename_Ufhusen': -12.804140519066898, 'Gemeindename_Vitznau': -30.0, 'Gemeindename_Wauwil': -30.0, 'Gemeindename_Weggis': -30.0, 'Gemeindename_Werthenstein': -30.0, 'Gemeindename_Wikon': -30.0, 'Gemeindename_Willisau': 23.98138102529507, 'Gemeindename_Wolhusen': -30.0}\n"
     ]
    }
   ],
   "source": [
    "coeff = get_coeff(model)\n",
    "# dict comprehension of coeff and x_train.columns\n",
    "coeff_columns = {k: v for k, v in zip(x_train.columns, *coeff)}\n",
    "evaluate(directory, y_test, y_pred_test, coeff_columns)\n",
    "print(coeff_columns)\n"
   ]
  },
  {
   "attachments": {},
   "cell_type": "markdown",
   "metadata": {},
   "source": [
    "Plot the gemeinden"
   ]
  },
  {
   "cell_type": "code",
   "execution_count": 19,
   "metadata": {},
   "outputs": [],
   "source": [
    "plot_gemeinde(directory, \n",
    "    gemeinden, \n",
    "    jahre_train, \n",
    "    jahre_test,\n",
    "    [x_train, x_test], \n",
    "    [y_train, y_test], \n",
    "    [y_pred_train, y_pred_test]\n",
    "    )"
   ]
  },
  {
   "attachments": {},
   "cell_type": "markdown",
   "metadata": {},
   "source": [
    "Plot evaluations "
   ]
  },
  {
   "cell_type": "code",
   "execution_count": 20,
   "metadata": {},
   "outputs": [],
   "source": [
    "plot_gemeinde_typologie(directory, \n",
    "                        gemeinden_typologien, \n",
    "                        x_test, \n",
    "                        y_test,\n",
    "                        y_pred_test\n",
    "                            )"
   ]
  },
  {
   "attachments": {},
   "cell_type": "markdown",
   "metadata": {},
   "source": [
    "- aussortieren gemeinden, schlechte performance?\n",
    "--> wie umgang mit gemeinden schlecht predicted"
   ]
  },
  {
   "cell_type": "markdown",
   "metadata": {},
   "source": []
  }
 ],
 "metadata": {
  "kernelspec": {
   "display_name": "Python 3",
   "language": "python",
   "name": "python3"
  },
  "language_info": {
   "codemirror_mode": {
    "name": "ipython",
    "version": 3
   },
   "file_extension": ".py",
   "mimetype": "text/x-python",
   "name": "python",
   "nbconvert_exporter": "python",
   "pygments_lexer": "ipython3",
   "version": "3.10.2"
  },
  "orig_nbformat": 4
 },
 "nbformat": 4,
 "nbformat_minor": 2
}
