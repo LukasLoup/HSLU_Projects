{
 "cells": [
  {
   "cell_type": "markdown",
   "id": "eb88bb91",
   "metadata": {},
   "source": [
    "# Data science pipeline – first steps"
   ]
  },
  {
   "cell_type": "markdown",
   "id": "c872518c",
   "metadata": {},
   "source": [
    "## Import libraries"
   ]
  },
  {
   "cell_type": "code",
   "execution_count": null,
   "id": "2fcf245a",
   "metadata": {},
   "outputs": [],
   "source": [
    "import pandas as pd\n",
    "from pandas_profiling import ProfileReport"
   ]
  },
  {
   "cell_type": "markdown",
   "id": "bad029ec",
   "metadata": {},
   "source": [
    "## Define variables"
   ]
  },
  {
   "cell_type": "code",
   "execution_count": null,
   "id": "e8873303",
   "metadata": {},
   "outputs": [],
   "source": [
    "DROP_MISSING = False"
   ]
  },
  {
   "cell_type": "markdown",
   "id": "9cef81cd",
   "metadata": {
    "tags": []
   },
   "source": [
    "## Loading the data"
   ]
  },
  {
   "cell_type": "code",
   "execution_count": null,
   "id": "19adc6fa",
   "metadata": {},
   "outputs": [],
   "source": [
    "df = pd.read_csv('data/luzern/Luzern_290922.csv')\n",
    "print(\"Dataframe shape:\", df.shape)\n",
    "df.head()"
   ]
  },
  {
   "cell_type": "markdown",
   "id": "89a7241f",
   "metadata": {
    "tags": []
   },
   "source": [
    "### Columns description\n",
    "\n",
    "- **reportingmunicipalityid:** Municipality of residence of a person. Enables the calculation by-municipality population figures in combination with the populationType characteristic.\n",
    "\n",
    "- **statyear:** statistic year\n",
    "\n",
    "- **ageclass:** age class of the person\n",
    "\n",
    "- **nationalityclass:** nationality of the person\n",
    "\n",
    "- **populationtype:**\n",
    "    - 1 Permanent resident population\n",
    "    - 2 Non-permanent resident population\n",
    "    - 3 Resident population at last secondary residence\n",
    "    - 4 Resident population at other secondary residences.\n",
    "    - Note: Persons with typeOfResidence = 3 are found here with the characteristics 3 or 4. To avoid double counting a person for the secondary residence, populationType = 3 must be selected.\n",
    "\n",
    "- **maritalstatusclass:**\n",
    "    - 1 Single\n",
    "    - 2 Married, in registered partnership\n",
    "    - 3 Widowed, partnership dissolved by death\n",
    "    - 4 Divorced, unmarried, partnership dissolved by court order\n",
    "    - -9 Not specified.\n",
    "    - Note: Unmarried persons (marital status = 5) are counted with divorced persons. Persons with dissolved partnership (maritalStatus = 7) are included in widowed (code 3), divorced (code 4) or \"not specified\" (code -9) depending on the type of partnership dissolution (cancellationPartnerReason).\n",
    "\n",
    "- **arrivalyearmunicipality:** arrival year to gemeinde Kriens\n",
    "    - AAAA Jahr\n",
    "    - 9997 seit geburt\n",
    "    - 9999 ohne Angabe\n",
    "\n",
    "- **arrivalyearswitzerland:** Year of moving to Switzerland\n",
    "    - 1xxx-2017 Jahr\n",
    "    - -5 seit geburt\n",
    "    - -9 Ohne Angabe\n",
    "\n",
    "- **egid:** Building identifier pseudonymized. The building identifier is pseudonymized and is used for linking with the Wohnungstabelle.\n",
    "\n",
    "- **gbaups:** Construction period GWS  (Gebäude- und Wohnungsstatistik) \n",
    "    - 8011 Periode vor 1919\n",
    "    - 8012 Periode vor 1919 bis 1945\n",
    "    - 8013 Periode vor 1946 bis 1960\n",
    "    - 8014 Periode vor 1961 bis 1970\n",
    "    - 8015 Periode vor 1971 bis 1980\n",
    "    - 8016 Periode vor 1981 bis 1985\n",
    "    - 8017 Periode vor 1986 bis 1990\n",
    "    - 8018 Periode vor 1991 bis 1995\n",
    "    - 8019 Periode vor 1996 bis 2000\n",
    "    - 8020 Periode vor 2001 bis 2005\n",
    "    - 8021 Periode vor 2006 bis 2010\n",
    "    - 8022 Periode vor 2011 bis 2015\n",
    "    - 8023 Periode nach 2015\n",
    "\n",
    "- **gkats:** Building category GWS\n",
    "    - 1021 single family houses\n",
    "    - 1025 Apartment buildings\n",
    "    - 1030 Residential buildings with secondary use\n",
    "    - 1040 Buildings with partial residential use\n",
    "\n",
    "- **gastws:** Number of floors GWS. 1 bis 35 Stockwerke im Gebäude\n",
    "\n",
    "- **gazwot:** Number of apartments in the building GWS.\n",
    "\n",
    "- **eh:** east hectar coordinates, projected to LV1903 (cf. [EPSG:2056](https://epsg.io/2056)).\n",
    "\n",
    "- **nh:** north hectar coordinates, projected to LV1903 (cf. [EPSG:2056](https://epsg.io/2056)).\n",
    "\n",
    "- **ewid:** Apartment identifier. This is the key to \"Wohnungen\" table.\n",
    "\n",
    "- **wazimclass:** Number of rooms GWS\n",
    "\n",
    "- **wareaclass:** Apartment surface GWS im m2\n"
   ]
  },
  {
   "cell_type": "markdown",
   "id": "c3c11d9c",
   "metadata": {},
   "source": [
    "## Data cleaning"
   ]
  },
  {
   "cell_type": "code",
   "execution_count": null,
   "id": "f96344fe",
   "metadata": {},
   "outputs": [],
   "source": [
    "# Handle missing values\n",
    "if DROP_MISSING:\n",
    "    df.dropna(inplace=True)\n",
    "    print(\"New dataframe shape:\", df.shape)\n",
    "else:\n",
    "    df.arrivalyearswitzerland.fillna(-9, inplace=True)"
   ]
  },
  {
   "cell_type": "code",
   "execution_count": null,
   "id": "93cc0d0f",
   "metadata": {},
   "outputs": [],
   "source": [
    "# Correct data types\n",
    "def print_df_dtypes(df):\n",
    "    print(\"data types:\")\n",
    "    for column, dtype in zip(df.columns, df.dtypes):\n",
    "        print(\"\\t\", column, \":\", dtype)\n",
    "\n",
    "print(\"Original\", end =\" \")\n",
    "print_df_dtypes(df)\n",
    "\n",
    "df = df.astype({\n",
    "    'reportingmunicipalityid': pd.CategoricalDtype(),\n",
    "    'statyear': int,\n",
    "    'ageclass': int,\n",
    "    'nationalityclass': pd.CategoricalDtype(),\n",
    "    'populationtype': pd.CategoricalDtype(),\n",
    "    'maritalstatusclass': pd.CategoricalDtype(),\n",
    "    'arrivalyearmunicipality': int,\n",
    "    'arrivalyearswitzerland': int,\n",
    "    'gbaups': int,\n",
    "    'gkats': pd.CategoricalDtype(),\n",
    "    'wazimclass': pd.CategoricalDtype(),\n",
    "    'wareaclass': pd.CategoricalDtype()\n",
    "})\n",
    "print()\n",
    "print(\"Updated\", end =\" \")\n",
    "print_df_dtypes(df)"
   ]
  },
  {
   "cell_type": "code",
   "execution_count": null,
   "id": "7e1f97d2",
   "metadata": {},
   "outputs": [],
   "source": [
    "df"
   ]
  },
  {
   "cell_type": "markdown",
   "id": "d3f662c2",
   "metadata": {},
   "source": [
    "## Data exploration"
   ]
  },
  {
   "cell_type": "code",
   "execution_count": null,
   "id": "e8bf7e6c",
   "metadata": {},
   "outputs": [],
   "source": [
    "# Basic statistics\n",
    "df.describe().T"
   ]
  },
  {
   "cell_type": "code",
   "execution_count": null,
   "id": "a3eb0818",
   "metadata": {},
   "outputs": [],
   "source": [
    "# Basic visualization\n",
    "hist = df.ageclass.hist()\n",
    "hist.set_xlabel('Age class')\n",
    "hist.set_ylabel('# Rows')\n",
    "_ = hist.set_title('Age class distribution')"
   ]
  },
  {
   "cell_type": "markdown",
   "id": "2d9437e4",
   "metadata": {},
   "source": [
    "## Data analysis"
   ]
  },
  {
   "cell_type": "code",
   "execution_count": null,
   "id": "b432dc71",
   "metadata": {},
   "outputs": [],
   "source": [
    "# Selection of specific age range\n",
    "below26 = df[df.ageclass < 26]\n",
    "below26"
   ]
  },
  {
   "cell_type": "code",
   "execution_count": null,
   "id": "42a12b72",
   "metadata": {},
   "outputs": [],
   "source": [
    "# Visualize nationality distribution of selected sample\n",
    "pie = below26.nationalityclass.value_counts().plot.pie(autopct='%1.1f%%')\n",
    "pie.set_ylabel('')\n",
    "_ = pie.set_title('Nationality distribution of population below 26 years old')"
   ]
  },
  {
   "cell_type": "code",
   "execution_count": null,
   "id": "9c9600a6-6c98-4df5-907d-89e4cb0280a4",
   "metadata": {},
   "outputs": [],
   "source": [
    "profile = ProfileReport(df, title=\"IIP1 Luzern Sample Profiling Report\")"
   ]
  },
  {
   "cell_type": "code",
   "execution_count": null,
   "id": "bb8e8676-1189-475a-ac5d-ddf836353187",
   "metadata": {},
   "outputs": [],
   "source": [
    "profile.to_file(\"sample_report.html\")"
   ]
  },
  {
   "cell_type": "code",
   "execution_count": null,
   "id": "7cbd7bbe-7c85-4d18-9684-735bdbe17c46",
   "metadata": {},
   "outputs": [],
   "source": [
    "df.describe(include='all').T"
   ]
  },
  {
   "cell_type": "code",
   "execution_count": null,
   "id": "8ef33380-08df-4b59-8337-e326540a2db3",
   "metadata": {},
   "outputs": [],
   "source": [
    "profile_full = ProfileReport(full, title=\"IIP1 Luzern Full Profiling Report\")\n",
    "profile_full.to_file('full_report.html')"
   ]
  },
  {
   "cell_type": "code",
   "execution_count": null,
   "id": "2e0fb10c-61e6-4a79-ba01-23d3a9d2f0ea",
   "metadata": {},
   "outputs": [],
   "source": [
    "umzuege = pd.read_csv('data/luzern/Umzuege_Luzern_290922.csv')\n",
    "print(\"Dataframe shape:\", umzuege.shape)\n",
    "umzuege.head()"
   ]
  },
  {
   "cell_type": "code",
   "execution_count": null,
   "id": "c96fae43-1e17-4fb9-994c-31367ac848f7",
   "metadata": {},
   "outputs": [],
   "source": [
    "umzuege.describe(include='all').T"
   ]
  },
  {
   "cell_type": "code",
   "execution_count": null,
   "id": "d993181f-a0df-4476-8fa9-71093185921c",
   "metadata": {},
   "outputs": [],
   "source": [
    "profile_umzuege = ProfileReport(umzuege, title=\"IIP1 Luzern Umzuege Profiling Report\")\n",
    "profile_umzuege.to_file('umzuege_report.html')"
   ]
  },
  {
   "cell_type": "code",
   "execution_count": null,
   "id": "7285802a-8a0f-41b6-91a3-8c58ddda3338",
   "metadata": {},
   "outputs": [],
   "source": [
    "bewegungen = pd.read_csv('data/luzern/Bewegungen_Luzern_290922.csv')\n",
    "print(\"Dataframe shape:\", bewegungen.shape)\n",
    "bewegungen.head()"
   ]
  },
  {
   "cell_type": "code",
   "execution_count": null,
   "id": "0849fbe1-4c57-4671-bfd8-f3b87677d7da",
   "metadata": {},
   "outputs": [],
   "source": [
    "bewegungen.describe(include='all').T"
   ]
  },
  {
   "cell_type": "code",
   "execution_count": null,
   "id": "4192515f-c9f5-4055-83d1-e67f64f862c0",
   "metadata": {
    "tags": []
   },
   "outputs": [],
   "source": [
    "profile_bewegungen = ProfileReport(bewegungen, title=\"IIP1 Luzern Bewegungen Profiling Report\")\n",
    "profile_bewegungen.to_file('bewegungen_report.html')"
   ]
  },
  {
   "cell_type": "code",
   "execution_count": null,
   "id": "2fad805f-c8ee-4dc7-af7e-542db16122ec",
   "metadata": {},
   "outputs": [],
   "source": [
    "df.ageclass.hist(bins=100)"
   ]
  },
  {
   "cell_type": "code",
   "execution_count": null,
   "id": "e3b77bb8-1fc6-430a-ba2f-82a1016e70a6",
   "metadata": {},
   "outputs": [],
   "source": []
  }
 ],
 "metadata": {
  "kernelspec": {
   "display_name": "Python 3 (ipykernel)",
   "language": "python",
   "name": "python3"
  },
  "language_info": {
   "codemirror_mode": {
    "name": "ipython",
    "version": 3
   },
   "file_extension": ".py",
   "mimetype": "text/x-python",
   "name": "python",
   "nbconvert_exporter": "python",
   "pygments_lexer": "ipython3",
   "version": "3.10.6"
  }
 },
 "nbformat": 4,
 "nbformat_minor": 5
}
