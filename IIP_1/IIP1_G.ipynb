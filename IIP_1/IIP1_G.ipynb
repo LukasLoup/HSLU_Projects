{
 "cells": [
  {
   "cell_type": "markdown",
   "metadata": {},
   "source": [
    "# Abstract"
   ]
  },
  {
   "cell_type": "markdown",
   "metadata": {},
   "source": [
    "Die vorliegende Arbeit hat zum Ziel, die Frage zu beantworten, wie der Zivilstand von potenziell einsamen Personen an das Wohnverhältnis gekoppelt ist und ob es Möglichkeiten gibt, die Alterseinsamkeit zu reduzieren oder sie ganz zu verhindern. Spezifisch wurde in der Arbeit gezeigt, in welchen Wohnverhältnissen Personen leben und welche Rolle der Zivilstand und das Alter dabei einnehmen. Eine anschliessende Vertiefung auf die potenziell einsamen Personen, also ältere Alleinlebende, ergab weitere spannende Zusammenhänge zum Zivilstand.\n",
    "\n",
    "Aus den Daten ist klar ersichtlich, dass ältere Personen, vor allem geschiedene und verwitwete, häufig allein Leben. Auch Ledige halten sich vermehrt in Einzelhaushalten auf, wobei dort das Durchschnittsalter bedeutend tiefer ist. Zudem erwies sich in den letzten zehn Jahren ein wachsender Trend an geschiedenen und verwitweten Personen, welche sich eigenständig in einer Wohnung aufhalten. Gerade in den stark bevölkerten Gemeinden bzw. Städten ist der Anteil an alleinlebenden Geschiedenen und Verwitweten mit bis zu 80% bedenklich hoch. Diese Erkenntnisse offenbaren, dass das Potenzial an Alterseinsamkeit in Luzern und der ganzen Schweiz ein wachsendes Problem darstellt.\n",
    "\n",
    "Nachdem festgestellt wurde, dass Alterseinsamkeit vermehrt in der Schweiz auftritt, wurde die Wohnsituation der Zielgruppe in Gemeinden analysiert. Daraus soll erschlossen werden, ob es eine Möglichkeit gibt, Wohngemeinschaften für die potenziell Einsamen zu errichten. Anhand der Auswertungen wurde ersichtlich, dass geschiedene oder verwitwete Personen gute Chancen besitzen, Wohngemeinschaften zu errichten, da über 50% der Alleinlebenden in 3-4 Zimmer Wohnungen/Häuser leben. Dadurch ergeben sich viele ungenutzte Zimmer, welche von Mitbewohner: innen bewohnt werden könnten. Auf dem Land ist das Ausmass nochmals deutlicher, da rund 15% der Alleinlebenden in 5-6 Zimmer Wohnungen/Häuser leben. Personen, die in den Wohnungen leben, benötigen nicht so viel Platz. Das gibt den Gemeinden wiederum die Chance, eine Alternative zu entwickeln, um den Raum besser zu nutzen. Des Weiteren konnte herausgefunden werden, dass ein Grossteil der Alleinlebenden in 5-6 Zimmer Wohnungen geschieden oder verwitwet sind und sich im Rentenalter befinden.\n",
    "\n",
    "Schlussendlich wurde das Thema «Mehrgeneration-Wohnen» analysiert und in einem eigenen Beispiel umgesetzt. Durch die Analyse wurde ersichtlich, dass bereits viele Projekte, die etwas gegen Alterseinsamkeit unternehmen möchten, existieren und weltweit am Laufen sind. In den Vereinigten Staaten wurden ganze Siedlungen gebaut, um dieses Problem in den Griff zu bekommen. In der Schweiz wird vermehrt auf Wohnkomplexe gesetzt, in denen sich die Bewohnenden gegenseitig Unterstützung anbieten. Es wurden auch vermehrt neue Ansätze von Wohngemeinschaften getestet, beispielsweise indem die monatliche Miete nicht durch Geld beglichen wird, sondern in Form von Hausarbeit. Dies soll besonders den finanziell schwachen Studierenden zugunsten kommen. Bei der Umsetzung eines Mehrgenerationenhauses wurde darauf achtgegeben, dass das Gebäude alle Voraussetzungen erfüllt, damit sich Personen aus allen Altersklassen wohlfühlen und ein Austausch zwischen Generationen stattfinden kann."
   ]
  },
  {
   "cell_type": "markdown",
   "metadata": {},
   "source": [
    "# Einleitung"
   ]
  },
  {
   "cell_type": "markdown",
   "metadata": {},
   "source": [
    "In dieser Arbeit handelt es sich um eine Projektarbeit im Modul Integrales Informatik Projekt 1 (IIP1) an der Hochschule Luzern. Im Namen des Auftraggebers Smart Region soll durch die digitale Transformation ein Beitrag geleistet werden, um in eine verbesserte Zukunft zu steuern. Dabei soll der Fokus auf den bestehenden Raum, und wie dieser am besten genutzt werden kann, gelegt werden. Durch diesen Auftrag wurde unsere Gruppe „RawDataReaders“ ins Leben gerufen. Wir befassen uns mit dem Thema, wie das Wohnverhalten von potenziell einsamen Personen aussieht. Dabei wird der Fokus auf verwitwete und ältere Personen gelegt. Wir haben unseren Schwerpunkt auf diese Thematik festgelegt, da dieser Teil unserer Gesellschaft gerne in Vergessenheit gerät. Umso mehr sind diese Personen darauf angewiesen, dass wir die nötige Unterstützung anbieten und ihnen in schwierigen Zeiten beistehen. Ein weiterer Faktor, welcher die Einsamkeit von älteren Menschen bestärkte, war die Covid-19 Pandemie. Durch das Virus mussten sie auf viele Gruppenaktivitäten wie Seniorensport, Ehrenämter, Singen oder Wandergruppen verzichten. Zusätzlich konnten sie schlecht Kontakt mit ihren Freunden, Enkeln oder anderen Familienangehörigen aufnehmen, was wiederum zu einer starken Traurigkeit führte. All diese sozialen Einschränkungen können negative Beeinträchtigungen auf die Gesundheit im Alter haben und bis hin zur Entstehung von depressiven Symptomen führen. Im Alter verkleinert sich der Freundeskreis ohnehin, da Freunde und Familie ab einem gewissen Alter von uns gehen. Durch die Pandemie wurde diese Sterberate intensiviert, da viele Personen im höheren Alter zu den besonders gefährdeten Menschen gehörten. Um erfolgreich in dieser Thematik zu forschen, haben wir drei Prioritätsstufen definiert. Dabei wurde als erste Priorität festgelegt, herauszufinden, wie viele Personen ab einem gewissen Alter in welchem Verhalten zusammenleben und ob dabei ein Zusammenhang mit dem Zivilstand sichtbar ist. Als Zweites wurde nach dem aktuellen Stand in Gemeinden geforscht und ihre derzeitigen Möglichkeiten auf eine Wohngemeinschaft für einsame und ältere Menschen untersucht. Als letzte Aufgabe haben wir uns mit dem Thema befasst, eine mögliche Community für unsere Zielgruppe zu erstellen, sodass diese nicht mehr allein sein müssen. Zusätzlich wurde nach bestehenden Lösungen und Projekten im Kampf gegen Alterseinsamkeit gesucht. In unserem Hauptfokus steht der Kanton Luzern und alle darin enthaltenen Gemeinden. Damit ein Vergleich mit anderen Kantonen hergestellt werden kann, wurden die Kantone Zürich, Bern und Basel-Stadt ebenfalls analysiert."
   ]
  },
  {
   "cell_type": "markdown",
   "metadata": {
    "id": "VhzsTCS4spnY"
   },
   "source": [
    "# Fragestellung"
   ]
  },
  {
   "cell_type": "markdown",
   "metadata": {
    "id": "oPJpHcytsx8M"
   },
   "source": [
    "Gemeinden können Bedarf für Community Centers und Treffpunkte für einsame Witwen/Witwer und Geschiedene nicht einschätzen. Mit unserer Fragestellung beantworten wir ob es diesen Bedarf gibt und woher er kommt (Analyse des Wohnverhaltens dieser potentiell einsamen Personen).\n",
    "\n",
    "Hierbei legen wir den Fokus auf Alterseinsamkeit und betrachten diese Problematik anhand von verwitweten und geschiedenen Personen im Kanton Luzern über die Jahre 2012 bis 2020."
   ]
  },
  {
   "cell_type": "markdown",
   "metadata": {
    "id": "yjRN5zehuH8x"
   },
   "source": [
    "## Low hanging fruit\n",
    "\n",
    "Im einem ersten Schritt betrachten und analysieren wir folgendes:\n",
    "\n",
    "Wie viele Personen ab einen gewissen Alter (Rentenalter) wohnen in welchem Verhalten (Haushaltstyp)? Und gibt es einen Zusammenhang mit dem Zivilstand?"
   ]
  },
  {
   "cell_type": "markdown",
   "metadata": {
    "id": "sTmAqfa-uRez"
   },
   "source": [
    "## Ambitious question\n",
    "\n",
    "Anschliessend wollen wir folgende Frage beantworten:\n",
    "\n",
    "Hat die Gemeinde genug Möglichkeiten/Platz für neue Wohngemeinschaften für einsame/ältere Personen?"
   ]
  },
  {
   "cell_type": "markdown",
   "metadata": {
    "id": "87zuJ6TFukEC"
   },
   "source": [
    "## Optionale Zusatzfrage\n",
    "\n",
    "Wenn wir übrige Zeit haben, werden wir versuchen die folgende Frage zu beanworten:\n",
    "\n",
    "Besteht die Möglichkeit eine Community für einsame/ältere Personen zu errichten?"
   ]
  },
  {
   "cell_type": "markdown",
   "metadata": {},
   "source": [
    "# Motivation"
   ]
  },
  {
   "cell_type": "markdown",
   "metadata": {},
   "source": [
    "Einsamkeit kann jeden treffen – unabhängig von Alter, Hintergrund und der bisherigen Lebenssituation. Doch gerade im Alter steigt das Risiko von Einsamkeit und Menschen zwischen 60 und 80 Jahren alt spüren die Auswirkungen dieser Art der Isolation. Sie fühlen sich mit zunehmendem Alter von der Gesellschaft abgekoppelt und wissen nicht, wie sie damit umgehen sollen. Viele sind aufgrund sozialer Stigmatisierung nicht in der Lage, über ihre Gefühle zu sprechen. Andere unterdrücken ihre Gefühle aus Angst vor dem Alleinsein, was zu einem Teufelskreis führen kann.\n",
    "\n",
    "Einsamkeit kann eine schwerwiegende Herausforderung darstellen, die Auswirkungen auf die körperliche und mentale Gesundheit hat. Sie kann dazu führen, dass Menschen sich isolieren und weniger soziale Kontakte haben, was wiederum das Risiko von Depressionen, Angstzuständen und anderen psychischen Problemen erhöhen kann. Auch die körperliche Gesundheit kann von Einsamkeit beeinträchtigt werden, da die Gefahr, an Herzerkrankungen, Diabetes und sogar Demenz zu leiden, gesteigert wird.\n",
    "\n",
    "Selbst in unserer Gruppe gibt es zwei Mitglieder, welche Alterseinsamkeit aus dem näheren Umfeld kennen. Bei den betroffenen Personen handelt es sich um Menschen, die durch die Covid-19 Pandemie viele Freunde verloren haben und weniger Chancen hatten, Kontakt mit der Familie aufrechtzuerhalten.\n",
    "\n",
    "All diese Dinge aus der Nähe zu erfahren hat uns die Augen geöffnet und uns aufgezeigt, dass diese Thematik tiefer erforscht werden muss. Damit soll ein Weg gefunden werden, wie das Risiko an Alterseinsamkeit zu leiden, reduziert werden kann. Wir möchten unseren Teil dazu beitragen und haben uns aus diesen Gründen für dieses Thema entschieden."
   ]
  },
  {
   "cell_type": "markdown",
   "metadata": {},
   "source": [
    "# Arbeitsaufteilung"
   ]
  },
  {
   "cell_type": "markdown",
   "metadata": {},
   "source": [
    "Als Team haben wir unsere Aufgabenstellungen nach unseren Interessen und in Hinsicht auf die erhaltenen Daten ausgearbeitet. Als Vierergruppe aus verschiedenen Studiengängen verfügten wir über ein breites Spektrum an Fähigkeiten, anhand welcher wir die Aufgaben verteilten. \n",
    "\n",
    "Für erste Einblicke in die Daten wurden von Joel mithilfe von Pandas Profiling Reports zu den verfügbaren Datensätzen erstellt. \n",
    "\n",
    "Initial haben Sascha und Joel sich mit der allgemeinen Analyse der Daten, das heisst mit der ersten Fragestellung, befasst. Dabei wurde sowohl individuell als auch zusammengearbeitet, um erste Erkenntnisse zu sammeln und Diagramme zu erstellen. \n",
    "\n",
    "Währenddessen haben sich Alessio und Lukas mit der zweiten Fragestellung auseinandergesetzt und dort erste Erkenntnisse gesammelt. \n",
    "\n",
    "Da diese ersten Analysen sehr breit und allgemein waren, konnte leider nicht alles davon sinnvoll in der Arbeit verwendet werden, doch die Lerneffekte und Erfahrungen blieben erhalten. \n",
    "\n",
    "Anschliessend hat sich Alessio mit der optionalen Fragestellung vertieft. Dabei griff er auf externe Literatur zurück. Währenddessen befasste sich Sascha, Lukas und Joel mit den jeweiligen Teilen der Datenanalyse. Individuell wurde an der Analyse und Visualisierung der Daten gearbeitet. \n",
    "\n",
    "Schliesslich erarbeiteten wir zusammen eine Struktur für den Bericht und begannen mit dem Schreiben der Texte. Jedes Mitglied verfasste die Texte zu den eigenen Visualisierungen und dahintersteckenden Analysen. Dabei wurde abgesprochen, wie der Übergang zwischen den Teilen stattfinden sollte. Alessio konnte durch seine Recherchen viele Erkenntnisse sammeln und diese nützlich in die Analyse der Daten einfliessen lassen. Durch gute Aufteilung in der Gruppe konnte ein spannendes Projekt als Jupyter Notebook durchgeführt werden. \n",
    "\n",
    "Das Poster sowie die Präsentation wurden von Alessio erstellt und von Alessio und Joel vorgetragen. \n",
    "\n",
    "Die Einleitung wurde von Alessio geschrieben. \n",
    "\n",
    "Das Abstract wurde gemeinsam formuliert. \n",
    "\n",
    "Die Erläuterung des Personen-Datensatzes wurde von Joel angefertigt und die Gemeinden-Datensätze von Sascha. \n",
    "\n",
    "Die verwendeten Tools wurden von Joel beschrieben. \n",
    "\n",
    "In den Kapiteln “Data loading” und “Data preparation” hat Sascha die Teile der Gemeinden erarbeitet und Joel die der Personen. \n",
    "\n",
    "Das Kapitel “Wohnverhalten nach Zivilstand” wurde vom Anfang bis hin zu aber ohne den Histogrammen von Joel erarbeitet. Der Rest des Kapitels, beginnend mit den Histogrammen, wurde von Sascha erarbeitet.\n",
    "\n",
    "Das Kapitel \"Möglichkeit einer Wohngemeinschaft für geschiedene, verwitwete oder einsame Menschen\" wurde von Beginn an von Lukas erarbeitet, ab der Stelle wo es mit den städtlichen vs ländlichen Vergleichen beginnt, wurde es von Sascha weiter gemacht, inklusive der interaktiven Karte. Nach der interaktiven Karte wurde der Rest des Kapitels von Lukas fertiggestellt.\n",
    "\n",
    "Das Kapitel \"Exemplarische Planung einer Community für Einsame\" wurde von Alessio erledigt. Dabei wurden Studien und weitere Forschungen verwendet. Das eigene Beispiel einer \"Mehrgenerationen-Wohnung\" wurde auch von ihm behandelt. \n",
    "\n",
    "Das Fazit wurde von Joel verfasst. "
   ]
  },
  {
   "cell_type": "markdown",
   "metadata": {
    "id": "Xdb_yboesC32"
   },
   "source": [
    "# Datensatz\n",
    "\n",
    "Um die Fragestellungen zu beantworten, wurde der Personen-Datensatz für den Kanton Luzern und drei weitere Kantone, sowie ein Gemeindendatensatz vom Kanton Luzern verwendet.\n",
    "\n",
    "## Personen\n",
    "\n",
    "In dem Personen-Datensatz wurde jährlich jede Person erfasst und pseudoanonymisiert, um den Datenschutz zu gewähren. Einige Attribute wurden zu Kategorien/Gruppen zusammengefasst, ebenfalls um den Datenschutz besser gewährleisten zu können. \\\n",
    "Für die Analyse waren die folgenden Spalten ausschlaggebend.\n",
    "\n",
    "- **personpseudoid:** Pseudoanonyme Identitätsnummer der Person. Wechselt zwischen Jahren, damit Nachfolgung erschwert ist.\n",
    "- **reportingmunicipalityid:** BFS-Nummer der Wohngemeinde der Person.\n",
    "- **statyear:** Jahr der Erhebung der Statistik.\n",
    "- **ageclass:** Altersklasse der Person. Auf 5 Jahre abgerundet (Altersklasse 15 = 15-19 jährig).\n",
    "- **populationtype:** Bevölkerungstyp der Person. Wir befassen uns ausschliesslich mit ständiger Wohnbevölkerung (Typ 1).\n",
    "- **maritalstatusclass:** Zivilstand der Person.\n",
    "    - 1 = Ledig\n",
    "    - 2 = Verheiratet oder in eingetragener Partnerschaft\n",
    "    - 3 = Verwitwet oder eingetragene Partnerschaft durch Tod aufgelöst\n",
    "    - 4 = Geschieden oder eingetragene Partnerschaft durch Gericht aufgelöst\n",
    "    - -9 = keine Angabe\n",
    "- **wazimclass:** Anzahl Zimmer der Wohnung aufgeteilt in Kategorien.\n",
    "    - 1-2\n",
    "    - 3-4\n",
    "    - 5-6\n",
    "    - \\>6\n",
    "\n",
    "## Gemeinden\n",
    "\n",
    "Im Gemeinden-Datensatz wurden alle Gemeinden der Schweiz erfasst, zusammen mit ihrer Bevölkerung und Fläche und der eindeutigen BFS-Nummer (Gemeindenummer). Für die Analyse wurde lediglich mit den Gemeinden von jenen Kantonen gearbeitet, die ausgewählt wurden. Die Daten kommen vom Bundesamt für Statistik und sind ursprünglich von 2021, da dort das neuste Dokument hochgeladen worden ist. Jedoch wurde es durch das Tool Mutierte Gemeinden (Bundesamt für Statistik, 2022) auf den aktuellen Stand gebracht, da seither manche Gemeinden fusioniert haben. Die relevanten Spalte sind hier angegeben:\n",
    "\n",
    "- **municipalityname:** Der Name der Gemeinde. Ist nicht eindeutig, da manche Gemeinden den gleichen Namen haben.\n",
    "- **canton:** Der Kanton einer Gemeinde, abgekürzt mit zwei Buchstaben.\n",
    "- **reportingmunicipalityid:** BFS-Nummer der Gemeinde. Ist für jede Gemeinde eindeutig und wird als index verwendet.\n",
    "- **population:** Die Population (Bevölkerungsgrösse) einer Gemeinde.\n",
    "- **areainkm2:** Die Fläche einer Gemeinde in Quadratkilometer.\n",
    "- **peopleperkm2:** Die Population einer Gemeinde dividiert durch die Fläche der Gemeinde. Dies ergibt somit die Anzahl Personen pro Quadratkilometer. Wichtig ist zu sagen, dass bei Gemeinden, die viel Fläche, aber eine sehr konzentrierte Bevölkerung haben, dies irreführend sein könnte.\n",
    "\n",
    "## Luzerner Gemeinden-Koordinaten\n",
    "\n",
    "Zusätzlich zum Gemeinden-Datensatz wurde ein eigenes Luzerner Gemeinden-Koordinaten Datensatz erstellt. Dafür wurden die Koordinaten der Gemeinden auf eine Karte gemappt. Damit wurde das einfärben von Karten möglich sie konnte interaktiv verwenden werden. Dieses Datensatz wurde selber erstellt. Für diesen Datensatz wurden 6 neue Spalten definiert, die die Gemeinden mit ihren Flächen darstellen.\n",
    "\n",
    "- **xcoordinate:** Die X-Position einer Gemeinde auf der Karte.\n",
    "- **ycoordinate:** Die Y-Position einer Gemeinde auf der Karte.\n",
    "- **xcoordinate2:** Falls die Gemeinde ein zweites Gebiete ausserhalb hat, das abgekapselt ist, wurde es hier mit einer anderen X-Koordinaten versehen. Ansonsten -99.\n",
    "- **ycoordinate2:** Falls die Gemeinde ein zweites Gebiete ausserhalb hat, das abgekapselt ist, wurde es hier mit einer anderen Y-Koordinaten versehen. Ansonsten -99.\n",
    "- **xcoordinate3:** Insofern ein drittes abgekapselte Gebiet existiert, wird diese X-Koordinate hier versehen. Ansonsten -99.\n",
    "- **ycoordinate3:** Insofern ein drittes abgekapselte Gebiet existiert, wird diese Y-Koordinate hier versehen.Ansonsten -99."
   ]
  },
  {
   "cell_type": "markdown",
   "metadata": {
    "id": "eRgotWlwJvMy",
    "jp-MarkdownHeadingCollapsed": true,
    "tags": []
   },
   "source": [
    "# Tools\n",
    "\n",
    "Für die Umsetzung dieses Projekts, wurden verschiedene Tools und Bibliotheken eingesetzt.\n",
    "\n",
    "## nbstripout\n",
    "\n",
    "[nbstripout](https://github.com/kynan/nbstripout) ist eine Python Bibliothek und App, die die Zusammenarbeit bei Jupyter Notebooks mit git deutlich erleichert.  \n",
    "Sie verhindert, dass Code outputs und ähnliche Artefakte, die häufig zu Problemen wie Merge Konflikten führen, committed werden.\n",
    "\n",
    "## NumPy\n",
    "\n",
    "[NumPy](https://numpy.org) ist eine numerische Bibliothek für die Bearbeitung von Matrizen und Arrays.  \n",
    "NumPy wurde hauptsächlich implizit verwendet, da viele andere Bibliotheken mit NumPy Arrays arbeiten.\n",
    "\n",
    "## Pandas\n",
    "\n",
    "[Pandas](https://pandas.pydata.org/) ist eine Bibliothek für Datenverarbeitung und erlaubt das effiziente Einlesen und Manipulieren von Daten. Pandas baut auf NumPy auf.\n",
    "\n",
    "## Matplotlib\n",
    "\n",
    "[Matplotlib](https://matplotlib.org/) ist eine Visualisierungsbibliothek, um einfache, aber auch sehr komplexe Visualisierungen zu erstellen.  \n",
    "Um mit den Daten zu interagieren, verwendet Matplotlib Pandas und NumPy intern, weshalb es auch darauf aufbaut.\n",
    "\n",
    "## Seaborn\n",
    "\n",
    "[Seaborn](https://seaborn.pydata.org/) ist ebenfalls eine Visualisierungsbibliothek, die auf Matplotlib aufbaut.  \n",
    "Sie hat eine einfachere API, schöneres Default-Styling und bessere Farbverwaltung.  \n",
    "Bei der Erstellung der Visualisierungen wurde häufig zuerst mit Seaborn gearbeitet und dann mit Matplotlib der Feinschliff gemacht.\n",
    "\n",
    "## Pandas Profiling\n",
    "[Pandas Profiling](https://github.com/ydataai/pandas-profiling) ist eine Bibliothek, welche erlaubt ausführliche interaktive Berichte zu Datensätzen schnell und mit wenig Code zu erstellen. Diese Berichte geben einen ersten Einblick in die Daten und zeigen Korrelationen und weitere interessante Merkmale und Zusammenhänge auf."
   ]
  },
  {
   "cell_type": "markdown",
   "metadata": {
    "id": "33ccYHbPsPji"
   },
   "source": [
    "# Boilerplate"
   ]
  },
  {
   "cell_type": "code",
   "execution_count": null,
   "metadata": {
    "colab": {
     "base_uri": "https://localhost:8080/"
    },
    "id": "if7HJHixiWP9",
    "outputId": "7db8caff-8d93-4990-cc66-84d7ec0f5a0d"
   },
   "outputs": [],
   "source": [
    "import pandas as pd\n",
    "import numpy as np\n",
    "import seaborn as sns\n",
    "import colorsys\n",
    "import matplotlib as mpl \n",
    "import matplotlib.pyplot as plt\n",
    "import matplotlib.ticker as mtick\n",
    "import matplotlib.patches as mpatches\n",
    "import matplotlib.colors as mc\n",
    "from matplotlib import transforms\n",
    "from matplotlib.image import imread\n",
    "from matplotlib.pyplot import ginput\n",
    "from matplotlib.colors import ListedColormap, LinearSegmentedColormap"
   ]
  },
  {
   "cell_type": "code",
   "execution_count": null,
   "metadata": {
    "id": "TFP-im2uTXtt"
   },
   "outputs": [],
   "source": [
    "sns.set(rc={\"figure.figsize\":(15, 10)})"
   ]
  },
  {
   "cell_type": "markdown",
   "metadata": {},
   "source": [
    "Damit die Farben für alle Charts konsistent sind, werden sie hier bereits definiert."
   ]
  },
  {
   "cell_type": "code",
   "execution_count": null,
   "metadata": {},
   "outputs": [],
   "source": [
    "maritalstatus_colors = sns.color_palette(n_colors=5)\n",
    "[child_color, single_color, married_color, divorced_color, widowed_color] = maritalstatus_colors"
   ]
  },
  {
   "cell_type": "code",
   "execution_count": null,
   "metadata": {},
   "outputs": [],
   "source": [
    "household_size_colors = sns.color_palette(\"husl\", 4) + [\"darkgray\"]  # 1-4 and then 5+, for this and maybe also the wazim_colors we could also use a segmented sequential color map"
   ]
  },
  {
   "cell_type": "code",
   "execution_count": null,
   "metadata": {},
   "outputs": [],
   "source": [
    "wazim_colors = sns.color_palette(\"Set2\", 4)"
   ]
  },
  {
   "cell_type": "markdown",
   "metadata": {
    "id": "W0ANC0cKsTJL"
   },
   "source": [
    "# Data loading"
   ]
  },
  {
   "cell_type": "code",
   "execution_count": null,
   "metadata": {
    "id": "XM76n5l0Y4Ar"
   },
   "outputs": [],
   "source": [
    "data_folder = \"./data/\""
   ]
  },
  {
   "cell_type": "markdown",
   "metadata": {},
   "source": [
    "## People"
   ]
  },
  {
   "cell_type": "markdown",
   "metadata": {},
   "source": [
    "Für die Analyse sind nicht alle Spalten relevant. Um Arbeitsspeicher zu sparen, werden nur die relevanten Spalten in Python geladen."
   ]
  },
  {
   "cell_type": "code",
   "execution_count": null,
   "metadata": {},
   "outputs": [],
   "source": [
    "all_columns = [\"reportingmunicipalityid\", \"statyear\", \"personpseudoid\", \"ageclass\", \"nationalityclass\", \"populationtype\", \"maritalstatusclass\", \"arrivalyearmunicipality\", \"arrivalyearswitzerland\", \"egid\", \"householdid\", \"gbaups\", \"gkats\", \"gastws\", \"gazwot\", \"eh\", \"nh\", \"ewid\", \"wazimclass\", \"wareaclass\"]"
   ]
  },
  {
   "cell_type": "code",
   "execution_count": null,
   "metadata": {},
   "outputs": [],
   "source": [
    "relevant_columns = ['reportingmunicipalityid', 'statyear', 'personpseudoid', 'ageclass', 'maritalstatusclass', 'householdid', 'wazimclass', 'populationtype']"
   ]
  },
  {
   "cell_type": "code",
   "execution_count": null,
   "metadata": {
    "id": "7L2ehpyej7ax"
   },
   "outputs": [],
   "source": [
    "people_luzern = pd.read_csv(data_folder + 'Kanton_Luzern.tsv', delimiter=\"\\t\", header=None, names=all_columns, usecols=relevant_columns)"
   ]
  },
  {
   "cell_type": "markdown",
   "metadata": {
    "id": "gVOCd9ePT0vD"
   },
   "source": [
    "Wie bereits erwähnt, ist für die Analyse nur die ständige Bevölkerung von Interesse. Aus diesem Grund werden alle anderen (nicht-ständig, aktuellster Zweitwohnsitz, anderer Zweitwohnsitz) entfernt. Dies geschieht bereits beim Einlesen der Daten, um RAM zu sparen."
   ]
  },
  {
   "cell_type": "code",
   "execution_count": null,
   "metadata": {},
   "outputs": [],
   "source": [
    "def drop_non_permanent(people):\n",
    "    people.drop(index=people.index[people.populationtype != 1], inplace=True)\n",
    "    people.drop(['populationtype'], axis=1, inplace=True)"
   ]
  },
  {
   "cell_type": "code",
   "execution_count": null,
   "metadata": {
    "id": "ledEV4J6T4t0"
   },
   "outputs": [],
   "source": [
    "drop_non_permanent(people_luzern)"
   ]
  },
  {
   "cell_type": "code",
   "execution_count": null,
   "metadata": {},
   "outputs": [],
   "source": [
    "people_luzern['canton'] = 'LU'  # Datensatz als Luzern identifizieren"
   ]
  },
  {
   "cell_type": "code",
   "execution_count": null,
   "metadata": {
    "colab": {
     "base_uri": "https://localhost:8080/",
     "height": 772
    },
    "id": "k4etYN9TsUJD",
    "outputId": "aed680f0-bf4b-4e6f-931f-a959618861cf"
   },
   "outputs": [],
   "source": [
    "people_luzern.describe(include='all').T"
   ]
  },
  {
   "cell_type": "code",
   "execution_count": null,
   "metadata": {
    "id": "zhooOdN2qDF2"
   },
   "outputs": [],
   "source": [
    "people_zurich = pd.read_csv(data_folder + 'Kanton_Zuerich.tsv', delimiter=\"\\t\", header=None, names=all_columns, usecols=relevant_columns)\n",
    "people_zurich['canton'] = 'ZH'"
   ]
  },
  {
   "cell_type": "code",
   "execution_count": null,
   "metadata": {
    "id": "ledEV4J6T4t0"
   },
   "outputs": [],
   "source": [
    "drop_non_permanent(people_zurich)"
   ]
  },
  {
   "cell_type": "code",
   "execution_count": null,
   "metadata": {
    "colab": {
     "base_uri": "https://localhost:8080/",
     "height": 741
    },
    "id": "jqg5Le71swWV",
    "outputId": "d57cfec7-aea2-4062-e357-ff3e47d4d1ed"
   },
   "outputs": [],
   "source": [
    "people_zurich.describe(include='all').T"
   ]
  },
  {
   "cell_type": "code",
   "execution_count": null,
   "metadata": {
    "id": "DAtIoxLNr0Ry"
   },
   "outputs": [],
   "source": [
    "people_bern = pd.read_csv(data_folder + 'Kanton_Bern.tsv', delimiter=\"\\t\", header=None, names=all_columns, usecols=relevant_columns)\n",
    "people_bern['canton'] = 'BE'"
   ]
  },
  {
   "cell_type": "code",
   "execution_count": null,
   "metadata": {},
   "outputs": [],
   "source": [
    "drop_non_permanent(people_bern)"
   ]
  },
  {
   "cell_type": "code",
   "execution_count": null,
   "metadata": {
    "colab": {
     "base_uri": "https://localhost:8080/",
     "height": 772
    },
    "id": "vo70Mqe9vyri",
    "outputId": "dc959dce-74a9-4608-ea94-514580ddda4b"
   },
   "outputs": [],
   "source": [
    "people_bern.describe(include='all').T"
   ]
  },
  {
   "cell_type": "code",
   "execution_count": null,
   "metadata": {
    "id": "kNXhUWZIr24s"
   },
   "outputs": [],
   "source": [
    "people_basel_stadt = pd.read_csv(data_folder + 'Kanton_Basel-Stadt.tsv', delimiter=\"\\t\", header=None, names=all_columns, usecols=relevant_columns)\n",
    "people_basel_stadt['canton'] = 'BS'"
   ]
  },
  {
   "cell_type": "code",
   "execution_count": null,
   "metadata": {},
   "outputs": [],
   "source": [
    "drop_non_permanent(people_basel_stadt)"
   ]
  },
  {
   "cell_type": "code",
   "execution_count": null,
   "metadata": {
    "colab": {
     "base_uri": "https://localhost:8080/",
     "height": 752
    },
    "id": "ORrP8EVPr6pE",
    "outputId": "70aa6f34-92b6-4814-95a6-ac37ed883fc5"
   },
   "outputs": [],
   "source": [
    "people_basel_stadt.describe(include='all').T"
   ]
  },
  {
   "cell_type": "code",
   "execution_count": null,
   "metadata": {
    "id": "hijrb9VWwDjA"
   },
   "outputs": [],
   "source": [
    "people = pd.concat([people_luzern, people_zurich, people_bern, people_basel_stadt], axis=0, copy=False)"
   ]
  },
  {
   "cell_type": "code",
   "execution_count": null,
   "metadata": {
    "id": "FHz9HPyPstt7"
   },
   "outputs": [],
   "source": [
    "people.describe(include='all').T"
   ]
  },
  {
   "cell_type": "code",
   "execution_count": null,
   "metadata": {},
   "outputs": [],
   "source": [
    "people.info(memory_usage='deep')"
   ]
  },
  {
   "cell_type": "markdown",
   "metadata": {},
   "source": [
    "## Municipalities"
   ]
  },
  {
   "cell_type": "markdown",
   "metadata": {},
   "source": [
    "Ein weiterer eigener Datensatz wird noch eingebracht, um die Unterschiede von Stadt und Land aufzeigen zu können. Dabei enthält dieser alle Gemeinden in der Schweiz, zusammen mit der Bevölkerungszahl sowie Bevölkerungsdichte."
   ]
  },
  {
   "cell_type": "markdown",
   "metadata": {},
   "source": [
    "Davon werden zuerst die gesamten Daten eingelesen"
   ]
  },
  {
   "cell_type": "code",
   "execution_count": null,
   "metadata": {},
   "outputs": [],
   "source": [
    "municipalities = pd.read_csv(data_folder + 'Gemeinden_Daten.csv', delimiter=\"\\t\")"
   ]
  },
  {
   "cell_type": "markdown",
   "metadata": {},
   "source": [
    "Dieser enthält alle aktuellen Gemeinden in der Schweiz mit den wichtigsten Spalten, die für die Analyse wichtig sind."
   ]
  },
  {
   "cell_type": "code",
   "execution_count": null,
   "metadata": {},
   "outputs": [],
   "source": [
    "municipalities.describe(include='all').T"
   ]
  },
  {
   "cell_type": "markdown",
   "metadata": {},
   "source": [
    "Zudem ist für jeden Datensatz jedes Attribut vorhanden."
   ]
  },
  {
   "cell_type": "code",
   "execution_count": null,
   "metadata": {},
   "outputs": [],
   "source": [
    "municipalities.count()"
   ]
  },
  {
   "cell_type": "markdown",
   "metadata": {},
   "source": [
    "Anschliessend werden alle Gemeinden gelöscht, die keine Relevanz aufzeigen. Da mit den Kantonen Zürich, Luzern, Bern, sowie Basel-Stadt gearbeitet wurde, wurde eine Abfrage kreiert, die alle anderen Kantone vom Datensatz entfernt."
   ]
  },
  {
   "cell_type": "code",
   "execution_count": null,
   "metadata": {},
   "outputs": [],
   "source": [
    "drop_condition = \"canton != 'ZH' and canton != 'LU' and canton != 'BE' and canton != 'BS'\"\n",
    "municipalities.drop(municipalities.query(drop_condition).index, inplace=True)"
   ]
  },
  {
   "cell_type": "markdown",
   "metadata": {},
   "source": [
    "Nun kann man sehen, dass der Datensatz lediglich noch 583 Gemeinden enthält, nämlich dienjenigen, welche für die Analysis gebraucht werden."
   ]
  },
  {
   "cell_type": "code",
   "execution_count": null,
   "metadata": {},
   "outputs": [],
   "source": [
    "municipalities.describe(include='all').T"
   ]
  },
  {
   "cell_type": "markdown",
   "metadata": {},
   "source": [
    "Weiterhin wird noch ein kleiner Datensatz eingelesen, der zusätzlich die Gemeinde-Koordinaten von allen Gemeinden in Luzern von einer bestimmten Karte beherbegt, um später Kartenanalysen zu erstellen. "
   ]
  },
  {
   "cell_type": "code",
   "execution_count": null,
   "metadata": {},
   "outputs": [],
   "source": [
    "luzern_municipalities_coordinates = pd.read_csv(data_folder + 'Luzern_Koordinaten.csv', delimiter=\",\")"
   ]
  },
  {
   "cell_type": "markdown",
   "metadata": {},
   "source": [
    "Die Karte wird mit imread ebenfalls eingelesen. Das stellt die Luzerner Karte mit allen Gemeinden dar."
   ]
  },
  {
   "cell_type": "code",
   "execution_count": null,
   "metadata": {},
   "outputs": [],
   "source": [
    "luzern_map_borders = imread(data_folder  + 'Luzern_Map_Klein.png')"
   ]
  },
  {
   "cell_type": "markdown",
   "metadata": {
    "id": "m0Mf8131r_IM"
   },
   "source": [
    "# Data preparation"
   ]
  },
  {
   "cell_type": "code",
   "execution_count": null,
   "metadata": {
    "id": "vnQ2V_7svOsq"
   },
   "outputs": [],
   "source": [
    "def print_df_dtypes(df):\n",
    "    print(\"data types:\")\n",
    "    for column, dtype in zip(df.columns, df.dtypes):\n",
    "        print(\"\\t\", column, \":\", dtype)"
   ]
  },
  {
   "cell_type": "code",
   "execution_count": null,
   "metadata": {
    "id": "JTyEiYCZvpSJ"
   },
   "outputs": [],
   "source": [
    "def update_dataframe_types(name, df, types):\n",
    "    print(name + \" before\", end =\" \")\n",
    "    print_df_dtypes(df)\n",
    "\n",
    "    df = df.astype(types)\n",
    "    print()\n",
    "    print(name + \" after\", end =\" \")\n",
    "    print_df_dtypes(df)\n",
    "\n",
    "    return df"
   ]
  },
  {
   "cell_type": "markdown",
   "metadata": {},
   "source": [
    "## People"
   ]
  },
  {
   "cell_type": "markdown",
   "metadata": {
    "id": "MNTUJXeZPLZF"
   },
   "source": [
    "Um die Arbeit mit den Daten zu erleichtern, werden die Datentypen für die Spalten entsprechend den Spezifikationen des Datensatzes angepasst."
   ]
  },
  {
   "cell_type": "code",
   "execution_count": null,
   "metadata": {
    "id": "aH6_OfaGr71S"
   },
   "outputs": [],
   "source": [
    "people = update_dataframe_types(\"people\", people, {\n",
    "    'reportingmunicipalityid': pd.CategoricalDtype(),\n",
    "    'statyear': int,\n",
    "    'ageclass': int,\n",
    "    'maritalstatusclass': pd.CategoricalDtype(),\n",
    "    'wazimclass': pd.CategoricalDtype(),\n",
    "    'canton': pd.CategoricalDtype()\n",
    "})"
   ]
  },
  {
   "cell_type": "markdown",
   "metadata": {},
   "source": [
    "In den Daten hat es einige Einträge doppelt. Mit der folgenden Code-Zeile werden diese entfernt."
   ]
  },
  {
   "cell_type": "code",
   "execution_count": null,
   "metadata": {},
   "outputs": [],
   "source": [
    "people.drop_duplicates(inplace=True)  # delete full-row duplicates"
   ]
  },
  {
   "cell_type": "markdown",
   "metadata": {
    "id": "NKxga39r9-dS"
   },
   "source": [
    "Als Index wird ein Verbund aus Kanton, Jahr, Haushaltsid und Personenid verwendet. Dies erlaubt effizientes filtern und gruppieren nach diesen Spalten."
   ]
  },
  {
   "cell_type": "code",
   "execution_count": null,
   "metadata": {
    "id": "Xdj4V6CByLnE"
   },
   "outputs": [],
   "source": [
    "people.set_index(['canton', 'statyear', 'householdid', 'personpseudoid'], inplace=True)"
   ]
  },
  {
   "cell_type": "code",
   "execution_count": null,
   "metadata": {},
   "outputs": [],
   "source": [
    "people.sort_index(inplace=True)"
   ]
  },
  {
   "cell_type": "code",
   "execution_count": null,
   "metadata": {},
   "outputs": [],
   "source": [
    "people"
   ]
  },
  {
   "cell_type": "code",
   "execution_count": null,
   "metadata": {},
   "outputs": [],
   "source": [
    "people.index.duplicated(keep=False).any()  # no more duplicates in index after dropping full-row duplicates"
   ]
  },
  {
   "cell_type": "markdown",
   "metadata": {
    "id": "jZ3eEUxsuAWJ"
   },
   "source": [
    "Für die Analyse ist relevant, mit wie vielen anderen Personen eine Person lebt. Deshalb wird pro Haushalt die Haushaltsgrösse in Anzahl Personen berechnet und zur Personentabelle hinzugefügt (Personen im selben Haushalt haben logischerweise dieselbe Haushaltsgrösse)."
   ]
  },
  {
   "cell_type": "code",
   "execution_count": null,
   "metadata": {
    "id": "n5WD_HnWt_6q"
   },
   "outputs": [],
   "source": [
    "household_ages_grouped = people.ageclass.groupby(level='householdid')\n",
    "people['household_size'] = household_ages_grouped.transform('size')"
   ]
  },
  {
   "cell_type": "markdown",
   "metadata": {
    "id": "5l62m_m8RHGn"
   },
   "source": [
    "Ebenfalls wichtig ist der Zivilstand. Dieser ist in den Rohdaten als Zahl (1-4) gespeichert, was schwer zum interpretieren ist. Deshalb wird die Spalte mit einer neuen Spalte mit beschreibenden Kategorien ersetzt."
   ]
  },
  {
   "cell_type": "code",
   "execution_count": null,
   "metadata": {
    "id": "VeICGkAu7oeV"
   },
   "outputs": [],
   "source": [
    "people[\"orig_maritalstatusclass\"] = people.maritalstatusclass.copy()"
   ]
  },
  {
   "cell_type": "code",
   "execution_count": null,
   "metadata": {
    "id": "GHMEKXqwtC70"
   },
   "outputs": [],
   "source": [
    "people.maritalstatusclass.cat.rename_categories({-9: \"unspecified\", 1: \"single\", 2: \"married\", 3: \"widowed\", 4: \"divorced\"}, inplace=True)"
   ]
  },
  {
   "cell_type": "markdown",
   "metadata": {
    "id": "1fQaX1a80mHu"
   },
   "source": [
    "Um Kinder erkennen zu können, muss geschätzt werden. Zum Zweck der Analyse werden alle Personen als Kinder identifiziert, die ledig sind oder keinen Zivilstand eingetragen haben, zwischen 0 und 19 Jahren alt sind und in einem Haushalt von mind. 2 Personen leben."
   ]
  },
  {
   "cell_type": "code",
   "execution_count": null,
   "metadata": {
    "id": "_QzwJwEYs8nD"
   },
   "outputs": [],
   "source": [
    "children = people.query(\"(maritalstatusclass == 'unspecified' | maritalstatusclass == 'single') & ageclass <= 15 & household_size >= 2\")\n",
    "children"
   ]
  },
  {
   "cell_type": "code",
   "execution_count": null,
   "metadata": {
    "id": "OSgxLYZg9JIg"
   },
   "outputs": [],
   "source": [
    "people.maritalstatusclass.cat.add_categories({\"child\"}, inplace=True)"
   ]
  },
  {
   "cell_type": "markdown",
   "metadata": {
    "id": "iQBtharLBDQs"
   },
   "source": [
    "Um repräsentative Aussagen zum Wohnverhalten in Abhängigkeit des Zivilstands machen zu können, wird beim Zivilstand nun von Ledig und Kind unterschieden."
   ]
  },
  {
   "cell_type": "code",
   "execution_count": null,
   "metadata": {
    "id": "uuZFUu6u63AZ"
   },
   "outputs": [],
   "source": [
    "people.loc[children.index, \"maritalstatusclass\"] = \"child\""
   ]
  },
  {
   "cell_type": "markdown",
   "metadata": {},
   "source": [
    "## Municipalities"
   ]
  },
  {
   "cell_type": "markdown",
   "metadata": {},
   "source": [
    "Die Gemeinden Daten müssen ebenfalls präperiert werden. Dafür werden zuerst die Datentypen geupdatet."
   ]
  },
  {
   "cell_type": "code",
   "execution_count": null,
   "metadata": {},
   "outputs": [],
   "source": [
    "municipalities = update_dataframe_types(\"municipalities\", municipalities, {\n",
    "    'reportingmunicipalityid': int,\n",
    "    'municipalityname': pd.StringDtype(),\n",
    "    'canton': pd.CategoricalDtype(),\n",
    "    'population': int,\n",
    "    'areainkm2': float,\n",
    "    'peopleperkm2': float,\n",
    "})"
   ]
  },
  {
   "cell_type": "markdown",
   "metadata": {},
   "source": [
    "Als Index wird reportingmunicipalityid gesetzt, welches die Gemeindenummer darstellt und somit für eine Gemeinde einzigartig ist."
   ]
  },
  {
   "cell_type": "code",
   "execution_count": null,
   "metadata": {},
   "outputs": [],
   "source": [
    "municipalities.set_index('reportingmunicipalityid', inplace=True)"
   ]
  },
  {
   "cell_type": "markdown",
   "metadata": {},
   "source": [
    "Um einen Stadt Land Vergleich zu machen, wird den Gemeinden ein \"ist eine Stadt\" Attribut hinzugefügt. Dafür wird eine Bevölkerungsgrösse von mindestens 10'000 verwendet, um eine Gemeinde als Stadt zu markieren. "
   ]
  },
  {
   "cell_type": "code",
   "execution_count": null,
   "metadata": {},
   "outputs": [],
   "source": [
    "municipalities['is_city'] =  np.where(municipalities['population'] >= 10000, True, False)"
   ]
  },
  {
   "cell_type": "markdown",
   "metadata": {},
   "source": [
    "Im Anschluss werden die Personen mit den Gemeinden verbunden, um ihnen ein Attribut \"lebt in einer Stadt\" hinzuzufügen. Falls die Person innerhalb einer Gemeinde lebt, die als Stadt deklariert ist, wird dieses Attribut auf True gesetzt. "
   ]
  },
  {
   "cell_type": "code",
   "execution_count": null,
   "metadata": {},
   "outputs": [],
   "source": [
    "people = people.merge(municipalities.is_city, left_on='reportingmunicipalityid',  right_index=True)\n",
    "people.rename(columns = {'is_city':'lives_in_city'}, inplace = True)"
   ]
  },
  {
   "cell_type": "markdown",
   "metadata": {},
   "source": [
    "Die Datentypen werden auch für diesen Datensatz aktualisiert. "
   ]
  },
  {
   "cell_type": "code",
   "execution_count": null,
   "metadata": {},
   "outputs": [],
   "source": [
    "luzern_municipalities_coordinates = update_dataframe_types(\"luzern_municipalities_coordinates\", luzern_municipalities_coordinates, {\n",
    "    'reportingmunicipalityid': int,\n",
    "    'municipalityname': pd.StringDtype(),\n",
    "    'canton': pd.CategoricalDtype(),\n",
    "    'population': int,\n",
    "    'areainkm2': float,\n",
    "    'peopleperkm2': float,\n",
    "    'xcoordinate': int,\n",
    "    'ycoordinate': int,\n",
    "    'xcoordinate2': int,\n",
    "    'ycoordinate2': int,\n",
    "    'xcoordinate3': int,\n",
    "    'ycoordinate3': int\n",
    "})"
   ]
  },
  {
   "cell_type": "markdown",
   "metadata": {},
   "source": [
    "Auch hier ist die BFS-Nummer der Index, da diese eindeutig ist."
   ]
  },
  {
   "cell_type": "code",
   "execution_count": null,
   "metadata": {},
   "outputs": [],
   "source": [
    "luzern_municipalities_coordinates.set_index('reportingmunicipalityid', inplace=True)"
   ]
  },
  {
   "cell_type": "code",
   "execution_count": null,
   "metadata": {},
   "outputs": [],
   "source": [
    "luzern_municipalities_coordinates"
   ]
  },
  {
   "cell_type": "markdown",
   "metadata": {},
   "source": [
    "Die Karte muss ebenfalls präperiert werden, da die Grenzen klar definiert sein müssen, um es anschaulicher zu gestalten und sicher zu sein, dass die Pixel \"korrekt\" sind. Später werden nur vollständig weisse Pixel eingefärbt."
   ]
  },
  {
   "cell_type": "code",
   "execution_count": null,
   "metadata": {},
   "outputs": [],
   "source": [
    "def get_map_with_drawn_borders(img):\n",
    "    \n",
    "    for y in range(img.shape[0]): #0 is the y dimension \n",
    "        for x in range(img.shape[1]):\n",
    "            pixel_color = img[y, x]\n",
    "            \n",
    "            #Define Clear borders in map\n",
    "            if (pixel_color[2] < 0.5):\n",
    "                img[y, x] = (0, 0, 0)#0.0 Very Black Borders\n",
    "\n",
    "            elif (0.5 < pixel_color[2] < 0.83):\n",
    "                img[y, x] = (0.25, 0.25, 0.25) #Borders in between Municipalities\n",
    "\n",
    "            elif (0.83 <= pixel_color[2] < 0.97):\n",
    "                img[y, x] = (0.25, 0.25, 0.25)#Borders in between Municipalities\n",
    "                \n",
    "                #White should be completly white (second condition is there in order to not make the sea white)\n",
    "            elif (0.97 <= pixel_color[2] and pixel_color[0] > 0.925):\n",
    "                img[y, x] = (1, 1, 1) #make sure that white is completely white \n",
    "\n",
    "\n",
    "get_map_with_drawn_borders(luzern_map_borders)\n",
    "plt.imshow(luzern_map_borders)"
   ]
  },
  {
   "cell_type": "markdown",
   "metadata": {
    "id": "tcb54x-bDOmC"
   },
   "source": [
    "## Households"
   ]
  },
  {
   "cell_type": "markdown",
   "metadata": {
    "id": "wpIBtSJBw1SY"
   },
   "source": [
    "Für die Analyse sind auch die Haushalte relevant.\n",
    "\n",
    "Dafür wird eine neue Tabelle erstellt, die pro Zeile einen Haushalt zusammenfasst. Dabei werden die Durchschnitte von allen Personen im Haushalt genommen. Beim Alter gibt das den Altersdurchschnitt des Haushalts, aber bei vielen anderen Spalten werden die Werte pro Haushalt die gleichen sein (z.B. Haushaltsgrösse und Anzahl Zimmer).\n",
    "\n",
    "Zuerst wird verifiziert, dass die Haushaltsids pro Kanton einzigartig sind, das heisst, dass keine Konflikte entstehen, wenn nur nach Haushaltsid gruppiert wird. Dies gilt auch rückwirkend, eine solche Gruppierung wird nämlich bereits oberhalb verwendet (beim berechnen der Haushaltsgrössen)."
   ]
  },
  {
   "cell_type": "code",
   "execution_count": null,
   "metadata": {},
   "outputs": [],
   "source": [
    "canton_households = people.reset_index()[['canton', 'householdid']]"
   ]
  },
  {
   "cell_type": "markdown",
   "metadata": {},
   "source": [
    "Diese Zelle löscht alle Einträge, bei welchen sowohl der Kanton wie auch die Haushaltsid gleich ist."
   ]
  },
  {
   "cell_type": "code",
   "execution_count": null,
   "metadata": {},
   "outputs": [],
   "source": [
    "canton_households.drop_duplicates(inplace=True)\n",
    "canton_households"
   ]
  },
  {
   "cell_type": "markdown",
   "metadata": {},
   "source": [
    "Zeigt, dass es über Kantone hinweg nur eindeutige Haushaltsids gibt, auch wenn es innerhalb vom Kanton logischerweise mehrere Einträge mit der gleichen Haushaltsid geben kann."
   ]
  },
  {
   "cell_type": "code",
   "execution_count": null,
   "metadata": {},
   "outputs": [],
   "source": [
    "canton_households.householdid.duplicated(keep=False).any()  # there are no duplicate households across cantons"
   ]
  },
  {
   "cell_type": "markdown",
   "metadata": {},
   "source": [
    "Für die Zusammenfassung eines Haushalts wird jeweils nur die erste Person des Haushalts ausgelesen, und alle Spalten, die pro Haushalt gleich sind, übernommen. Spalten, bei welchen der Durchschnitt genommen werden muss, werden nachträglich berechnet und hinzugefügt.\n",
    "\n",
    "Natürlich muss dabei auch der Index angepasst werden, denn nun genügt für die Identifikation eines Haushalts die Haushaltsid und die Personen-id wird überflüssig. Kanton und Jahr werden trotzdem beibehalten, damit weiterhin effizient danach gefiltert und gruppiert werden kann."
   ]
  },
  {
   "cell_type": "code",
   "execution_count": null,
   "metadata": {},
   "outputs": [],
   "source": [
    "household_duplicate_bools = ~people.index.get_level_values('householdid').duplicated()"
   ]
  },
  {
   "cell_type": "code",
   "execution_count": null,
   "metadata": {},
   "outputs": [],
   "source": [
    "unique_household_first_person = people[['reportingmunicipalityid', 'wazimclass', 'household_size', 'lives_in_city']][household_duplicate_bools]\n",
    "unique_household_first_person = unique_household_first_person.droplevel('personpseudoid')"
   ]
  },
  {
   "cell_type": "markdown",
   "metadata": {},
   "source": [
    "Für den Altersdurchschnitt pro Haushalt muss der Durchschnitt genommen werden. Dieser wird aus der bereits erstellten Gruppierung der Personen pro Haushalt berechnet."
   ]
  },
  {
   "cell_type": "code",
   "execution_count": null,
   "metadata": {},
   "outputs": [],
   "source": [
    "household_ages = household_ages_grouped.mean()"
   ]
  },
  {
   "cell_type": "code",
   "execution_count": null,
   "metadata": {},
   "outputs": [],
   "source": [
    "household_ages"
   ]
  },
  {
   "cell_type": "markdown",
   "metadata": {},
   "source": [
    "Dieser Altersdurchschnitt wird nun zu der Haushaltstabelle hinzugefügt."
   ]
  },
  {
   "cell_type": "code",
   "execution_count": null,
   "metadata": {},
   "outputs": [],
   "source": [
    "households = unique_household_first_person.merge(household_ages, left_on='householdid', right_index=True, copy=False)"
   ]
  },
  {
   "cell_type": "markdown",
   "metadata": {},
   "source": [
    "Eine für die Analyse wichtige Information, die bei der Gruppierung der Haushalte verloren ging, ist die Anzahl Personen von den jeweiligen Zivilständen. Damit direkt auf diese Informationen zugegriffen werden kann, wird der households Tabelle die Spalten singles_count, married_count, widowed_count, divorced_count und children_count hinzugefügt."
   ]
  },
  {
   "cell_type": "code",
   "execution_count": null,
   "metadata": {},
   "outputs": [],
   "source": [
    "# for some reason this seemingly expensive operation of grouping 5 dataframes and getting their sizes individually, is much faster than grouping the maritalstatus\n",
    "# by householdid and then counting the different category occurances per group.\n",
    "single_people = people.query(\"maritalstatusclass == 'single'\")\n",
    "married_people = people.query(\"maritalstatusclass == 'married'\")\n",
    "widowed_people = people.query(\"maritalstatusclass == 'widowed'\")\n",
    "divorced_people = people.query(\"maritalstatusclass == 'divorced'\")"
   ]
  },
  {
   "cell_type": "code",
   "execution_count": null,
   "metadata": {},
   "outputs": [],
   "source": [
    "households_with_singles = single_people.groupby('householdid')\n",
    "households_with_married = married_people.groupby('householdid')\n",
    "households_with_widowed = widowed_people.groupby('householdid')\n",
    "households_with_divorced = divorced_people.groupby('householdid')\n",
    "households_with_children = children.groupby('householdid')"
   ]
  },
  {
   "cell_type": "code",
   "execution_count": null,
   "metadata": {},
   "outputs": [],
   "source": [
    "singles_in_housecolds_count = households_with_singles.size()\n",
    "married_in_households_count = households_with_married.size()\n",
    "widowed_in_households_count = households_with_widowed.size()\n",
    "divorced_in_households_count = households_with_divorced.size()\n",
    "children_in_households_count = households_with_children.size()"
   ]
  },
  {
   "cell_type": "code",
   "execution_count": null,
   "metadata": {},
   "outputs": [],
   "source": [
    "households = households.merge(singles_in_housecolds_count.rename(\"singles_count\"), right_index=True, left_on=\"householdid\", how='left', copy=False)\n",
    "households = households.merge(married_in_households_count.rename(\"married_count\"), right_index=True, left_on=\"householdid\", how='left', copy=False)\n",
    "households = households.merge(widowed_in_households_count.rename(\"widowed_count\"), right_index=True, left_on=\"householdid\", how='left', copy=False)\n",
    "households = households.merge(divorced_in_households_count.rename(\"divorced_count\"), right_index=True, left_on=\"householdid\", how='left', copy=False)\n",
    "households = households.merge(children_in_households_count.rename(\"children_count\"), right_index=True, left_on=\"householdid\", how='left', copy=False)"
   ]
  },
  {
   "cell_type": "code",
   "execution_count": null,
   "metadata": {},
   "outputs": [],
   "source": [
    "households.fillna(0, inplace=True)\n",
    "households = households.astype({'singles_count': int, 'married_count': int, 'widowed_count': int, 'divorced_count': int, 'children_count': int})"
   ]
  },
  {
   "cell_type": "code",
   "execution_count": null,
   "metadata": {},
   "outputs": [],
   "source": [
    "households"
   ]
  },
  {
   "cell_type": "code",
   "execution_count": null,
   "metadata": {},
   "outputs": [],
   "source": [
    "households.describe(include='all').T"
   ]
  },
  {
   "cell_type": "markdown",
   "metadata": {},
   "source": [
    "Bei der Analyse wird häufig mit Einzelhaushalten gearbeitet, deshalb wird bereits hier ein DataFrame dafür erstellt."
   ]
  },
  {
   "cell_type": "code",
   "execution_count": null,
   "metadata": {},
   "outputs": [],
   "source": [
    "single_households = households.query('household_size == 1')\n",
    "single_households"
   ]
  },
  {
   "cell_type": "markdown",
   "metadata": {
    "id": "UIYGW9yl2vkO"
   },
   "source": [
    "# Wohnverhalten nach Zivilstand"
   ]
  },
  {
   "cell_type": "markdown",
   "metadata": {},
   "source": [
    "Um sicherzustellen, dass die Ergebnisse der Analysen interpretierbar und aussagekräftig sind, muss zuerst ein Blick auf die aktuelle Wohnsituation als Ganzes geworfen werden. In der folgenden Visualisierung ist die Verteilung von Haushaltsgrössen nach Zivilstand im Kanton Luzern im Jahr 2020 aufgezeigt. Es ist anzumerken, dass Kinder für diese Analyse separat behandelt wurden und einen eigenen Pseudozivilstand «Kind» erhielten, also nicht in den Ledigen aufgeführt werden. Da keine konkreten Daten zu Kindern vorlagen, wurden alle ledigen und unspezifizierten Personen unter 20 Jahren alt, die mit mindestens einer anderen Person zusammenleben, als Kinder kategorisiert.\n",
    "\n",
    "Es ist schnell erkennbar, dass die verschiedenen Zivilstände unterschiedliche Verteilungen aufweisen. Während Ledige gleichmässig auf verschiedenen Haushaltsgrössen verteilt sind, haben die anderen Zivilstände meistens eine Haushaltsgrösse, die deutlich überwiegt. So leben Verheiratete häufig zu zweit oder dann in Drei- bis Vier-Personenhaushalten, vermutlich mit Kindern. \\\n",
    "Interessant ist jedoch der Anteil von Einzelhaushalten bei geschiedenen und verwitweten Personen. Fast die Hälfte aller Geschiedenen und genau drei Viertel der Verwitweten leben allein."
   ]
  },
  {
   "cell_type": "code",
   "execution_count": null,
   "metadata": {
    "jupyter": {
     "source_hidden": true
    },
    "tags": []
   },
   "outputs": [],
   "source": [
    "def visualize_household_sizes_maritalstatus_pie(people, title_addition=''):\n",
    "    plt.rc('font', size=13)          # default font size, e.g. for slices\n",
    "    plt.rc('axes', titlesize=25)     # fontsize of the title per axes\n",
    "    plt.rc('figure', titlesize=25)   # fontsize of the figure title\n",
    "    plt.rc('axes', labelsize=25)     # fontsize of the x and y labels\n",
    "    plt.rc('xtick', labelsize=25)    # fontsize of the x tick labels\n",
    "    plt.rc('ytick', labelsize=25)    # fontsize of the y tick labels\n",
    "    plt.rc('legend', fontsize=25)    # legend fontsize\n",
    "\n",
    "    # if the colors could be adapted for different numbers of categories, we could have this as a param\n",
    "    # but 5 is a pretty good number for the categories (1-4 and 5+)\n",
    "    n = 5\n",
    "    colors = household_size_colors\n",
    "    \n",
    "    def get_sizes_and_labels(people):\n",
    "        household_sizes = people.groupby(\"household_size\").size()\n",
    "        household_sizes.iloc[n-1] = household_sizes.iloc[n-1:].sum()\n",
    "        household_sizes = household_sizes.iloc[:n]\n",
    "        \n",
    "        return household_sizes\n",
    "\n",
    "    fig, axes = plt.subplots(2, 2)\n",
    "    plt.subplots_adjust(hspace=.3)\n",
    "    plt.suptitle(\"Haushaltsgrössen in Personen nach Zivilstand\" + title_addition, weight=\"bold\")\n",
    "\n",
    "    # if only households with some maritalstatus > 0 are taken into account, the output is distorted because single + married + widowed is counted 3 times while single + single + single is counted once.\n",
    "    # for ax, sizes, title in zip(axes.flatten(), (get_sizes_and_labels(households.query(f\"{m}_count > 0\")) for m in [\"singles\", \"married\", \"divorced\", \"widowed\"]), [\"Ledig\", \"Verheiratet\", \"Geschieden\", \"Verwitwet\"]):\n",
    "    \n",
    "    for ax, sizes, title in zip(axes.flatten(), (get_sizes_and_labels(people.query(f\"maritalstatusclass == '{m}'\")) for m in [\"single\", \"married\", \"divorced\", \"widowed\"]), [\"Ledig\", \"Verheiratet\", \"Geschieden\", \"Verwitwet\"]):\n",
    "        wedges, texts, autotexts = ax.pie(sizes, autopct=\"%.0f%%\", shadow=False, startangle=90, counterclock=False, colors=colors, pctdistance=1.12)\n",
    "        ax.set_title(title, pad=20)\n",
    "        ax.axis('equal')  # Equal aspect ratio ensures that pie is drawn as a circle.\n",
    "\n",
    "    labels = [str(i) for i in range(1, n)] + [f'{n}+']\n",
    "\n",
    "    fig.legend(wedges, labels, loc=\"center\")\n",
    "\n",
    "    # plt.savefig('Haushaltsgoessen-in-Personen-nach-Zivilstand.png', dpi=300)"
   ]
  },
  {
   "cell_type": "code",
   "execution_count": null,
   "metadata": {
    "jupyter": {
     "source_hidden": true
    },
    "tags": []
   },
   "outputs": [],
   "source": [
    "visualize_household_sizes_maritalstatus_pie(people.query('canton == \"LU\" & statyear == 2020'), title_addition=\" (Luzern, 2020)\")"
   ]
  },
  {
   "cell_type": "markdown",
   "metadata": {},
   "source": [
    "Um ein allgemeines Bild zu schaffen, wurden weitere Kantone analysiert und Gemeinsamkeiten, aber vor allem auch Unterschiede gesucht.\n",
    "\n",
    "Kanton Zürich hat sehr ähnliche Verteilungen ohne bedeutsame Unterschiede."
   ]
  },
  {
   "cell_type": "code",
   "execution_count": null,
   "metadata": {
    "jupyter": {
     "source_hidden": true
    },
    "tags": []
   },
   "outputs": [],
   "source": [
    "visualize_household_sizes_maritalstatus_pie(people.query('canton == \"ZH\" & statyear == 2020'), title_addition=\" (Zürich, 2020)\")"
   ]
  },
  {
   "cell_type": "markdown",
   "metadata": {},
   "source": [
    "Kanton Bern hat ebenfalls vergleichbare Verteilungen, aber mit dem Unterschied, dass es grundsätzlich einige Prozent mehr Einzelhaushalte gibt als in Luzern. Ebenfalls gibt es mehr Zweierhaushalte bei den Verheirateten, was bedeuten könnte, dass es weniger Familien mit Kindern gibt, oder die Kinder früher ausziehen."
   ]
  },
  {
   "cell_type": "code",
   "execution_count": null,
   "metadata": {
    "jupyter": {
     "source_hidden": true
    },
    "tags": []
   },
   "outputs": [],
   "source": [
    "visualize_household_sizes_maritalstatus_pie(people.query('canton == \"BE\" & statyear == 2020'), title_addition=\" (Bern, 2020)\")"
   ]
  },
  {
   "cell_type": "markdown",
   "metadata": {},
   "source": [
    "Kanton Basel-Stadt hingegen zeigt klare Unterschiede auf. Sowohl bei den Geschiedenen als auch bei den Verwitweten gibt es bedeutend mehr Einzelhaushalte. Anzumerken ist dabei, dass auch bei den Ledigen ein grosser Unterschied erkennbar ist, was darauf schliessen lässt, dass die Wohnsituation als Ganzes von weiteren Faktoren beeinflusst sein könnte. Dementsprechend ist es möglich, dass die Situation bei den Geschiedenen und Verwitweten ähnlich ist wie in Luzern, aber durch andere Faktoren verzerrt wird."
   ]
  },
  {
   "cell_type": "code",
   "execution_count": null,
   "metadata": {
    "jupyter": {
     "source_hidden": true
    },
    "tags": []
   },
   "outputs": [],
   "source": [
    "visualize_household_sizes_maritalstatus_pie(people.query('canton == \"BS\" & statyear == 2020'), title_addition=\" (Basel-Stadt, 2020)\")"
   ]
  },
  {
   "cell_type": "markdown",
   "metadata": {},
   "source": [
    "Diese Zahlen stehen in Kontrast zu den allgemeinen Findungen zu Haushaltsverteilungen in der Schweiz. So ist der häufigste Haushaltstyp hierzulande im Jahr 2022 zwar der Einzelhaushalt, dieser macht jedoch lediglich 36% aller Schweizer Haushalte aus (Lachat, 2022). Da sich diese Zahl auf alle Zivilstände bezieht, ist die Verteilung auf die verschiedenen Zivilstände schwer nachvollziehbar. Es ist anzunehmen, dass der Anteil bei Verheirateten deutlich tiefer und bei Geschiedenen und Verwitweten deutlich höher ist, was sich wegen der grossen Mengendifferenz dieser Zivilstände ausgleicht.\n",
    "\n",
    "Eine weitere Analyse, die in dieser Arbeit gemacht wurde, befasst sich mit den Haushaltszusammensetzungen aus den verschiedenen Zivilständen. Unter einer Haushaltszusammensetzung ist in diesem Kontext die Kombination von mehreren Personen mit verschiedenen Zivilständen in einem Haushalt zu verstehen. Eine solche Zusammensetzung wäre zum Beispiel zwei Verheiratete mit zwei Kindern. Das Ziel war herauszufinden, was die häufigsten Haushaltszusammensetzungen im Kanton Luzern im Jahr 2020 waren. \\\n",
    "Die folgende Visualisierung veranschaulicht genau das. Jeder horizontale Balken ist eine Haushaltszusammensetzung, wobei die Länge des Balkens die Häufigkeit bzw. das Vorkommen dieser Zusammensetzung im Verhältnis zu den anderen Haushaltszusammensetzungen anzeigt (absteigend sortiert). Innerhalb der Balken sind die Anteile der Zivilstände aufgezeigt, wobei die relativen Längen das Verhältnis veranschaulichen und die Zahl die absolute Anzahl an Personen eines gewissen Zivilstandes in der Zusammenstellung anzeigt.\n",
    "\n",
    "In Luzern zeigt sich beim Auflisten der zehn häufigsten Haushaltszusammensetzungen, dass es zwei klare Spitzenreiter gibt, nämlich zwei Verheiratete zusammen (vermutlich Ehepaare) und eine ledige Einzelperson (vermutlich Alleinstehende). Mit einem deutlichen Abstand folgen anschliessend die Zusammensetzungen zwei Verheiratete mit zwei Kindern (vermutlich Familien) und zwei Ledige (vermutlich Paare). Bereits auf Platz 5 und 6, mit einem Abstand von wenigen Prozent, folgen die alleinlebenden Geschiedenen und Verwitweten."
   ]
  },
  {
   "cell_type": "code",
   "execution_count": null,
   "metadata": {
    "jupyter": {
     "source_hidden": true
    },
    "tags": []
   },
   "outputs": [],
   "source": [
    "def get_household_configuration_counts(households):\n",
    "    configuration_sizes = households.groupby([\"singles_count\", \"married_count\", \"divorced_count\", \"widowed_count\", \"children_count\"]).size()\n",
    "    reset_index = configuration_sizes.reset_index()\n",
    "    reset_index['households_count'] = reset_index.pop(0)\n",
    "    reset_index['household_size'] = reset_index.children_count + reset_index.singles_count + reset_index.married_count + reset_index.divorced_count + reset_index.widowed_count\n",
    "    reset_index.index = reset_index.children_count.astype(str) + \"-\" + reset_index.singles_count.astype(str) + \"-\" + reset_index.married_count.astype(str) + \"-\" + reset_index.divorced_count.astype(str) + \"-\" + reset_index.widowed_count.astype(str)\n",
    "    reset_index.sort_values(by='households_count', inplace=True)\n",
    "    return reset_index"
   ]
  },
  {
   "cell_type": "code",
   "execution_count": null,
   "metadata": {
    "jupyter": {
     "source_hidden": true
    },
    "tags": []
   },
   "outputs": [],
   "source": [
    "def visualize_household_configuration_counts_stacked(households, n, title=\"Häufigste Haushaltszusammensetzungen\", xlabel=\"Anteil von allen Haushalten\", title_addition='', xlim=None):\n",
    "    if n > 50:\n",
    "        print(\"don't try to bar chart 50+ bars\")\n",
    "        return\n",
    "\n",
    "    plt.rc('font', size=20)          # default font size, e.g. for inside bars\n",
    "    plt.rc('axes', titlesize=25)     # fontsize of the title\n",
    "    plt.rc('axes', labelsize=20)     # fontsize of the x and y labels\n",
    "    plt.rc('xtick', labelsize=15)    # fontsize of the x tick labels\n",
    "    plt.rc('ytick', labelsize=15)    # fontsize of the y tick labels\n",
    "    plt.rc('legend', fontsize=15)    # legend fontsize\n",
    "\n",
    "    household_configs = get_household_configuration_counts(households)\n",
    "    total_households = household_configs.households_count.sum()\n",
    "    household_configs = household_configs[-n:]\n",
    "\n",
    "    config_labels = household_configs.index.tolist()\n",
    "    config_counts = household_configs.households_count\n",
    "    config_counts = np.vstack(config_counts.values)\n",
    "    config_household_sizes = household_configs.household_size\n",
    "    config_household_sizes = np.vstack(config_household_sizes.values)\n",
    "    category_names = [\"children_count\", \"singles_count\", \"married_count\", \"divorced_count\", \"widowed_count\"]\n",
    "    category_colors = maritalstatus_colors\n",
    "\n",
    "    fig, ax = plt.subplots()\n",
    "\n",
    "    widths = household_configs[category_names] / config_household_sizes * config_counts\n",
    "\n",
    "    starts = widths.copy()\n",
    "    starts.children_count = 0\n",
    "    starts.singles_count = starts.children_count + widths.children_count\n",
    "    starts.married_count = starts.singles_count + widths.singles_count\n",
    "    starts.divorced_count = starts.married_count + widths.married_count\n",
    "    starts.widowed_count = starts.divorced_count + widths.divorced_count\n",
    "\n",
    "    starts /= total_households\n",
    "    widths /= total_households\n",
    "\n",
    "    actors = []\n",
    "    for category, color in zip(category_names, category_colors):\n",
    "        recs = ax.barh(config_labels, widths[category], left=starts[category], label=category, color=color)\n",
    "        actors += (recs)\n",
    "        labels = household_configs[category].replace(0, '')\n",
    "        r,g,b = color\n",
    "        ax.bar_label(recs, labels=labels, label_type='center', color='black' if r * g * b > .05 else 'white')\n",
    "\n",
    "    # ax.yaxis.set_visible(False)\n",
    "    ax.set_ylabel(\"Haushaltszusammensetzungen mit Anteilen\")\n",
    "    ax.yaxis.set_major_locator(mtick.NullLocator())\n",
    "\n",
    "\n",
    "    ax.set_xlabel(xlabel)\n",
    "    # isn't as nice because the locator locates according to the origial counts so the percentages are not nice numbers. instead manually calculate percentages.\n",
    "    # ax.xaxis.set_major_formatter(mtick.PercentFormatter(total_households))\n",
    "    # ax.xaxis.set_major_locator(mtick.AutoLocator())  the default anyway\n",
    "\n",
    "    ax.xaxis.set_major_formatter(mtick.PercentFormatter(1, decimals=0))\n",
    "\n",
    "    if xlim:\n",
    "        ax.set_xlim(right=xlim)\n",
    "    else:\n",
    "        ax.set_xlim(right=config_counts[-1] / total_households + 0.03)  # 3 percent margin right from longest bar\n",
    "\n",
    "    legend = ax.legend([\"Kind\", \"Ledig\", \"Verheiratet\", \"Geschieden\", \"Verwitwet\"], ncol=5, loc='upper center')\n",
    "\n",
    "    ax.set_title(title + title_addition, weight='bold')"
   ]
  },
  {
   "cell_type": "code",
   "execution_count": null,
   "metadata": {
    "jupyter": {
     "source_hidden": true
    },
    "tags": []
   },
   "outputs": [],
   "source": [
    "visualize_household_configuration_counts_stacked(households.query(\"canton == 'LU' & statyear == 2020\"), 10, title_addition=\" (Luzern, 2020)\")"
   ]
  },
  {
   "cell_type": "markdown",
   "metadata": {},
   "source": [
    "Bei Zürich tauschen die Ehepaare mit den Alleinstehenden den Platz und offensichtlich gibt es deutlich mehr alleinlebende geschiedene Menschen. Ansonsten sieht es ähnlich aus wie bei Luzern, doch ein interessanter, aber für diese Analyse unbedeutender Unterschied ist, dass in Zürich anstelle von Familien mit zwei Eltern und drei Kindern, ein Haushalt mit einer geschiedenen und einer ledigen Person steht. "
   ]
  },
  {
   "cell_type": "code",
   "execution_count": null,
   "metadata": {
    "jupyter": {
     "source_hidden": true
    },
    "tags": []
   },
   "outputs": [],
   "source": [
    "visualize_household_configuration_counts_stacked(households.query(\"canton == 'ZH' & statyear == 2020\"), 10, title_addition=\" (Zürich, 2020)\")"
   ]
  },
  {
   "cell_type": "markdown",
   "metadata": {},
   "source": [
    "In Bern sind die zwei Spitzenreiter wieder gleich wie in Luzern, doch die alleinlebenden Geschiedenen und Verwitweten stossen zu Platz 3 und 4 vor."
   ]
  },
  {
   "cell_type": "code",
   "execution_count": null,
   "metadata": {
    "jupyter": {
     "source_hidden": true
    },
    "tags": []
   },
   "outputs": [],
   "source": [
    "visualize_household_configuration_counts_stacked(households.query(\"canton == 'BE' & statyear == 2020\"), 10, title_addition=\" (Bern, 2020)\")"
   ]
  },
  {
   "cell_type": "markdown",
   "metadata": {},
   "source": [
    "Basel-Stadt zeigt sich erneut als Aussenseiter, mit einem sehr klaren Vorsprung für die alleinlebenden Ledigen vor den Ehepaaren, doch auch hier sind alleinlebende Geschiedene und Verwitwete auf Platz 3 und 4."
   ]
  },
  {
   "cell_type": "code",
   "execution_count": null,
   "metadata": {
    "jupyter": {
     "source_hidden": true
    },
    "tags": []
   },
   "outputs": [],
   "source": [
    "visualize_household_configuration_counts_stacked(households.query(\"canton == 'BS' & statyear == 2020\"), 10, title_addition=\" (Basel-Stadt, 2020)\")"
   ]
  },
  {
   "cell_type": "markdown",
   "metadata": {},
   "source": [
    "Diese Erkenntnisse zeigen bereits ein grobes Bild der Wohnsituation in den grösseren Kantonen wie Luzern, Zürich und Bern. Über alle analysierten Kantone ist zu sehen, dass alleinlebende Geschiedene und Verwitwete einen bedeutenden Anteil der Bevölkerung ausmachen. Um spezifisch die Haushalte dieser Personen zu veranschaulichen, sind in der folgenden Visualisierung alle Haushalte in Luzern im Jahr 2020 visualisiert, in welchen mindestens eine geschiedene oder verwitwete Person lebte. \\\n",
    "Sofort ist erkennbar, dass weniger als 40% dieser Haushalte mehrköpfig sind. Das bedeutet, dass über 60% aller Haushalte mit mindestens einer geschiedenen oder verwitweten Person Einzelhaushalte sind und möglicherweise Potenzial für Zusammenschlüsse besteht."
   ]
  },
  {
   "cell_type": "code",
   "execution_count": null,
   "metadata": {
    "jupyter": {
     "source_hidden": true
    },
    "tags": []
   },
   "outputs": [],
   "source": [
    "def visualize_single_households_pie(households, title_addition=None):\n",
    "    household_configs = get_household_configuration_counts(households.query(\"widowed_count > 0 | divorced_count > 0\"))\n",
    "    divorced_single_households = household_configs.query(\"household_size == 1 & divorced_count == 1\").iloc[0].households_count\n",
    "    widowed_single_households = household_configs.query(\"household_size == 1 & widowed_count == 1\").iloc[0].households_count\n",
    "    total_households = household_configs.households_count.sum()\n",
    "    rest_households = total_households - divorced_single_households - widowed_single_households\n",
    "\n",
    "    sizes = [divorced_single_households, widowed_single_households, rest_households]\n",
    "    # explode = [.1, .1, 0]\n",
    "    labels = [\"Geschieden allein\", \"Verwitwet allein\", \"Mehrköpfig\"]\n",
    "    colors = [divorced_color, widowed_color, \"darkgray\"]\n",
    "\n",
    "    plt.rc('font', size=25)          # default font size, e.g. for slices\n",
    "    plt.rc('axes', titlesize=25)     # fontsize of the title\n",
    "    plt.rc('axes', labelsize=25)     # fontsize of the x and y labels\n",
    "    plt.rc('xtick', labelsize=25)    # fontsize of the x tick labels\n",
    "    plt.rc('ytick', labelsize=25)    # fontsize of the y tick labels\n",
    "    plt.rc('legend', fontsize=25)    # legend fontsize\n",
    "\n",
    "    fig, ax = plt.subplots()\n",
    "    ax.pie(sizes, labels=labels, autopct='%1.1f%%', shadow=False, startangle=90, colors=colors, counterclock=False)\n",
    "    ax.axis('equal')  # Equal aspect ratio ensures that pie is drawn as a circle.\n",
    "\n",
    "    ax.set_title(\"Haushalte mit mind. einer geschiedenen oder verwitweten Person\" + title_addition, weight=\"bold\")"
   ]
  },
  {
   "cell_type": "code",
   "execution_count": null,
   "metadata": {
    "jupyter": {
     "source_hidden": true
    },
    "tags": []
   },
   "outputs": [],
   "source": [
    "visualize_single_households_pie(households.query(\"canton == 'LU' & statyear == 2020\"), title_addition=\" (Luzern, 2020)\")"
   ]
  },
  {
   "cell_type": "markdown",
   "metadata": {},
   "source": [
    "Die bereits erkannten Differenzen bei den verschiedenen Kantonen sind auch hier widergespiegelt und so ist Zürich ähnlich wie Luzern, während Bern und Basel-Stadt bis zu 5% weniger mehrköpfige Haushalte aufweisen. Dies ist an den Visualisierungen der jeweiligen Kantone ersichtlich, welche der Vollständigkeit halber nun aufgeführt werden."
   ]
  },
  {
   "cell_type": "code",
   "execution_count": null,
   "metadata": {
    "jupyter": {
     "source_hidden": true
    },
    "tags": []
   },
   "outputs": [],
   "source": [
    "visualize_single_households_pie(households.query(\"canton == 'ZH' & statyear == 2020\"), title_addition=\" (Zürich, 2020)\")"
   ]
  },
  {
   "cell_type": "code",
   "execution_count": null,
   "metadata": {
    "jupyter": {
     "source_hidden": true
    },
    "tags": []
   },
   "outputs": [],
   "source": [
    "visualize_single_households_pie(households.query(\"canton == 'BE' & statyear == 2020\"), title_addition=\" (Bern, 2020)\")"
   ]
  },
  {
   "cell_type": "code",
   "execution_count": null,
   "metadata": {
    "jupyter": {
     "source_hidden": true
    },
    "tags": []
   },
   "outputs": [],
   "source": [
    "visualize_single_households_pie(households.query(\"canton == 'BS' & statyear == 2020\"), title_addition=\" (Basel-Stadt, 2020)\")"
   ]
  },
  {
   "cell_type": "markdown",
   "metadata": {},
   "source": [
    "Nun wurde aufgezeigt, dass viele Geschiedene und Verwitwete allein leben. Was aber noch nicht geklärt wurde, ist die Relevanz für das Thema Alterseinsamkeit. \\\n",
    "Grundsätzlich ist anzunehmen, dass geschiedene und verwitwete Personen im Durchschnitt älter sind als ledige und verheiratete. Ebenfalls ist es leider Fakt, dass alleinlebende Personen im Alter häufig Opfer von Einsamkeit werden. Diese Einsamkeit hat schwerwiegende Folgen, wie im Kapitel «Möglichkeit einer Wohngemeinschaft für geschiedene, verwitwete oder einsame Menschen» näher erklärt wird, und ist der Grund für den Fokus auf die Geschiedenen und Verwitweten innerhalb dieser Arbeit zu Alterseinsamkeit. \\\n",
    "Um abzuklären, welche Rolle das Alter genau auf das Wohnverhalten hat, sind weitere, schweizweite Analysen nötig.\n",
    "\n",
    "Über alle Zivilstände hinweg leben in der Schweiz 31% aller über 65-Jährigen allein (Lachat, 2022). Diese Statistik allein könnte ein Indiz dafür sein, dass eine Analyse zu Alterseinsamkeit in der Schweiz von grosser Relevanz ist. Doch um tiefer in die Materie einzudringen, wurden eigene Analysen mit den kantonalen Daten durchgeführt, und das Alter zusammen mit den Zivilständen in Verbindung mit der Wohnsituation gebracht."
   ]
  },
  {
   "cell_type": "markdown",
   "metadata": {},
   "source": [
    "In den folgenden vier Histogrammen wird die Verteilung der Altersklassen anhand der Haushaltsgrössen abgebildet. Für jeden Zivilstand existiert ein Histogramm.\n",
    "\n",
    "Vorab muss festgehalten werden, dass häufig nur geschätzt werden kann, welche Art von Person sich in einer Haushaltskonfiguration befindet. Wenn zwei junge ledige Personen im gleichen Haushalt leben, könnte davon ausgegangen werden, dass es sich hierbei um eine Wohngemeinschaft handelt. Es könnte sich jedoch auch um eine alleinerziehende Mutter handeln, welche nie geheiratet hat und zusammen mit ihrem älteren Kind in der Wohnung lebt. Aus diesem Grund wird in der folgenden Analyse das Wort «vermutlich» verwendet, da es sich lediglich um Annahmen handelt.\n",
    "\n",
    "Das erste Histogramm befasst sich mit ledigen Personen. Die fehlenden Daten bei den unter 20-Jährigen sind auf den Ausschluss von Kindern zurückzuführen. Die Verteilung zeigt einen klaren Trend. Ein Grossteil der in Luzern lebenden ledigen Personen sind äusserst jung. Diese Erkenntnis trifft auf alle Haushaltsgrössen zu. Zudem scheinen viele Personen aus dieser Kategorie in 2er, 3er und 4er-Haushalten zu leben, was in vielen Fällen vermutlich Wohngemeinschaften sind. Die Mehrheit der älteren Menschen haben im Laufe ihrer Jahre irgendwann geheiratet und gelten dadurch nicht mehr als ledig.\n",
    "\n",
    "Im zweiten Histogramm geht es um die Verheirateten. Darin wird aufgezeigt, dass die meisten Personen dieser Gruppe mindestens zu zweit leben. Genauer gesagt, entsteht die stärkste Häufung bei Personen in der Altersklasse 60 und aufwärts. Diese Personen stellen wahrscheinlich häufig niedergelassene verheiratete Paare dar, bei welchen die Kinder mit der Zeit ausgezogen sind. Weiterhin ist eine stärkere Vertretung in den 3er, 4er und 5er-Haushaltsgrössen sichtbar. In diesen Grössen sind die Altersklassen jedoch deutlich jünger. Wahrscheinlich stellen diese vor allem die Familien dar, welche frisch verheiratet sind und Kinder bekommen haben. \n",
    "\n",
    "Das dritte Histogramm befasst sich mit den Geschiedenen. Dabei sind zwei ausgeprägte Häufungen ersichtlich. Diese Häufungen kommen bei den Altersklasse 55+ mit den Haushaltsgrössen 1 und 2 vor. Bei den Ansammlungen mit der Haushaltsgrösse 1 geht es vermutlich um lang verheiratete Paare, die sich anschliessend geschieden haben und die Kinder bereits ausgezogen sind. Bei der Haushaltsgrösse 2 kommen möglicherweise Geschiedene vor, die mit der neu verpartnerten Person zusammengezogen sind oder sich mit einem Kind im Haushalt aufhalten.\n",
    "\n",
    "Im vierten und letzten Histogramm geht es um die Verwitweten. In diesem ist nur eine Häufung auffällig, und zwar bei den alleinlebenden Personen in den älteren Altersklassen, also 65 aufwärts. Dabei wird ersichtlich, dass es kaum verwitwete Personen gibt, die mit anderen Personen zusammenleben.\n",
    "\n",
    " \n",
    "\n",
    "Mit diesen Histogrammen wird ersichtlich gemacht, dass sich gerade bei den Verwitweten und Geschiedenen eine sehr grosse Anzahl an alleinlebenden Personen im höheren Alter befinden. Dies hat zur Entscheidung geführt, mehr Informationen über die alleinlebenden Personen zu sammeln, insbesondere über die hervorgehobenen Zivilstände. "
   ]
  },
  {
   "cell_type": "code",
   "execution_count": null,
   "metadata": {
    "jupyter": {
     "source_hidden": true
    },
    "tags": []
   },
   "outputs": [],
   "source": [
    "def create_histoplot_maritalstatus_ageclass(data, title, axis_of_figure, color):\n",
    "    ax = sns.histplot(x=data.ageclass, y=data.household_size, ax=axis_of_figure, cbar=True, bins=16, color=color)\n",
    "    ax.set_title(title, weight='bold')\n",
    "    ax.set_ylabel(\"Haushaltsgrösse\")\n",
    "    ax.set_xlabel(\"Altersklasse\")\n",
    "\n",
    "\n",
    "def show_heatmaps_of_ageclass_and_maritalstatus(dataset):\n",
    "    plt.rc('font', size=13)          # default font size, e.g. for slices\n",
    "    plt.rc('axes', titlesize=20)     # fontsize of the title per axes\n",
    "    plt.rc('figure', titlesize=25)   # fontsize of the figure title\n",
    "    plt.rc('axes', labelsize=17)     # fontsize of the x and y labels\n",
    "    plt.rc('xtick', labelsize=15)    # fontsize of the x tick labels\n",
    "    plt.rc('ytick', labelsize=15)    # fontsize of the y tick labels\n",
    "    plt.rc('legend', fontsize=25) \n",
    "    \n",
    "    figure, axis = plt.subplots(2, 2, figsize=(20, 15))\n",
    "    \n",
    "    plt.suptitle(\"Verteilung der Personenaltersklassen in verschiedenen Haushaltsgrössen (Luzern, 2020)\", weight=\"bold\")\n",
    "    \n",
    "    household_size_smaller_than_six = dataset.query(\"household_size <= 6\")\n",
    "    \n",
    "    single_people = household_size_smaller_than_six.query(\"maritalstatusclass == 'single'\")\n",
    "    married_people = household_size_smaller_than_six.query(\"maritalstatusclass == 'married'\")\n",
    "    widowed_people = household_size_smaller_than_six.query(\"maritalstatusclass == 'widowed'\")\n",
    "    divorced_people = household_size_smaller_than_six.query(\"maritalstatusclass == 'divorced'\")\n",
    "\n",
    "    create_histoplot_maritalstatus_ageclass(single_people, 'Ledige Personen', axis[0, 0], single_color)\n",
    "    create_histoplot_maritalstatus_ageclass(married_people, 'Verheiratete Personen', axis[0, 1], married_color)\n",
    "    create_histoplot_maritalstatus_ageclass(divorced_people, 'Geschiedene Personen', axis[1, 0], divorced_color)\n",
    "    create_histoplot_maritalstatus_ageclass(widowed_people, 'Verwitwete Personen', axis[1, 1], widowed_color)\n",
    "\n",
    "    plt.show()"
   ]
  },
  {
   "cell_type": "code",
   "execution_count": null,
   "metadata": {
    "jupyter": {
     "source_hidden": true
    },
    "tags": []
   },
   "outputs": [],
   "source": [
    "luzern_2020 = people.query(\"canton == 'LU' & statyear == 2020\") \n",
    "show_heatmaps_of_ageclass_and_maritalstatus(luzern_2020)"
   ]
  },
  {
   "cell_type": "markdown",
   "metadata": {},
   "source": [
    "Die aktuelle Situation wurde nun veranschaulicht, aber wichtig wäre es zu wissen, wie sich dieses Phänomen in den letzten Jahren entwickelt hat. Möglicherweise ist die Zahl der alleinlebenden Verwitweten am Sinken und es sind gar keine weiteren Massnahmen nötig. Um diese Theorie zu widerlegen, wird im nachfolgenden Kapitel die Entwicklung der verschiedenen Haushaltsgrössen und spezifisch das Wachstum von Einzelhaushalten seit 2012 analysiert. Darüber hinaus muss auch die Frage geklärt werden, ob es für alleinlebende Personen ein Risiko darstellt, in einem Einzelhaushalt zu wohnen."
   ]
  },
  {
   "cell_type": "markdown",
   "metadata": {},
   "source": [
    "# Möglichkeit einer Wohngemeinschaft für geschiedene, verwitwete oder einsame Menschen"
   ]
  },
  {
   "cell_type": "code",
   "execution_count": null,
   "metadata": {
    "jupyter": {
     "source_hidden": true
    },
    "tags": []
   },
   "outputs": [],
   "source": [
    "### Legend color ###\n",
    "HOUSEHOLDSIZE = ['1','2','3','4','4+']\n",
    "label_household_size = ['1 Person','2 Personen', '3 Personen','4 Personen','mehr als 4 Personen']\n",
    "                        \n",
    "HOUSEHOLDSIZE_COLOR = dict(zip(HOUSEHOLDSIZE,household_size_colors))\n",
    "HOUSEHOLDSIZE_LABEL = dict(zip(HOUSEHOLDSIZE,label_household_size))\n",
    "\n",
    "# Cantons\n",
    "_canton      = ['BE','ZH','LU','BS']\n",
    "_canton_name = ['Bern','Zürich','Luzern','Basel-Stadt']\n",
    "CANTON_LABEL = dict(zip(_canton,_canton_name))\n",
    "\n",
    "# Stadt land \n",
    "STADT_LAND_LABEL = {True: 'Stadt',False: 'Land'}\n",
    "\n",
    "# Mmarigestatus\n",
    "_maritalstatus      = ['singles_count','married_count','widowed_count','divorced_count','children_count']\n",
    "_maritalstatus_name = ['Ledig','Verheiratet','Verwitwet','Geschieden','Kind']\n",
    "MARIGESTATUS_LABEL = dict(zip(_maritalstatus,_maritalstatus_name))\n",
    "MARIGESTATUS_COLER = dict(zip(_maritalstatus,maritalstatus_colors))\n",
    "\n",
    "# Titel style\n",
    "_fontdict_titel = {'fontsize' : 35}\n",
    "_weight_titel   = \"bold\"\n",
    "_figsize        = (25, 20)\n",
    "\n",
    "# Legend style\n",
    "_legend_title_fontsize = 29\n",
    "_legend_prop           = {'size': 27}\n",
    "\n",
    "# Barchart style\n",
    "_bar_label_padding  = 3\n",
    "_bar_label_fontsize = 20\n",
    "_bar_width          = 0.6\n",
    "\n",
    "def style_plt():\n",
    "    plt.rc('font', size=15)                    # default font size, e.g. for slices\n",
    "    plt.rc('axes', titlesize=30, labelsize=35) # fontsize of the title per axes\n",
    "    plt.rc('figure', titlesize=25)             # fontsize of the figure title\n",
    "   \n",
    "    plt.rc('xtick', labelsize=30)              # fontsize of the x tick labels\n",
    "    plt.rc('ytick', labelsize=30)              # fontsize of the y tick labels\n",
    "    plt.rc('legend', fontsize=25)              # legend fontsize\n",
    "    plt.rc('lines',linewidth = 10)"
   ]
  },
  {
   "cell_type": "code",
   "execution_count": null,
   "metadata": {
    "jupyter": {
     "source_hidden": true
    },
    "tags": []
   },
   "outputs": [],
   "source": [
    "# set a new max value \n",
    "def df_set_max_value(df,col_name, max_value, max_value_name,value_type='str'):\n",
    "    #df = Dataframe/ col_name = column names of Dataframe\n",
    "    #max_value = column value/ max_value_name = New max column value\n",
    "    #value_type= type of column / return= Dataframe     \n",
    "    df.loc[df[col_name] >= max_value, col_name] = max_value_name\n",
    "    df[col_name] = df[col_name].astype(np.dtype(value_type))\n",
    "    return df "
   ]
  },
  {
   "cell_type": "code",
   "execution_count": null,
   "metadata": {
    "jupyter": {
     "source_hidden": true
    },
    "tags": []
   },
   "outputs": [],
   "source": [
    "# 'get_x_values' return  unique column values of a Pandas.Dataframe\n",
    "\n",
    "def get_x_values(df,x):\n",
    "    # df = Dataframe \n",
    "    # x = column name or index name \n",
    "    # return = sort unique column values \n",
    "    if x in df.index.names:\n",
    "            return np.sort(df.reset_index(level=x)[x].unique())        \n",
    "    return np.sort(df[x].unique())\n",
    "        \n",
    "    "
   ]
  },
  {
   "cell_type": "code",
   "execution_count": null,
   "metadata": {
    "jupyter": {
     "source_hidden": true
    },
    "tags": []
   },
   "outputs": [],
   "source": [
    "def get_count_data(df,cantons,x,hue,percent):\n",
    "    if percent:\n",
    "        s = df.loc[(cantons,x),hue].value_counts(normalize=True)*100\n",
    "    else:        \n",
    "        s = df.loc[(cantons,x),hue].value_counts() \n",
    "        \n",
    "    df_count = s.to_frame (name=x)    \n",
    "    return df_count"
   ]
  },
  {
   "cell_type": "code",
   "execution_count": null,
   "metadata": {
    "jupyter": {
     "source_hidden": true
    },
    "tags": []
   },
   "outputs": [],
   "source": [
    "def set_xlim(ax,x_values):\n",
    "    lim_min = np.min(x_values)\n",
    "    lim_max = np.max(x_values)\n",
    "    ax.set_xlim(lim_min,lim_max)"
   ]
  },
  {
   "cell_type": "code",
   "execution_count": null,
   "metadata": {
    "jupyter": {
     "source_hidden": true
    },
    "tags": []
   },
   "outputs": [],
   "source": [
    "def plot_line(df,x_values,colors,labels):\n",
    "    #----- Set x limit -------*\n",
    "    fig, ax = plt.subplots(figsize = _figsize )   \n",
    "    set_xlim(ax,x_values)\n",
    "    style_plt()    \n",
    "    #df.plot.line(color = colors,ax =ax,label=HOUSEHOLDSIZE_LABEL)\n",
    "    for y in np.sort(df.columns):\n",
    "        ax.plot(df[y].index, df[y],color=colors[y],label=labels[y])  \n",
    "    return ax"
   ]
  },
  {
   "cell_type": "code",
   "execution_count": null,
   "metadata": {
    "jupyter": {
     "source_hidden": true
    },
    "tags": []
   },
   "outputs": [],
   "source": [
    "def lineplot(df,x,hue,colors,labels,cantons,percent): \n",
    "    x_values = get_x_values(df,x)\n",
    "    df_var = pd.DataFrame()    \n",
    "    for x_val in x_values:\n",
    "        df_data_new = get_count_data(df,cantons,x_val,hue,percent)\n",
    "        if df_data_new.empty:\n",
    "            continue            \n",
    "        if df_var.empty:\n",
    "            df_var = df_data_new\n",
    "        else:\n",
    "            df_var = pd.merge(df_var, df_data_new,left_index=True, right_index=True, how = \"inner\")\n",
    "    ax = plot_line(df_var.T,x_values,colors,labels)\n",
    "    return ax"
   ]
  },
  {
   "cell_type": "code",
   "execution_count": null,
   "metadata": {
    "jupyter": {
     "source_hidden": true
    },
    "tags": []
   },
   "outputs": [],
   "source": [
    "def is_biger_nr_in_list(l, nr):\n",
    "    for i in l:\n",
    "        if i >= nr:\n",
    "            return True\n",
    "    return False\n",
    "        \n",
    "def is_smaler_nr_in_list(l,nr):\n",
    "        for i in l:\n",
    "            if i <= nr:\n",
    "                return True\n",
    "        return False"
   ]
  },
  {
   "cell_type": "code",
   "execution_count": null,
   "metadata": {
    "jupyter": {
     "source_hidden": true
    },
    "tags": []
   },
   "outputs": [],
   "source": [
    "# set the % at the end of the y-value on the y-axis\n",
    "def set_percent_y_ax(ax):\n",
    "    if not(is_biger_nr_in_list(ax.get_yticks(),10) or is_smaler_nr_in_list(ax.get_yticks(),-10)):\n",
    "        ax.yaxis.set_major_formatter(mtick.PercentFormatter())    \n",
    "        formatter = mtick.StrMethodFormatter(\"{x:.1f}%\")     \n",
    "        plt.gca().yaxis.set_major_formatter(formatter)\n",
    "        return   \n",
    "    \n",
    "    ax.yaxis.set_major_formatter(mtick.PercentFormatter())    \n",
    "    formatter = mtick.StrMethodFormatter(\"{x:.0f}%\")     \n",
    "    plt.gca().yaxis.set_major_formatter(formatter)"
   ]
  },
  {
   "cell_type": "code",
   "execution_count": null,
   "metadata": {
    "jupyter": {
     "source_hidden": true
    },
    "tags": []
   },
   "outputs": [],
   "source": [
    "# formatting the plot from matplotlib\n",
    "#  - set title\n",
    "#  - create and label legend \n",
    "#  - label x and y axis \n",
    "#  - y axis to label with %. \n",
    "\n",
    "def format_plot(ax,titel,titel_legend,xlabel,ylabel,percent= False):\n",
    "    plt.title(titel, y =1.05,\n",
    "              fontdict =_fontdict_titel,\n",
    "              weight = _weight_titel)   \n",
    "    ax.legend(title = titel_legend,\n",
    "              title_fontsize = _legend_title_fontsize,\n",
    "              prop = _legend_prop)   \n",
    "    ax.set_ylabel(ylabel)\n",
    "    ax.set_xlabel(xlabel)\n",
    "   \n",
    "    if percent:\n",
    "        set_percent_y_ax(ax)\n",
    "    else:\n",
    "        label_format = '{:,.0f}'\n",
    "        ticks_loc = ax.get_yticks().tolist()\n",
    "        ax.yaxis.set_major_locator(mtick.FixedLocator(ticks_loc))\n",
    "        ax.set_yticklabels([label_format.format(x) for x in ticks_loc])\n",
    "        "
   ]
  },
  {
   "cell_type": "markdown",
   "metadata": {},
   "source": [
    "Die Forschenden im Fachblatt ‘PLOS ONE’ haben ein Zusammenhang zwischen Einsamkeit und Sterblichkeit analysiert. Die Studie zeigt, dass Einsamkeit sowohl bei Männern als auch bei Frauen tendenziell mit der Gesamtmortalität assoziiert wird. Der Effekt tritt bei Männern ein wenig ausgeprägter auf als bei Frauen. Eine mögliche Erklärung für dieses Ereignis könnte einen kulturellen Ursprung besitzen, denn Männer geben Einsamkeitsgefühle weniger offen zu als Frauen. Folglich könnte es sein, dass Männer erst über Einsamkeit berichten, wenn sie sehr ausgeprägt ist und stärkere Auswirkungen verursacht. Frauen bewerten häufig ihre Einsamkeit über ihr gesamtes soziales Netzwerk und Beziehung, während Männer dieses Gefühl eher mit einer Bewertung der Beziehungen zu ihrem Partner: in in Verbindung setzen. Mit fortschreitendem Alter steigt die Wahrscheinlichkeit, Witwer zu werden, was zur Einsamkeit beitragen könnte. Deshalb hat Verwitwung bei Männern oft extremere negative Auswirkungen als bei Frauen. Eine mögliche Ursache könnte sein, dass sich Männer, wenn sie verwitwet sind, auf eine neue Rolle einstellen müssen, welche ihnen Schwierigkeiten bereiten könnte. Ein Beispiel könnte das Erledigen von Aufgaben im Haushalt sein (Laura Alejandra Rico-Uribe, 2018). \n",
    "\n",
    "\n",
    "\n",
    "Laut Forschenden haben alleinlebende Menschen 1,5- bis 2,5-mal die höhere Wahrscheinlichkeit, an einer psychischen Erkrankung zu leiden. Dazu gehören etwa Depressionen, sowie Angst- und Zwangsstörungen. Die Studie zeigt jedoch nicht, ob das Alleinleben die Ursache dieser Erkrankungen ist. Einen statistischen Zusammenhang zwischen dem Alleinleben und den Erkrankungen gab es vor allem bei Menschen, die sich einsam fühlen.\n",
    "\n",
    "Aus den Schweizer Personendaten ist nicht klar ersichtlich, ob eine Person sich einsam fühlt. Deshalb werden die Einzelhaushalte analysiert, da diese ein erhöhtes Risiko darstellen, psychisch zu erkranken.\n",
    "\n",
    "\n",
    "\n",
    "Die Grafiken «Haushalte und Personen nach Haushaltsgrösse» geben Auskunft, über die jährliche Veränderung von Personen und deren Haushaltsgrössen in den Kantonen Bern, Basel-Stadt, Luzern und Zürich. Im Jahr 2012 lebten in den vier Kantonen um die 2,8 Millionen Menschen, bis 2020 wuchs die Bevölkerung auf über 3.1 Millionen. Von den 3.1 Millionen Menschen lebten über eine halbe Million allein, das sind 75'000 Personen mehr als im Jahr 2012. Dabei handelt es sich um einen Wachstumsrate von 16%.\n",
    "\n",
    "Zürich ist von den analysierten Kantonen der bevölkerungsreichste Kanton. Im Jahr 2020 lebten dort 1,5 Millionen Menschen. Von 2012 bis 2020 verzeichnete der Kanton Zürich das stärkste Wachstum mit 19%. Basel-Stadt hatte hingegen das schwächste Wachstum mit 0,6% und ist mit etwa 188'000 Einwohner, von den behandelten Kantonen, der bevölkerungsärmste.\n",
    "\n",
    "In den untersuchten Kantonen lebte fast ein Drittel der Einwohner zu zweit. Knapp ein Viertel der Bevölkerung in Basel-Stadt wohnte allein. Proportional zur Bevölkerung vom Kanton Basel-Stadt, lebten in diesem Kanton mehr Personen in Einzelhaushalten. In Luzern hielten sich 15% der gemeldeten Personen ohne Mitbewohner: innen in Wohnungen/Häuser auf, somit leben in Luzern proportional am wenigsten allein."
   ]
  },
  {
   "cell_type": "markdown",
   "metadata": {
    "tags": []
   },
   "source": [
    "Da es 35 verschieden Haushaltsgrössen im Kanton Luzern gegeben hat, werden alle Haushalte wo mehr als vier Personen gemeldet waren mit 4+ zusammengefasst.\n",
    "Die Funktion `df_set_max_value(df,col_name, max_value, max_value_name)` verändert die Spaltenwerte die grösser sind als `max_value` mit dem Wert von `max_value_name`. Mit der genannten Funktion werden die `household_size` die grösser als vier sind mit 4+ zusammengefast. Weil der `households` Datensatz nicht überschrieben werden soll wird zuerst einen Deep Copy von `people` gemacht. "
   ]
  },
  {
   "cell_type": "code",
   "execution_count": null,
   "metadata": {
    "tags": []
   },
   "outputs": [],
   "source": [
    "df = people.copy() #households\n",
    "#df = households.copy()\n",
    "col_name = 'household_size'\n",
    "max_value = 5\n",
    "max_value_name = '4+'\n",
    "\n",
    "df_households_limit = df_set_max_value(df,col_name, max_value, max_value_name)"
   ]
  },
  {
   "cell_type": "code",
   "execution_count": null,
   "metadata": {
    "jupyter": {
     "source_hidden": true
    },
    "tags": []
   },
   "outputs": [],
   "source": [
    "def grow_rate (past,present):    \n",
    "    return (present-past) / past *100\n",
    "    "
   ]
  },
  {
   "cell_type": "code",
   "execution_count": null,
   "metadata": {
    "jupyter": {
     "source_hidden": true
    },
    "tags": []
   },
   "outputs": [],
   "source": [
    "#Calculates the start position from vertical bar  \n",
    "def get_start_pos(w,n):\n",
    "    # w = width of the bar\n",
    "    # n = Number of bars\n",
    "    # return: position\n",
    "    wk = w/n\n",
    "    pos = (n/2*wk)-wk/2\n",
    "    return pos*-1"
   ]
  },
  {
   "cell_type": "code",
   "execution_count": null,
   "metadata": {
    "jupyter": {
     "source_hidden": true
    },
    "tags": []
   },
   "outputs": [],
   "source": [
    "#Protzent calculator\n",
    "def get_prozent(w,G):\n",
    "    #w = Actual Value\n",
    "    #G = Total Value\n",
    "    #return: Percentage\n",
    "    p = w / G * 100  \n",
    "    return round(p,1)"
   ]
  },
  {
   "cell_type": "code",
   "execution_count": null,
   "metadata": {
    "jupyter": {
     "source_hidden": true
    },
    "tags": []
   },
   "outputs": [],
   "source": [
    "def get_df_by_value(df,col_name,value):\n",
    "    if col_name == df.index.names[0]:\n",
    "        return df.loc[value]\n",
    "    \n",
    "    if col_name in df.index.names:\n",
    "        return df.query(f'{col_name}=={value}')\n",
    "    \n",
    "    return df.loc[df[col_name]==value]"
   ]
  },
  {
   "cell_type": "code",
   "execution_count": null,
   "metadata": {
    "jupyter": {
     "source_hidden": true
    },
    "tags": []
   },
   "outputs": [],
   "source": [
    "def grow_bar(df,x,grow_val,hue,colors,labels):    \n",
    "    x_values= get_x_values(df,x)\n",
    "    start_x = np.min(x_values)\n",
    "    width = _bar_width\n",
    "    grow_val_len = len(grow_val)\n",
    "    pos =  get_start_pos(width,grow_val_len)\n",
    "    \n",
    "    fig, ax = plt.subplots(figsize = _figsize)\n",
    "    #set_xlim(ax,x_values)\n",
    "\n",
    "    for c in grow_val:\n",
    "        data=dict()        \n",
    "        df_Count = get_df_by_value(df,hue,c)\n",
    "        G = get_df_by_value(df_Count,x,start_x).size     \n",
    "        for x_value in x_values:\n",
    "            if x_value != start_x: \n",
    "                w = get_df_by_value(df_Count,x,x_value).size \n",
    "                pre = get_prozent(w,G)\n",
    "                data[x_value] = round(pre-100,1)       \n",
    "        \n",
    "        rec = ax.bar([x+pos for x in data.keys()],\n",
    "               data.values(),\n",
    "               width/grow_val_len,\n",
    "               color=colors[c],\n",
    "               label=labels[c])\n",
    "        pos += width/grow_val_len\n",
    "        \n",
    "        label_bar(ax,rec)        \n",
    "    return fig,ax"
   ]
  },
  {
   "cell_type": "code",
   "execution_count": null,
   "metadata": {
    "jupyter": {
     "source_hidden": true
    },
    "tags": []
   },
   "outputs": [],
   "source": [
    "def label_bar(ax,rec):\n",
    "    try:\n",
    "        ax.bar_label(rec,padding=_bar_label_padding,fontsize=_bar_label_fontsize)\n",
    "    except AttributeError:\n",
    "        print(f'Your Mathpltlib has the version {mpl.__version__} The version should be at least 3.6.2')"
   ]
  },
  {
   "cell_type": "code",
   "execution_count": null,
   "metadata": {
    "jupyter": {
     "source_hidden": true
    },
    "tags": []
   },
   "outputs": [],
   "source": [
    "def grow_bar_plots(df,x,grow_val,hue,colors,labels,cantons,titel,titel_legend,xlabel,ylabel):    \n",
    "    for c in cantons:        \n",
    "        df_cantons = get_df_by_value(df,'canton',c)\n",
    "        fig , ax = grow_bar(df_cantons,x,grow_val,hue,colors,labels)\n",
    "        titel_p = f'{titel} ({CANTON_LABEL[c]})'\n",
    "        format_plot(ax,titel_p,titel_legend,xlabel,ylabel,percent= True)"
   ]
  },
  {
   "cell_type": "code",
   "execution_count": null,
   "metadata": {
    "jupyter": {
     "source_hidden": true
    },
    "tags": []
   },
   "outputs": [],
   "source": [
    "hue = 'household_size'\n",
    "x = 'statyear'\n",
    "df =  df_households_limit\n",
    "colors= HOUSEHOLDSIZE_COLOR\n",
    "labels= HOUSEHOLDSIZE_LABEL\n",
    "cantons=['ZH','BE','LU','BS']\n",
    "titel= f'Veränderungen von Haushalten und Personen nach Haushaltsgrösse (Bern, Basel-Stadt, Luzern und Zürich)'\n",
    "titel_legend='Grösse der Haushalte'\n",
    "xlabel = 'Jahr'\n",
    "ylabel = ''\n",
    "percent = False\n",
    "\n",
    "ax = lineplot(df,x,hue,colors,labels,cantons,percent)\n",
    "format_plot(ax,titel,titel_legend,xlabel,ylabel,percent)"
   ]
  },
  {
   "cell_type": "code",
   "execution_count": null,
   "metadata": {
    "jupyter": {
     "source_hidden": true
    },
    "tags": []
   },
   "outputs": [],
   "source": [
    "cantons=['BS']\n",
    "titel= f'Veränderungen von Haushalten und Personen nach Haushaltsgrösse ({CANTON_LABEL[cantons[0]]})'\n",
    "\n",
    "count = ['1']\n",
    "labels_bar = {'1':'Einzelhaushalt'}\n",
    "\n",
    "titel_bar = 'Prozentuales Wachstum von Einpersonenhaushalten seit 2012'\n",
    "ylabel_bar='Prozentuales Wachstum'\n",
    "\n",
    "ax = lineplot(df,x,hue,colors,labels,cantons,percent)\n",
    "format_plot(ax,titel,titel_legend,xlabel,ylabel,percent)\n",
    "\n",
    "grow_bar_plots(df,x,count,hue,colors,labels_bar,cantons,titel_bar,titel_legend,xlabel,ylabel_bar)"
   ]
  },
  {
   "cell_type": "markdown",
   "metadata": {},
   "source": [
    "Im Vergleich zu den anderen Kantonen verzeichnete Basel-Stadt als einziger einen Rückgang von Einzelhaushalten; 2012 bis 2017 gab es in Basel-Stadt einen Rückgang von 3.7% bei den Einzelhaushalten. Diese Situation veränderte sich wieder in den darauffolgenden Jahren. Im Kanton Basel-Stadt wohnten im Jahr 2020 vergleichsweise 0,6% weniger Menschen allein als im Jahr 2012."
   ]
  },
  {
   "cell_type": "code",
   "execution_count": null,
   "metadata": {
    "jupyter": {
     "source_hidden": true
    },
    "tags": []
   },
   "outputs": [],
   "source": [
    "cantons=['LU']\n",
    "titel= f'Veränderungen von Haushalten und Personen nach Haushaltsgrösse ({CANTON_LABEL[cantons[0]]})'\n",
    "\n",
    "ax = lineplot(df,x,hue,colors,labels,cantons,percent)\n",
    "format_plot(ax,titel,titel_legend,xlabel,ylabel,percent)\n",
    "\n",
    "grow_bar_plots(df,x,count,hue,colors,labels_bar,cantons,titel_bar,titel_legend,xlabel,ylabel_bar)"
   ]
  },
  {
   "cell_type": "code",
   "execution_count": null,
   "metadata": {
    "jupyter": {
     "source_hidden": true
    },
    "tags": []
   },
   "outputs": [],
   "source": [
    "cantons=['ZH']\n",
    "titel= f'Veränderungen von Haushalten und Personen nach Haushaltsgrösse ({CANTON_LABEL[cantons[0]]})'\n",
    "\n",
    "ax = lineplot(df,x,hue,colors,labels,cantons,percent)\n",
    "format_plot(ax,titel,titel_legend,xlabel,ylabel,percent)\n",
    "\n",
    "grow_bar_plots(df,x,count,hue,colors,labels_bar,cantons,titel_bar,titel_legend,xlabel,ylabel_bar)"
   ]
  },
  {
   "cell_type": "code",
   "execution_count": null,
   "metadata": {
    "jupyter": {
     "source_hidden": true
    },
    "tags": []
   },
   "outputs": [],
   "source": [
    "cantons=['BE']\n",
    "titel= f'Veränderungen von Haushalten und Personen nach Haushaltsgrösse ({CANTON_LABEL[cantons[0]]})'\n",
    "\n",
    "ax = lineplot(df,x,hue,colors,labels,cantons,percent)\n",
    "format_plot(ax,titel,titel_legend,xlabel,ylabel,percent)\n",
    "\n",
    "grow_bar_plots(df,x,count,hue,colors,labels_bar,cantons,titel_bar,titel_legend,xlabel,ylabel_bar)"
   ]
  },
  {
   "cell_type": "markdown",
   "metadata": {},
   "source": [
    "Eine deutliche Mehrheit der Menschen, welche in den behandelten Kantonen lebten, wohnte bereits in einer Wohngemeinschaft. Jedoch zeigen die Grafiken auch, dass es zu einem deutlichen Wachstum an Einzelhaushalten kam."
   ]
  },
  {
   "cell_type": "markdown",
   "metadata": {},
   "source": [
    "Um diesen Feststellungen weiter auf den Grund zu gehen, wurden die Unterschiede zwischen städtischen und ländlichen Regionen erforscht. Ziel war es, herauszufinden, in welchen Regionen dieses Phänomen am deutlichsten zutage tritt und wie sich die Entwicklung in den verschiedenen Regionen und Gemeindegrössen entwickelt hat, um die besten Ansatzpunkte zu identifizieren.\n",
    "\n",
    "Um das Stadt-Land Verhältnis besser zu analysieren, wird sich in einigen folgenden Grafiken auf Luzern und deren Gemeinden konzentriert. Zusammen mit einer interaktiven Karte von Luzern am Ende, die auf Gemeindeebene eine Analyse anbietet.\n",
    "\n",
    "Als erste Grafik wurde eine Auswertung der Gemeinden in Luzern erstellt, die den prozentualen Anteil der Geschiedenen zeigt, die in einer Gemeinde allein leben, sortiert nach der Bevölkerungsgrösse, welche auf der x-Achse dargestellt wird. Es zeigt sich eine deutliche Tendenz: Je grösser die Gemeinde, desto höher ist der durchschnittliche Anteil der Geschiedenen (im Verhältnis zu allen Geschiedenen), die in dieser Gemeinde alleinlebend sind. Je bevölkerungsreicher eine Gemeinde ist, desto grösser ist auch die Anzahl alleinlebender Geschiedener. Die Trendlinie beginnt bei etwa 35% bei den kleinsten Bevölkerungsgrössen und steigt bis zu 45% bei den grössten Bevölkerungsgrössen. Grössere Gemeinden wurden hier ausgelassen, um die Darstellung zu verbessern, aber sie setzen den Trend fort. Die Stadt Luzern hatte die höchste Rate an Geschiedenen, die allein leben, wie in einer späteren Karte von Luzern gezeigt wird."
   ]
  },
  {
   "cell_type": "code",
   "execution_count": null,
   "metadata": {
    "jupyter": {
     "source_hidden": true
    },
    "tags": []
   },
   "outputs": [],
   "source": [
    "def linear_regression(x, y):\n",
    "    coef = np.polyfit(x,y,1)\n",
    "    linear_function = np.poly1d(coef) \n",
    "    return linear_function\n",
    "\n",
    "\n",
    "def show_linear_regression_graph(x, y, title, xlabel, ylabel, xformatting = None, yformatting = None):\n",
    "    plt.rc('axes', titlesize=25)     # fontsize of the axes title\n",
    "    plt.rc('axes', labelsize=25)    # fontsize of the x and y labels\n",
    "    plt.rc('xtick', labelsize=15)    # fontsize of the tick labels\n",
    "    plt.rc('ytick', labelsize=15)    # fontsize of the tick labels\n",
    "    plt.rc('legend', fontsize=15)    # legend fontsize\n",
    "    plt.rc('figure', titlesize=15)  \n",
    "\n",
    "\n",
    "    fig = plt.figure(1, (15,10))\n",
    "    ax = fig.add_subplot(1, 1, 1)\n",
    "\n",
    "    linear_function = linear_regression(x, y)\n",
    "\n",
    "    ax.scatter(x, y)\n",
    "    ax.plot(x, linear_function(x), color='red', linewidth=5)\n",
    "\n",
    "    if xformatting != None:\n",
    "        ax.xaxis.set_major_formatter(xformatting)\n",
    "    if yformatting != None:\n",
    "        ax.yaxis.set_major_formatter(yformatting)\n",
    "    \n",
    "    ax.grid(True)\n",
    "    ax.set_title(title, weight='bold')\n",
    "    ax.set_xlabel(xlabel)\n",
    "    ax.set_ylabel(ylabel)"
   ]
  },
  {
   "cell_type": "code",
   "execution_count": null,
   "metadata": {
    "jupyter": {
     "source_hidden": true
    },
    "tags": []
   },
   "outputs": [],
   "source": [
    "def get_lone_widowed_divorced_municipality_dataframe(municipalities, households):  \n",
    "    lone_widowed_divorced_municipality = []\n",
    "    \n",
    "    for i in range(len(municipalities)):\n",
    "        households_municipality = households.query(f\"reportingmunicipalityid == {municipalities.iloc[i].name}\")\n",
    "        \n",
    "        lone_widowed = households_municipality.query(\"household_size == 1 and widowed_count == 1\").widowed_count.sum() #all widows that live alone\n",
    "        total_widowed = households_municipality.widowed_count.sum() \n",
    "        if lone_widowed > 1:\n",
    "            lone_widowed_percentage = lone_widowed / total_widowed\n",
    "        else:\n",
    "            continue #In order for me actualy make something meaningful the data, there should be atleast some lone widoweds\n",
    "        \n",
    "        lone_divorced = households_municipality.query(\"household_size == 1 and divorced_count == 1\")[\"divorced_count\"].sum() #all divorced that live alone\n",
    "        total_divorced = households_municipality[\"divorced_count\"].sum()\n",
    "        if lone_divorced > 1:\n",
    "            lone_divorced_percentage = lone_divorced / total_divorced\n",
    "        else:\n",
    "            continue\n",
    "            \n",
    "        lone_widowed_divorced_municipality.append({\n",
    "            \"reportingmunicipalityid\": municipalities.iloc[i].name,\n",
    "            \"population\" : municipalities.iloc[i].population,\n",
    "            \"peopleperkm2\" : municipalities.iloc[i].peopleperkm2,\n",
    "            \"lone_widowed_percent\": lone_widowed_percentage,\n",
    "            \"lone_divorced_percent\": lone_divorced_percentage \n",
    "        })\n",
    "\n",
    "\n",
    "    municipality_alone_widowed_divorced_df = pd.DataFrame(lone_widowed_divorced_municipality)\n",
    "    municipality_alone_widowed_divorced_df.reset_index()\n",
    "    municipality_alone_widowed_divorced_df.set_index(\"reportingmunicipalityid\", inplace=True)\n",
    "    return municipality_alone_widowed_divorced_df"
   ]
  },
  {
   "cell_type": "code",
   "execution_count": null,
   "metadata": {
    "jupyter": {
     "source_hidden": true
    },
    "tags": []
   },
   "outputs": [],
   "source": [
    "lucerne_municipalities =  municipalities.query(\"canton == 'LU'\")\n",
    "households_luzern_2020 = households.query(\"canton == 'LU' & statyear == 2020\")\n",
    "widowed_divorced_municipality2020_df = get_lone_widowed_divorced_municipality_dataframe(lucerne_municipalities, households_luzern_2020)\n",
    "widowed_divorced_municipality2020_df_lower20k = widowed_divorced_municipality2020_df.query('population < 20000')"
   ]
  },
  {
   "cell_type": "code",
   "execution_count": null,
   "metadata": {
    "jupyter": {
     "source_hidden": true
    },
    "tags": []
   },
   "outputs": [],
   "source": [
    "show_linear_regression_graph(widowed_divorced_municipality2020_df_lower20k[\"population\"], widowed_divorced_municipality2020_df_lower20k[\"lone_divorced_percent\"], \n",
    "\"Anteil der Geschiedenen, die in den Gemeinden allein leben, nach Bevölkerungsgrösse (Luzern, 2020)\", \"Bevölkerungsgrösse der Gemeinde\", \"Alleinlebende Geschiedene in %\", None, mtick.PercentFormatter(1, decimals=0))"
   ]
  },
  {
   "cell_type": "markdown",
   "metadata": {},
   "source": [
    "Um einen Vergleich zur Einwohnerdichte zu ziehen, wurde die gleiche Grafik auch im Verhältnis zur Dichte erstellt. Hier zeigt sich ein schwächerer Trend. Ein möglicher Grund hierfür wurde darin gesehen, dass die Einwohnerdichte anhand der Bevölkerung und der Gesamtfläche einer Gemeinde bestimmt wird. Dies kann bei einer grossen Gemeinde, die aber grösstenteils eine konzentrierte Bevölkerung hat, zu Verzerrungen führen. Dies dürfte der Grund sein, warum sich die Entwicklung bei den Geschiedenen in Bezug auf die Einwohnerdichte weniger deutlich zeigt. Der Trend bleibt jedoch erkennbar, dass der prozentuale Anteil der Geschiedenen in städtischen Gebieten höher ist."
   ]
  },
  {
   "cell_type": "code",
   "execution_count": null,
   "metadata": {
    "jupyter": {
     "source_hidden": true
    },
    "tags": []
   },
   "outputs": [],
   "source": [
    "show_linear_regression_graph(widowed_divorced_municipality2020_df_lower20k[\"peopleperkm2\"], widowed_divorced_municipality2020_df_lower20k[\"lone_divorced_percent\"], \n",
    "\"Anteil der Geschiedenen, die in den Gemeinden allein leben, nach Einwohnerdichte (Luzern, 2020)\", \"Einwohner pro km\\u00B2\", \"Alleinlebende Geschiedene in %\", None, mtick.PercentFormatter(1, decimals=0))"
   ]
  },
  {
   "cell_type": "markdown",
   "metadata": {},
   "source": [
    "Eine ähnliche Beobachtung kann auch bei den Verwitweten gemacht werden. Hier wird eine Grafik dargestellt, die zeigt, wie viel Prozent der Verwitweten in den Gemeinden allein leben. Darin ist der Trend sogar deutlicher als zuvor ersichtlich. Nicht nur das, sondern es gibt auch keine einzige Gemeinde in Luzern, in der weniger als 40% der Verwitweten allein leben. Und bei einer Gemeindegrösse von 2’000 gibt es keine einzige Gemeinde, in der weniger als 50% alleinlebend sind.\n",
    "\n",
    "Diese Feststellung beweist ein weiteres Mal, dass diese Erscheinung besonders häufig in städtische Regionen auftritt."
   ]
  },
  {
   "cell_type": "code",
   "execution_count": null,
   "metadata": {
    "jupyter": {
     "source_hidden": true
    },
    "tags": []
   },
   "outputs": [],
   "source": [
    "show_linear_regression_graph(widowed_divorced_municipality2020_df_lower20k[\"population\"],widowed_divorced_municipality2020_df_lower20k [\"lone_widowed_percent\"], \n",
    "\"Anteil der Verwitweten, die in den Gemeinden allein leben, nach Bevölkerungsgrösse (Luzern, 2020)\", \"Bevölkerungsgrösse der Gemeinde\", \"Alleinlebende Verwitwete in %\", None, mtick.PercentFormatter(1, decimals=0))"
   ]
  },
  {
   "cell_type": "markdown",
   "metadata": {},
   "source": [
    "In der Auswertung der Einwohnerdichte für die Verwitweten, die allein leben, entsteht das gleiche Ereignis wie bei den Geschiedenen zuvor. Der Trend ist sichtbar, jedoch ein wenig schwächer. "
   ]
  },
  {
   "cell_type": "code",
   "execution_count": null,
   "metadata": {
    "jupyter": {
     "source_hidden": true
    },
    "tags": []
   },
   "outputs": [],
   "source": [
    "show_linear_regression_graph(widowed_divorced_municipality2020_df_lower20k[\"peopleperkm2\"], widowed_divorced_municipality2020_df_lower20k[\"lone_widowed_percent\"], \n",
    "\"Anteil der Verwitweten, die in den Gemeinden allein leben, nach Einwohnerdichte (Luzern, 2020)\", \"Einwohner pro Km\\u00B2\", \"Alleinlebende Verwitwete in %\", None, mtick.PercentFormatter(1, decimals=0))"
   ]
  },
  {
   "cell_type": "markdown",
   "metadata": {},
   "source": [
    "Zusammengefasst zeigt sich ein deutlicher Trend von Geschiedenen und Verwitweten, die in städtischen Gemeinden allein leben. Je grösser eine Gemeinde, desto höher ist die prozentuale Wahrscheinlichkeit, dass eine Geschiedene oder Verwitwete allein lebt. Daraus lässt sich schliessen, dass ein Fokus auf Städte möglicherweise sinnvoll wäre, da hier das Phänomen am häufigsten auftritt. Mögliche Erklärungen könnten kulturelle Unterschiede zwischen Stadt und Land sein.\n",
    "\n",
    "Um dies etwas eindeutiger darzustellen, wurden verschiedene Bevölkerungsgrössen definiert und anhand dieser wird der prozentuale Anteil der alleinlebenden Geschiedenen illustriert.\n",
    "\n",
    "Die Gemeinden wurden in fünf verschiedene Gemeindegrössen aufgeteilt. Der erste und kleinste Balken betrifft Gemeinden mit weniger als 1’000 Personen, hier sind es lediglich etwa 35% der Geschiedenen, die allein leben. Bei einer Anzahl von 1’000 bis 2’000 sind es bereits 38%. Ab einer Grösse von 2’000 bis 5’000 Menschen sind es etwa 41%, gefolgt von Gemeinden mit einer Grössenordnung von 5’000 bis 10’000, welche einen Anteil von 43% besitzen. Bei Gemeinden, die über 10’000 Einwohner: innen besitzen, liegt der Beitrag der alleinstehenden Geschiedenen bei über 50%. Es ist zu erkennen, dass die Balken ohne Ausnahmen kontinuierlich ansteigen."
   ]
  },
  {
   "cell_type": "code",
   "execution_count": null,
   "metadata": {
    "jupyter": {
     "source_hidden": true
    },
    "tags": []
   },
   "outputs": [],
   "source": [
    "def get_average_percentage_according_to_population(dataset, maritalstatus_type, population_query):\n",
    "    municipalities = dataset.query(population_query)\n",
    "    populaton_sum = municipalities['population'].sum()\n",
    "    return sum(map(lambda x: (x[1].population / populaton_sum) * x[1][maritalstatus_type], municipalities.iterrows()))\n",
    "\n",
    "def show_municipality_category_percentage_barchart(dataset, maritalstatus_type, title, ylabel, color):\n",
    "    average_lucerne_population_lower_1k = get_average_percentage_according_to_population(dataset, maritalstatus_type, 'population < 1000')\n",
    "    average_lucerne_population_1to2k = get_average_percentage_according_to_population(dataset, maritalstatus_type, '1000 <= population < 2000')\n",
    "    average_lucerne_population_2to5k = get_average_percentage_according_to_population(dataset, maritalstatus_type, '2000 <= population < 5000')\n",
    "    average_lucerne_population_5to10k = get_average_percentage_according_to_population(dataset, maritalstatus_type, '5000 <= population < 10000')\n",
    "    average_lucerne_population_higher_10k = get_average_percentage_according_to_population(dataset, maritalstatus_type, 'population > 10000')\n",
    "  \n",
    "    divorced_widowed_per_population_category = {\n",
    "        \"percentage\": [average_lucerne_population_lower_1k, average_lucerne_population_1to2k, average_lucerne_population_2to5k, average_lucerne_population_5to10k, average_lucerne_population_higher_10k],\n",
    "        \"category\": [\"< 1000\", \"1000 - 2000\", \"2000 - 5000\", \" 5000 - 10000\", \"> 10000\"]\n",
    "        }\n",
    "\n",
    "    divorced_widowed_per_population_category = pd.DataFrame(divorced_widowed_per_population_category)\n",
    "   \n",
    "    fig = plt.figure(1, (15,10))\n",
    "    ax = fig.add_subplot(1, 1, 1)\n",
    "\n",
    "\n",
    "    ax.bar(divorced_widowed_per_population_category.index, divorced_widowed_per_population_category['percentage'], color=color)\n",
    "    ax.yaxis.set_major_formatter(mtick.PercentFormatter(1, decimals=0))\n",
    "\n",
    "    ax.set_title(title, weight='bold')\n",
    "    ax.set_xlabel(\"Gemeindegrösse\")\n",
    "    ax.set_ylabel(ylabel)\n",
    "\n",
    "    plt.xticks(divorced_widowed_per_population_category.index, divorced_widowed_per_population_category['category'])"
   ]
  },
  {
   "cell_type": "code",
   "execution_count": null,
   "metadata": {
    "jupyter": {
     "source_hidden": true
    },
    "tags": []
   },
   "outputs": [],
   "source": [
    "title = \"Anteil der Geschiedenen, die allein leben, in verschiedenen Gemeindegrössen (Luzern, 2020)\"\n",
    "ylabel = \"Alleinlebende Geschiedene in %\"\n",
    "show_municipality_category_percentage_barchart(widowed_divorced_municipality2020_df, 'lone_divorced_percent', title, ylabel, divorced_color)"
   ]
  },
  {
   "cell_type": "markdown",
   "metadata": {},
   "source": [
    "Bei den Verwitweten zeigt sich ein ähnlicher Trend auf. Auch hier ist die Gemeindegrösse, die mehr als 10’000 Einwohner: innen zählt, der Aussenseiter. Der Fakt bleibt also bestehen, dass urbane Gebiete deutlich mehr Geschiedene und Verwitwete aufweisen, welche allein leben, als ländliche Gebiete."
   ]
  },
  {
   "cell_type": "code",
   "execution_count": null,
   "metadata": {
    "jupyter": {
     "source_hidden": true
    },
    "tags": []
   },
   "outputs": [],
   "source": [
    "title = \"Anteil der Verwitweten, die allein leben, nach Gemeindegrösse (Luzern, 2020)\"\n",
    "ylabel = \"Alleinlebende Verwitwete in %\"\n",
    "show_municipality_category_percentage_barchart(widowed_divorced_municipality2020_df, 'lone_widowed_percent', title, ylabel, widowed_color)"
   ]
  },
  {
   "cell_type": "markdown",
   "metadata": {},
   "source": [
    "Somit wird hier ein klarer Trend angestossen, der sich durch alle Gemeindegrössen zieht. Städte scheinen ein Attribut zu haben, welches diese Personen eher dazu veranlasst, allein zu leben.\n",
    "\n",
    "Nun stellt sich die Frage, wie sich diese Entwicklung in den letzten Jahren verändert hat. Sind diese Gräben noch deutlicher geworden?\n",
    "\n",
    "Auf dem folgenden Balkendiagramm sind die gleichen Bevölkerungsgrössen vorhanden. Dieses Mal wird die Entwicklung der alleinlebenden Geschiedenen von 2012 bis 2020 dargestellt. Mit \"totaler Entwicklung\" ist die Entwicklung im Verhältnis zu allen Geschiedenen gemeint. Die fast 2% Steigung bei der Gemeindegrösse von weniger als 1’000 Personen bedeutet zum Beispiel, dass die alleinlebenden Geschiedenen von 2012 bis 2020 von etwa 33% auf 35% gestiegen sind.\n",
    "\n",
    "Bei dieser Entwicklung ist der Trend nicht mehr eindeutig. Es scheint, als würden vor allem in den mittleren Gemeindegrössen von etwa 1’000 bis 10’000 Personen deutlich mehr Personen allein leben als in den Jahren zuvor. Bei der grössten, sowie kleinsten Bevölkerungsgrösse sieht das Ganze moderater aus."
   ]
  },
  {
   "cell_type": "code",
   "execution_count": null,
   "metadata": {
    "jupyter": {
     "source_hidden": true
    },
    "tags": []
   },
   "outputs": [],
   "source": [
    "def get_widowed_divorced_difference_dataframe(df_older, df_newer):\n",
    "    difference_data = {  \n",
    "      \"reportingmunicipalityid\": df_newer.index,\n",
    "      \"population\" : df_newer['population'],  \n",
    "      \"peopleperkm2\" : df_newer['peopleperkm2'],  \n",
    "      \"lone_widowed_percent_difference\": df_newer[\"lone_widowed_percent\"] - df_older[\"lone_widowed_percent\"],\n",
    "      \"lone_divorced_percent_difference\": df_newer[\"lone_divorced_percent\"] - df_older[\"lone_divorced_percent\"],\n",
    "      }\n",
    " \n",
    "    difference_df = pd.DataFrame(difference_data)\n",
    "    return difference_df"
   ]
  },
  {
   "cell_type": "code",
   "execution_count": null,
   "metadata": {
    "jupyter": {
     "source_hidden": true
    },
    "tags": []
   },
   "outputs": [],
   "source": [
    "households_luzern_2012 = households.query(\"canton == 'LU' & statyear == 2012\")\n",
    "widowed_divorced_municipality2012_df = get_lone_widowed_divorced_municipality_dataframe(lucerne_municipalities, households_luzern_2012)"
   ]
  },
  {
   "cell_type": "code",
   "execution_count": null,
   "metadata": {
    "jupyter": {
     "source_hidden": true
    },
    "tags": []
   },
   "outputs": [],
   "source": [
    "widowed_divorced_difference_df = get_widowed_divorced_difference_dataframe(widowed_divorced_municipality2012_df, widowed_divorced_municipality2020_df)\n",
    "widowed_divorced_difference_df.dropna(inplace=True)"
   ]
  },
  {
   "cell_type": "code",
   "execution_count": null,
   "metadata": {
    "jupyter": {
     "source_hidden": true
    },
    "tags": []
   },
   "outputs": [],
   "source": [
    "title = \"Totale Entwicklung in % der Geschiedenen, die allein leben, nach Gemeindegrösse (Luzern, seit 2012)\"\n",
    "ylabel = \"Entwicklung der Geschiedenen in %\"\n",
    "show_municipality_category_percentage_barchart(widowed_divorced_difference_df,'lone_divorced_percent_difference', title, ylabel, divorced_color)"
   ]
  },
  {
   "cell_type": "markdown",
   "metadata": {},
   "source": [
    "Der Graph, welcher die Entwicklung der Verwitweten darstellt, weist einen unterschiedlichen Trend auf. Während es bei den städtischen Regionen kaum Zuwachs gibt, wird bei den kleineren Grössen eine auffallende Erhöhung über die letzten Jahre festgestellt. Innerhalb von nur 9 Jahren sind bei der kleinsten Gemeindegrösse, die alleinlebenden Verwitweten von 51% auf etwa 60% angestiegen. Die kleineren Gemeinden holen klar und deutlich zu den städtischen auf."
   ]
  },
  {
   "cell_type": "code",
   "execution_count": null,
   "metadata": {
    "jupyter": {
     "source_hidden": true
    },
    "tags": []
   },
   "outputs": [],
   "source": [
    "title = \"Totale Entwicklung in % der Verwitweten, die allein leben, nach Gemeindegrösse (Luzern, seit 2012)\"\n",
    "ylabel = \"Entwicklung der Verwitwete in %\"\n",
    "show_municipality_category_percentage_barchart(widowed_divorced_difference_df,'lone_widowed_percent_difference', title, ylabel, widowed_color)"
   ]
  },
  {
   "cell_type": "markdown",
   "metadata": {},
   "source": [
    "Es scheint, dass in städtischen Gebieten eine höhere Anzahl geschiedener und verwitweter Personen leben, die eigenständig wohnen. Die Entwicklungen zeigen, wie unterschiedlich stark die Anteile an Alleinlebenden bei den betroffenen Zivilständen gewachsen sind. Während sich der Anteil alleinlebender Geschiedener und Verwitweten in städtischen Gebieten in den letzten Jahren nur leicht erhöht hat, ist der Anteil alleinlebender Verwitweter in kleineren Gemeinden deutlich gestiegen. Dies stellt die Frage auf, woher dieses starke Wachstum kommt. Personen, die eigenständig wohnen, haben häufig weniger soziale Unterstützung. Um weitere Erkenntnisse zu der Situation zu gewinnen, werden wir im nächsten Schritt die Wohnungen und Zimmer genauer analysieren."
   ]
  },
  {
   "cell_type": "markdown",
   "metadata": {},
   "source": [
    "## Interaktive Karte\n",
    "\n",
    "Um eine noch detaillierte Analyse anzubieten, wurde eine interaktive Karte von Luzern erstellt, die für jede Gemeinde den prozentualen Anteil an alleinlebenden Verwitweten und Geschiedenen anzeigen kann. Zudem kann die Karte die Entwicklung dieser Zivilstände von 2012 bis 2020 darstellen. Es kann zwischen den verschiedenen Kartenansichten gewechselt werden und die Möglichkeit besteht, eine Gemeinde anzuklicken, um genauere Informationen zu erhalten.  \n",
    "\n",
    "Innerhalb der Karte können einige interessante Informationen gesehen werden. Wenn zum Beispiel auf die Stadt Luzern geklickt wird, kann gesehen werden, dass in 2020 55.73% der Geschiedenen allein leben. Jedoch ist die Entwicklung seit 2012 eher gering, die alleinlebenden Geschiedenen haben um 0.82% zugenommen, von 2012 –2020. Bei den alleinlebenden Verwitweten kann gesehen werden, das die Stadt Luzern mit 81.19% im Jahre 2020 sogar abgenommen hat im Vergleich zu 2012, wo es noch 81.77% waren.\n",
    "\n",
    "Weitere Besonderheiten, die man erkennen kann, ist zum Beispiel bei der Entwicklung von der Gemeinde Romoos und Honau, bei denen die alleinlebenden totalen Geschiedenen um etwa 30% gewachsen sind. Da diese Gemeinden jedoch sehr klein sind, gibt es dementsprechend grössere Schwankungen.\n",
    "\n",
    "Generell kann man hier viele Trends wiedersehen, die zuvor beschrieben worden sind. In praktisch allen städtischen Gemeinden existieren sehr viele Geschiedenen und Verwitweten, die allein leben, während es in den ländlichen Gemeinden meistens nicht so ist, es gibt aber einzelne Ausnahmen. Und bei der Entwicklung nehmen vor allem die Alleinlebenden in den ländlichen Gemeinden zu.  \n",
    "\n",
    "Diese Karte könnte man gut gebrauchen, um z.B. Bauvorschläge für Gemeinden in Luzern hervorbringen zu können in Bezug auf alleinlebende Verwitwete und Geschiedene, da genau gesehen werden kann, wo dieses Phänomen am prominentesten vorkommt und wo es wächst.\n",
    "\n",
    "**Karte schliessen** \n",
    "\n",
    "Um die Karte zu schliessen, gibt es oben rechts, wie bei allen Applikationen, ein Kreuz worauf geklickt werden kann.  \n",
    "\n",
    "**Gemeinden auswählen** \n",
    "\n",
    "Um eine Gemeinde auszuwählen, muss die Maus auf eine Gemeinde gehen und dann ein linker Mausklick gemacht werden. Danach wird links von der Karte eine Infobox erzeugt, die die Informationen der Gemeinde anzeigt. Um eine andere Gemeinde auszuwählen, kann dieser Prozess wiederholt werden. \n",
    "\n",
    "**Kartenansicht wechseln** \n",
    "\n",
    "Die Karte hat unten rechts 4 Buttons, zwei unter dem Übertitel „Geschiedene“ und zwei unter dem Übertitel „Verwitwete“. Dort gibt es jeweils die Buttons „2020“ sowie „Entwicklung“ womit auf die entsprechende Ansicht gewechselt werden kann. Sobald draufgeklickt wird, ändert sich die Kartenfärbung, der wird Titel geändert und die Colorbar rechts neu erstellt und so auf die neue Ansicht eingestellt. \n",
    "\n",
    "**Vorsicht: Da die Karten neu eingefärbt werden, kann das Wechseln kurz wenige Sekunden dauern. Die Karten werden neu erstellt, damit man den Arbeitsspeicher nicht noch mehr belastet.**"
   ]
  },
  {
   "cell_type": "code",
   "execution_count": null,
   "metadata": {
    "jupyter": {
     "source_hidden": true
    },
    "tags": []
   },
   "outputs": [],
   "source": [
    "def combine_luzern_dataframes(luzern_coordinates_df, difference_df, data2012_df, data2020_df):\n",
    "    luzern_coordinates_df = luzern_coordinates_df.merge(difference_df[['lone_widowed_percent_difference', 'lone_divorced_percent_difference']], left_index=True,  right_index=True, how='left')\n",
    "    luzern_coordinates_df = luzern_coordinates_df.merge(data2012_df[['lone_widowed_percent', 'lone_divorced_percent']], left_index=True,  right_index=True, how='left')\n",
    "    luzern_coordinates_df.rename(columns = {'lone_widowed_percent':'lone_widowed_percent_2012', 'lone_divorced_percent':'lone_divorced_percent_2012'}, inplace = True)\n",
    "\n",
    "    luzern_coordinates_df = luzern_coordinates_df.merge(data2020_df[['lone_widowed_percent', 'lone_divorced_percent']], left_index=True,  right_index=True, how='left')\n",
    "    luzern_coordinates_df.rename(columns = {'lone_widowed_percent':'lone_widowed_percent_2020', 'lone_divorced_percent':'lone_divorced_percent_2020'}, inplace = True)\n",
    "    \n",
    "    return luzern_coordinates_df"
   ]
  },
  {
   "cell_type": "code",
   "execution_count": null,
   "metadata": {
    "jupyter": {
     "source_hidden": true
    },
    "tags": []
   },
   "outputs": [],
   "source": [
    "luzern_municipalities_coordinates = combine_luzern_dataframes(luzern_municipalities_coordinates, widowed_divorced_difference_df, widowed_divorced_municipality2012_df, widowed_divorced_municipality2020_df)"
   ]
  },
  {
   "cell_type": "code",
   "execution_count": null,
   "metadata": {
    "jupyter": {
     "source_hidden": true
    },
    "tags": []
   },
   "outputs": [],
   "source": [
    "class map_button():\n",
    "    def __init__(self, rectangle, text, map_variable, map_title, map_colormap, map_colormap_title):      \n",
    "        self.rectangle = rectangle\n",
    "        self.text = text\n",
    "        self.map_variable = map_variable\n",
    "        self.map_title = map_title\n",
    "        self.map_colormap = map_colormap\n",
    "        self.map_colormap_title = map_colormap_title\n",
    "\n",
    "class map_button_group():     \n",
    "    def __init__(self, buttons, title, color):   \n",
    "        self.buttons = buttons\n",
    "        self.title = title\n",
    "        self.color = color\n",
    "        \n",
    "def change_color_scale(color, amount=0.5):\n",
    "    try:\n",
    "        c = mc.cnames[color]\n",
    "    except:\n",
    "        c = color\n",
    "    c = colorsys.rgb_to_hls(*mc.to_rgb(c))\n",
    "    return colorsys.hls_to_rgb(c[0], 1 - amount * (1 - c[1]), c[2])\n"
   ]
  },
  {
   "cell_type": "code",
   "execution_count": null,
   "metadata": {
    "jupyter": {
     "source_hidden": true
    },
    "tags": []
   },
   "outputs": [],
   "source": [
    "class Luzern_Data_Heatmap:\n",
    "    \n",
    "    def __init__(self, luzern_map, luzern_df):\n",
    "        self.luzern_map = luzern_map\n",
    "        self.luzern_df = luzern_df\n",
    "        self.fig = None\n",
    "        self.ax = None\n",
    "        self.infotexts = None\n",
    "        self.infobox = None\n",
    "        self.divorced_cmap = None\n",
    "        self.widowed_cmap = None\n",
    "        self.population_cmap = None\n",
    "        self.divorced_color_diverging_map = None\n",
    "        self.widowed_color_diverging_map = None\n",
    "        self.create_colormaps()\n",
    "        self.button_groups = self.create_button_groups()\n",
    "        self.coordinate_dict = {}\n",
    "        \n",
    "    def create_figure_axis(self):\n",
    "        self.fig, self.ax = plt.subplots() \n",
    "        self.fig.subplots_adjust(bottom=0.2)\n",
    "      \n",
    "    def create_colormaps(self):        \n",
    "        blue = sns.color_palette(n_colors=5)[0] #Same palette style as Divorced Color\n",
    "        green = sns.color_palette(n_colors=5)[2]\n",
    "\n",
    "        self.divorced_cmap = mpl.colors.LinearSegmentedColormap.from_list(\"\", [\"white\", divorced_color])\n",
    "        self.widowed_cmap = mpl.colors.LinearSegmentedColormap.from_list(\"\", [\"white\", widowed_color])\n",
    "        self.population_cmap = mpl.colors.LinearSegmentedColormap.from_list(\"\", [\"white\", green])\n",
    "\n",
    "        self.divorced_color_diverging_map = mpl.colors.LinearSegmentedColormap.from_list(\"\", [blue, change_color_scale(blue, 0.5), \"white\" , change_color_scale(divorced_color, 0.5), divorced_color])\n",
    "        self.widowed_color_diverging_map = mpl.colors.LinearSegmentedColormap.from_list(\"\", [green,  change_color_scale(green, 0.5), \"white\", change_color_scale(widowed_color, 0.5), widowed_color])\n",
    "    \n",
    "    \n",
    "    def create_button_groups(self):\n",
    "        divorced_2020_button = map_button(mpatches.Rectangle((610, 85), 100, 40, color=divorced_color), \"2020\", \"lone_divorced_percent_2020\", \"Anteil von alleinlebenden Geschiedenen in den Gemeinden (Luzern, 2020)\",  self.divorced_cmap, \"% Geschiedene\")    \n",
    "        divorced_growth_button = map_button(mpatches.Rectangle((720, 85), 180, 40,color=divorced_color), \"Entwicklung\", \"lone_divorced_percent_difference\", \"Prozentuale Entwicklung der alleinlebenden Geschiedenen in den Gemeinden (Luzern, seit 2012)\",  self.divorced_color_diverging_map, \"% Entwicklung Geschiedene\")    \n",
    "\n",
    "        widowed_2020_button = map_button(mpatches.Rectangle((610, 0), 100, 40, color=widowed_color), \"2020\", \"lone_widowed_percent_2020\", \"Anteil von alleinlebenden Verwitweten in den Gemeinden (Luzern, 2020)\",  self.widowed_cmap, \"% Verwitwete\")    \n",
    "        widowed_growth_button = map_button(mpatches.Rectangle((720, 0), 180, 40, color=widowed_color), \"Entwicklung\", \"lone_widowed_percent_difference\", \"Prozentuale Entwicklung der alleinlebenden Verwitweten in den Gemeinden (Luzern, seit 2012)\",  self.widowed_color_diverging_map, \"% Entwicklung Verwitwete\")    \n",
    "\n",
    "        divorced_group = map_button_group([divorced_2020_button, divorced_growth_button], \"Geschiedene\", divorced_color)\n",
    "        widowed_group = map_button_group([widowed_2020_button, widowed_growth_button], \"Verwitwete\", widowed_color)\n",
    "\n",
    "        return [divorced_group, widowed_group]\n",
    "    \n",
    "    \n",
    "    def change_map_via_button(self, button):\n",
    "        plt.clf()\n",
    "        self.ax = plt.gca()\n",
    "        self.show_map(button.map_variable, button.map_title, button.map_colormap_title,  button.map_colormap, True)\n",
    "\n",
    "        \n",
    "    def flood_fill_according_to_coordinates(self, norm, map_variable, new_map, colormap):\n",
    "        for i in range(0, len(self.luzern_df)):\n",
    "            dict_value = self.luzern_df.iloc[i].name\n",
    "\n",
    "            percent_value = self.luzern_df.iloc[i][map_variable]\n",
    "            \n",
    "            color = (0.55, 0.55, 0.55) #grey if percentage not existing\n",
    "            if (not np.isnan(percent_value)):\n",
    "                color = colormap(norm(percent_value * 100))[0:3]\n",
    "\n",
    "            self.flood_fill_luzern_map(new_map, self.luzern_df.iloc[i].ycoordinate, self.luzern_df.iloc[i].xcoordinate, color, dict_value)\n",
    "            if self.luzern_df.iloc[i].xcoordinate2 != -99:\n",
    "                self.flood_fill_luzern_map(new_map, self.luzern_df.iloc[i].ycoordinate2, self.luzern_df.iloc[i].xcoordinate2, color, dict_value)\n",
    "            if self.luzern_df.iloc[i].xcoordinate3 != -99:\n",
    "                self.flood_fill_luzern_map(new_map, self.luzern_df.iloc[i].ycoordinate3, self.luzern_df.iloc[i].xcoordinate3, color, dict_value)\n",
    "    \n",
    "    def flood_fill_luzern_map(self, new_map, x, y, new_color, dict_value):\n",
    "        if (0 <= x < new_map.shape[0] and 0 <= y < new_map.shape[1] and\n",
    "            (new_map[x, y][0] == 1 and new_map[x, y][1] == 1 and new_map[x, y][2] == 1)): \n",
    "            \n",
    "            new_map[x, y] = new_color\n",
    "            self.coordinate_dict.update({(y, x): dict_value})\n",
    "            \n",
    "            self.flood_fill_luzern_map(new_map, x+1, y, new_color, dict_value)\n",
    "            self.flood_fill_luzern_map(new_map, x-1, y, new_color, dict_value)\n",
    "            self.flood_fill_luzern_map(new_map, x, y+1, new_color, dict_value)\n",
    "            self.flood_fill_luzern_map(new_map, x, y-1, new_color, dict_value)\n",
    "    \n",
    "    def add_buttons_to_map(self):\n",
    "        for group in self.button_groups:\n",
    "            x_average = sum(i.rectangle.xy[0] + (i.rectangle.get_width() / 2) for i in group.buttons) / len(group.buttons)\n",
    "            y_average = sum(i.rectangle.xy[1]  + (i.rectangle.get_height() / 2) for i in group.buttons) / len(group.buttons)\n",
    "\n",
    "            self.ax.annotate(group.title, (x_average, y_average + 35), color=group.color, weight='bold', \n",
    "                            fontsize=20, ha='center', va='center')\n",
    "\n",
    "            for button in group.buttons:\n",
    "                self.ax.add_patch(button.rectangle)\n",
    "                rx, ry = button.rectangle.get_xy()\n",
    "                cx = rx + button.rectangle.get_width()/2.0\n",
    "                cy = ry + button.rectangle.get_height()/2.0\n",
    "                \n",
    "                frame = mpatches.Rectangle((rx, ry), button.rectangle.get_width(), button.rectangle.get_height(), color='grey', fill=False)\n",
    "                self.ax.add_patch(frame)\n",
    "\n",
    "                self.ax.annotate(button.text, (cx, cy), color='w', weight='bold', \n",
    "                            fontsize=16, ha='center', va='center')\n",
    "\n",
    "    def interactive_checking(self, new_map, map_variable):\n",
    "        idlying_stopper = 0\n",
    "        while True:\n",
    "            try:\n",
    "                coords = ginput(1, timeout = 0.2)[0]\n",
    "                \n",
    "                #Button clicking\n",
    "                for group in self.button_groups:\n",
    "                    for button in group.buttons:\n",
    "                        rx, ry = button.rectangle.get_xy()\n",
    "                        endx = rx + button.rectangle.get_width()\n",
    "                        endy = ry + button.rectangle.get_height()\n",
    "\n",
    "                        if (coords[0] > rx and coords[1] > ry and coords[0] < endx and coords[1] < endy):\n",
    "                            self.change_map_via_button(button)\n",
    "                            return\n",
    "                        \n",
    "                #Map clicking\n",
    "                map_coords = (int(coords[0] / 2), int((906 - coords[1]) / 2))\n",
    "                municipality = self.get_clicked_municipality(new_map, map_coords)\n",
    "                if municipality is not None:\n",
    "                    self.show_municipality_information_menu(municipality, map_variable)\n",
    "                    continue\n",
    "\n",
    "            except:\n",
    "                if (self.ax != plt.gca()):\n",
    "                    plt.close()\n",
    "                    mpl.use('module://matplotlib_inline.backend_inline')\n",
    "                    return\n",
    "                continue\n",
    "            \n",
    "    def get_clicked_municipality(self, new_map, coordinate):\n",
    "        if new_map[coordinate[1], coordinate[0]][0] == 1 and new_map[coordinate[1], coordinate[0]][1] == 1 and new_map[coordinate[1], coordinate[0]][2] == 1: #White is outside of the map\n",
    "            return None\n",
    "        municipality = self.coordinate_dict.get((coordinate[0],coordinate[1]))\n",
    "        if municipality is not None:\n",
    "            municipality = self.luzern_df.query(f'reportingmunicipalityid == {municipality}').iloc[0]\n",
    "        return municipality\n",
    "\n",
    "    def show_municipality_information_menu(self, municipality, map_variable):\n",
    "        namestr =  f'{municipality.municipalityname}'\n",
    "        populationstr =  f'Bevölkerung: {municipality.population}' \n",
    "        peopleperkm2 =  f'Bevölkerungsdichte:{municipality.peopleperkm2}/km\\u00B2' \n",
    "        if \"widowed\" in map_variable:\n",
    "            contentstr = '\\n'.join([\n",
    "            f'Alleinlebende Verwitwete 2012: {municipality.lone_widowed_percent_2012:.2%}',\n",
    "            f'Alleinlebende Verwitwete 2020: {municipality.lone_widowed_percent_2020:.2%}',\n",
    "            f'Entwicklung seit 2012: {municipality.lone_widowed_percent_difference:.2%}'])\n",
    "            status_color = change_color_scale(widowed_color, amount=1.3)\n",
    "\n",
    "        elif \"divorced\" in map_variable:\n",
    "            contentstr = '\\n'.join([\n",
    "            f'Alleinlebende Geschiedene 2012: {municipality.lone_divorced_percent_2012:.2%}',\n",
    "            f'Alleinlebende Geschiedene 2020: {municipality.lone_divorced_percent_2020:.2%}',\n",
    "            f'Entwicklung seit 2012: {municipality.lone_divorced_percent_difference:.2%}'])\n",
    "            status_color = change_color_scale(divorced_color, amount=1.3)\n",
    "      \n",
    "        self.remove_info_box_if_exists()\n",
    "        self.infobox = mpatches.Rectangle((0.092, 0.53),0.25,0.20, linewidth=1, edgecolor='black', facecolor='orange', alpha=0.2, transform=self.fig.transFigure, figure=self.fig)\n",
    "        self.fig.patches.extend([self.infobox])\n",
    "        self.infotexts = [plt.text(0.1, 0.68, namestr, fontsize=15, transform=plt.gcf().transFigure, color='black', weight='bold'),\n",
    "        plt.text(0.1, 0.66, populationstr, fontsize=13, transform=plt.gcf().transFigure, color='darkgreen', weight='bold'),\n",
    "        plt.text(0.1, 0.64, peopleperkm2, fontsize=13, transform=plt.gcf().transFigure, color='darkgreen', weight='bold'),\n",
    "        plt.text(0.1, 0.57, contentstr, fontsize=13, transform=plt.gcf().transFigure, color=status_color, weight='bold')]\n",
    "\n",
    "    def remove_info_box_if_exists(self):\n",
    "        if self.infotexts is not None:\n",
    "            for infotext in self.infotexts:\n",
    "                infotext.remove()\n",
    "        if self.infobox is not None:\n",
    "            self.infobox.set_visible(False)\n",
    "\n",
    "    #Has to be called for creating new map or interaction\n",
    "    def create_new_map(self, map_variable, map_title, colormap_title, colormap, interactive_map):\n",
    "        if interactive_map == True:\n",
    "            mpl.use('QtAgg') #mpl.use('TkAgg')   \n",
    "        else:\n",
    "            mpl.use('module://matplotlib_inline.backend_inline')\n",
    "        self.create_figure_axis()\n",
    "        self.show_map(map_variable, map_title, colormap_title, colormap, interactive_map)\n",
    "    \n",
    "    def show_map(self, map_variable, map_title, colormap_title, colormap, interactive_map):\n",
    "   \n",
    "        new_map = self.luzern_map.copy() #On purpose in order to change it do different colors later on\n",
    "        self.button_groups = self.create_button_groups()\n",
    "            \n",
    "\n",
    "        lowest_percent = (self.luzern_df.min(axis=0)[map_variable]) * 100\n",
    "        max_percent = (self.luzern_df.max(axis=0)[map_variable]) * 100\n",
    "\n",
    "        vcenter = 0\n",
    "        if lowest_percent >= 0:\n",
    "            vcenter = (max_percent + lowest_percent) / 2\n",
    "        norm = mpl.colors.TwoSlopeNorm(vmin=int(lowest_percent), vmax=int(max_percent), vcenter=int(vcenter))\n",
    "\n",
    "        self.flood_fill_according_to_coordinates(norm, map_variable, new_map, colormap)\n",
    "\n",
    "        im = self.ax.imshow(new_map, interpolation='none', cmap=colormap, norm=norm, extent=[0, 900, 0, 900])\n",
    "        cbar = plt.colorbar(mappable=mpl.cm.ScalarMappable(norm=norm, cmap=colormap), orientation='vertical', location='right', ax=self.ax, fraction=0.044, pad=0.05, format=lambda x, _: f\"{(x/100):.0%}\")\n",
    "        cbar.ax.tick_params(labelsize=14) \n",
    "        cbar.set_label(label=colormap_title, size=22,weight='bold')\n",
    "        if interactive_map == True: #The order is important, so i can't put it at the beginning.\n",
    "            self.add_buttons_to_map()\n",
    "        \n",
    "        plt.suptitle(map_title, fontsize=20, weight='bold')  \n",
    "        plt.rcParams[\"axes.grid\"] = False #Remove white strips in image\n",
    "        plt.axis('off')\n",
    "        plt.show()\n",
    "        \n",
    "        if interactive_map == True:\n",
    "            self.interactive_checking(new_map, map_variable)"
   ]
  },
  {
   "cell_type": "code",
   "execution_count": null,
   "metadata": {
    "jupyter": {
     "source_hidden": true
    },
    "tags": []
   },
   "outputs": [],
   "source": [
    "luzern_data_heatmap = Luzern_Data_Heatmap(luzern_map_borders, luzern_municipalities_coordinates)"
   ]
  },
  {
   "cell_type": "markdown",
   "metadata": {},
   "source": [
    "Um die interaktive Karte erneut auszuführen, kann man die Codezeile unter dieser ausführen:"
   ]
  },
  {
   "cell_type": "code",
   "execution_count": null,
   "metadata": {},
   "outputs": [],
   "source": [
    "luzern_data_heatmap.create_new_map('lone_divorced_percent_2020', \"Anteil von alleinlebenden Geschiedenen in den Gemeinden (Luzern, 2020)\", \"% Geschiedene\", luzern_data_heatmap.divorced_cmap, True)"
   ]
  },
  {
   "cell_type": "markdown",
   "metadata": {},
   "source": [
    "Die folgenden Grafiken veranschaulichen die Wohnungsgrössen von alleinlebenden Personen, von 2012 bis 2020. Diese sind aufgeteilt in Stadt, Land und den möglichen Zivilständen in den Kantonen Luzern, Zürich, Basel-Stadt und Bern. Alle Gemeinden, die mehr als 10'000 Einwohner zählen, gelten als Stadt. In den Grafiken ist nicht ersichtlich, ob es sich um Wohnungen oder Häuser handelt.  \n",
    "\n",
    "Mehr als die Hälfte der alleinlebenden Personen wohnen in 3-4 Zimmer-Wohnungen. Auf dem Land haben alleinlebende Personen durchschnittlich grössere Wohnungen als in der Stadt.  \n",
    "\n",
    "Über 80% der Alleinlebenden und Verwitweten, halten sich in einer Wohnung, die mehr als zwei Zimmer besitzt, auf. Bei den Personen, die ledig oder geschieden sind, ist dies nicht der Fall. Ein möglicher Grund könnte sein, dass verwitwete Personen über grössere finanzielle Mittel verfügen. Ungefähr 22% der verwitweten Personen, die allein auf dem Land leben, wohnen in einer 5-6 Zimmer grossen Wohnung. Ein weitere Begründung dieser Feststellung könnte sein, dass der verwitwete Partner weiterhin in der grösseren Wohnung verbleibt und sich nicht nach einem kleineren Haushalt umsieht und umziehen möchte. \n",
    "\n",
    "Da die Mehrheit der Verwitweten im hohen Rentenalter ist, können grosse Häuser/Wohnungen aber auch zur Last werden. Im fortschreitenden Alter werden physische Anstrengungen immer kräftezehrender und dadurch sind gewisse Menschen nicht mehr imstande, die Pflege der eigenen Unterkunft aufrechtzuerhalten. \n",
    "\n",
    "Für die Zivilbevölkerung ist es problematisch, wenn zu viel alleinlebende Personen in zu grossen Wohnungen leben. Diese Situation führt dazu, dass Familien Schwierigkeiten haben, zahlbare und genügend grosse Wohnungen zu finden. \n",
    "\n",
    "Auch aus ökologischer Sicht ist es ungünstig, allein in einer grossen Wohnung zu leben. Je grösser die Wohnung ist, desto mehr Energie wird benötigt, beispielsweise zum Heizen. Da rund 60% der Heizungen in der Schweiz von fossilen Brennstoffen angetrieben werden, bewirken diese äusserst schädliche Auswirkungen auf die Umwelt aufgrund des hohen C02-Ausstosses (Bundesamt für Statistik, 2022)."
   ]
  },
  {
   "cell_type": "code",
   "execution_count": null,
   "metadata": {
    "jupyter": {
     "source_hidden": true
    },
    "tags": []
   },
   "outputs": [],
   "source": [
    "def set_ylim(ax,y_values):\n",
    "    \n",
    "    lim_min = np.min(y_values)\n",
    "    lim_max = np.max(y_values)\n",
    "    ax.set_ylim(lim_min,lim_max)\n",
    "    steps = int(lim_max/6)\n",
    "    ax.set_yticks([np.round(yt,2) for yt in np.arange(lim_min,lim_max+steps,steps)])"
   ]
  },
  {
   "cell_type": "code",
   "execution_count": null,
   "metadata": {
    "jupyter": {
     "source_hidden": true
    },
    "tags": []
   },
   "outputs": [],
   "source": [
    "def label_subplots(axes,rows_titel,cols_titel):\n",
    "    style_plt()\n",
    "    for ax, col in zip(axes[0], cols_titel):\n",
    "        ax.set_title(col)\n",
    "\n",
    "    for ax, row in zip(axes[:,0], rows_titel):\n",
    "        ax.set_ylabel(row, rotation=90)\n",
    "    "
   ]
  },
  {
   "cell_type": "code",
   "execution_count": null,
   "metadata": {
    "jupyter": {
     "source_hidden": true
    },
    "tags": []
   },
   "outputs": [],
   "source": [
    "def multi_bar(df,col,row,col_label,row_label):\n",
    "    col_val = get_x_values(df,col)\n",
    "    col_len = len(col_val)\n",
    "    row_len= len(row)\n",
    "    MARIGESTATUS_LABEL\n",
    "\n",
    "    fig, ax = plt.subplots(row_len,col_len,figsize=_figsize,constrained_layout=True)\n",
    "    label_subplots(ax,\n",
    "                   [row_label.get(key) for key in row],\n",
    "                   [col_label.get(key) for key in col_val])\n",
    "    \n",
    "    for c1 in range(col_len):\n",
    "        df_x = get_df_by_value(df,col,col_val[c1])\n",
    "        \n",
    "        \n",
    "        for c2 in range(row_len):        \n",
    "            df_data = get_df_by_value(df_x,row[c2],value)        \n",
    "            y = df_data[hue].value_counts(normalize=True).sort_index()*100\n",
    "            #y = df_data[hue].value_counts()#.sort_index()\n",
    "            x = [f'{x} {label_end}' for x in  y.index]\n",
    "            style_plt()\n",
    "            if  (col_len and row_len)>1:            \n",
    "                rec = ax[c2,c1].bar(x,np.round(y.values,2),color=wazim_colors )#wazim_colors\n",
    "                titel = row[c2]            \n",
    "                set_ylim(ax[c2,c1],[0,65])\n",
    "                label_bar(ax[c2,c1],rec)\n",
    "                set_percent_y_ax(ax[c2,c1])\n",
    "    return fig, ax"
   ]
  },
  {
   "cell_type": "code",
   "execution_count": null,
   "metadata": {
    "jupyter": {
     "source_hidden": true
    },
    "tags": []
   },
   "outputs": [],
   "source": [
    "def multi_bar_plot(df_cantons,col,row,col_label,row_label,cantons,titel):\n",
    "    for c in cantons:             \n",
    "        df_cantons = get_df_by_value(df,'canton',c)\n",
    "        fig , ax = multi_bar(df_cantons,col,row,col_label,row_label)\n",
    "        \n",
    "        titel_p = f'{titel} ({CANTON_LABEL[c]})'\n",
    "        fig.suptitle(titel_p,\n",
    "                      fontsize =_fontdict_titel['fontsize'],\n",
    "                      weight = _weight_titel)"
   ]
  },
  {
   "cell_type": "code",
   "execution_count": null,
   "metadata": {
    "jupyter": {
     "source_hidden": true
    },
    "tags": []
   },
   "outputs": [],
   "source": [
    "df = single_households\n",
    "\n",
    "row= ['widowed_count','divorced_count','singles_count','married_count']\n",
    "value = 1\n",
    "hue = 'wazimclass'\n",
    "label_end= ''#'Zimmer'\n",
    "col = 'lives_in_city' \n",
    "\n",
    "row_label= MARIGESTATUS_LABEL\n",
    "col_label= STADT_LAND_LABEL\n",
    "\n",
    "\n",
    "titel_tot   = 'Wohnungsgrösse von alleinlebenden Personen (Bern, Basel-Stadt, Luzern und Zürich)'\n",
    "fig, ax = multi_bar(df,col,row,col_label,row_label)\n",
    "fig = fig.suptitle(titel_tot,fontsize =_fontdict_titel['fontsize'],weight = _weight_titel)"
   ]
  },
  {
   "cell_type": "markdown",
   "metadata": {},
   "source": [
    "Die Kantone Bern, Luzern und Zürich unterscheiden sich vor allem in den Städten. In Zürich und Basel-Stadt leben über die Hälfte der Ledigen, die ohne Mitbewohner: in residieren, in kleinen 1-2 Zimmer-Wohnungen. Dies könnte daran liegen, dass in den Städten vom Kanton Zürich die Wohnungen teurer sind als in anderen Kantonen.  \n",
    "\n",
    "Im Kanton Basel-Stadt wohnen rund 33% der verwitweten alleinlebenden Personen in 5-6 Zimmer-Wohnungen. Im Vergleich zu den behandelten Kantonen verzeichnet Basel-Stadt den höchsten Wert an Einzelhaushalten, die eine Wohnungsgrösse von 5-6 Zimmer aufweisen."
   ]
  },
  {
   "cell_type": "code",
   "execution_count": null,
   "metadata": {
    "jupyter": {
     "source_hidden": true
    },
    "tags": []
   },
   "outputs": [],
   "source": [
    "cantons = ['BE','BS','LU','ZH']\n",
    "titel = 'Wohnungsgrösse von alleinlebenden Personen'\n",
    "multi_bar_plot(df,col,row,col_label,row_label,cantons,titel)"
   ]
  },
  {
   "cell_type": "markdown",
   "metadata": {},
   "source": [
    "Die Analyse der Grafiken hat bewiesen, dass es öfters alleinlebende Menschen mit grossen Wohnungen gibt. Dadurch entsteht in dieser Art von Wohnung das Potenzial, Wohngemeinschaften zu gründen.\n",
    "\n",
    "Im Anschluss zu dieser Erkenntnis werden verschiedenste Projekte aufgeführt, die sich mit genau dieser Thematik befassen. Damit soll aufzeigt werden, dass es bereits seit mehreren Jahren diverse Initiativen gibt, die Alterseinsamkeit vorbeugen möchten."
   ]
  },
  {
   "cell_type": "markdown",
   "metadata": {},
   "source": [
    "# Exemplarische Planung einer Community für Einsame"
   ]
  },
  {
   "cell_type": "markdown",
   "metadata": {},
   "source": [
    "In einem ersten Schritt soll herausgefunden werden, ob es bereits solche Gemeinschaften gibt und wieso diese entstanden sind. Der Fokus wird auf die Vor- und Nachteile solcher Wohngemeinschaften gelegt und die Gründe sollen herausgefunden werden, wieso sich diese Personen entschieden haben, zusammenzuleben. Anschliessend wird ein eigenes Beispiel einer solchen Community ausgearbeitet. Es soll dargestellt werden, was der Aufwand beträgt, eine solche «Generationswohnung» zu errichten. Daraufhin soll die Planung einer solchen Wohngemeinschaft anhand eines effektiven Beispiels aufgeführt werden."
   ]
  },
  {
   "cell_type": "markdown",
   "metadata": {},
   "source": [
    "## Nachforschungen zum Thema «Mehrgenerationen-Wohnen»"
   ]
  },
  {
   "cell_type": "markdown",
   "metadata": {},
   "source": [
    "Einsamkeit im Alter oder durch Verwitwung ist ein Problem, welches unsere Gesellschaft weiterhin beschäftigt. Bis zum Zeitpunkt dieser Analyse konnte noch keine Lösung dafür gefunden werden, lediglich Methoden, um das Risiko von Einsamkeit zu reduzieren. Eine dieser Methoden ist die Gründung von Wohngemeinschaften. Wie der Name bereits sagt, lebt man in einer Wohngemeinschaft nicht mehr allein in einem Haushalt, sondern teilt diesen mit anderen Bewohner: innen. Normalerweise kennt man diese Art von Gemeinschaft aus dem Umfeld der Studierenden. Diese schliessen sich häufig in Gruppen zusammen und aufgrund ihrer meist finanzschwachen Situation teilen sich die Bewohner: innen die Wohn- und Nebenkosten. Dieses Konzept des Zusammenlebens wurde anschliessend auch für eine neue Art von gemeinschaftlichem Wohnen übernommen, und zwar für generationsübergreifende Wohngemeinschaften. Bei diesem Projekt geht es darum, dass Menschen aus verschiedensten Altersklassen sich zusammenschliessen und in einem Haushalt oder Wohnkomplex leben.\n",
    "\n",
    "Eine Variante ist die Hausgemeinschaft und diese trifft auf die meiste Akzeptanz. Dabei werden verschiedene Räume und Bereiche in einem Haus oder Siedlung geteilt und gestalten so das Zusammenleben, allerdings besitzt jede Person eine eigene Wohnung. So hat jede Partei einen Bereich, an dem Aktivitäten und Unterhaltungen möglich gemacht werden und zusätzlich haben die Bewohner: innen die Chance auf Privatsphäre in der eigenen Wohnung (Sidler, 2020, S. 9).\n",
    "\n",
    "Eine Alternative bietet das Vorgehen «Wohnen für Hilfe». In dieser Art des Zusammenlebens können ungenutzte Zimmer von einer Person an eine andere vermietet werden.\n",
    "\n",
    "Das Aussergewöhnliche bei diesem Konzept ist, dass keine monatliche Miete bezahlt werden muss. Anstatt mit Geld zu zahlen, werden Unterstützungsleistungen in Form von Arbeit erbracht. Bei den Unterstützungen handelt es sich nicht um betreuerische oder pflegerische Leistungen, sondern vielmehr um Hilfe im Haushalt. Dabei spielt es keine Rolle, ob es um die Gartenpflege, das Tätigen von Einkäufen oder die Reparatur von Kleinigkeiten geht. Durch die Digitalisierung kam auch eine neue Art von Entlastungsmöglichkeit hinzu, und zwar wird vermehrt die Unterstützung beim Umgang von digitalen Medien durch die älteren Personen gefragt. All diese Dinge können erbracht werden und im Gegenzug muss keine Miete gezahlt werden (Anonym, Pro Senectute, 2022). Das Projekt «Wohnen für Hilfe» ist aufgrund seines Erfolges bereits in den Kantonen Zürich, Bern, Basel, Fribourg, Genf und noch vielen mehr vertreten (Sidler, 2020, S. 11).\n",
    "\n",
    " \n",
    "\n",
    "Um darstellen zu können, dass das Thema «Mehrgenerationen-Wohnen» eine hohe Relevanz hat und eine landesweite Aktualität aufweist, kann anhand des Projekts «Generation Wohnen Burgerholz» aufgezeigt werden. Hierbei handelt es sich um das Siegerprojekt eines Studienauftrages, an dem mehrere Architekturbüros teilgenommen haben. Das Ziel war es, eine Siedlung zu errichten, welche die Begegnungen der Bewohner: innen aller Altersgruppen fördert und dadurch für ein angenehmes Wohnverhältnis sorgen sollte. Das Siegerteam hatte ein einzigartiges Vorgehen und dadurch konnten sie sich von der Konkurrenz abheben. Bei ihrem Vorhaben geht es darum, 80 – 100 Wohnungen zu errichten, mit dem Ziel, älteren Menschen ein zufriedenes Älterwerden zu ermöglichen. Das Projekt möchte allen Zivilständen ein Zuhause ermöglichen, sowohl einsamem Menschen als auch Verwitweten. In der geplanten Siedlung soll ein ausgewogener Mix zwischen Jung und Alt entstehen. Dadurch wird ein lebendiges Zusammenleben angestrebt (Anonym, Generation-Wohnen, 2020). Auch wenn das Projekt noch nicht realisiert wurde, verdeutlicht der Sieg des Studienauftrages das Potenzial solcher Wohnungen.\n",
    "\n",
    " \n",
    "\n",
    "Projekte, welche sich mit Wohnungen für alle Altersklassen beschäftigen, sind keine Neuheit in der Schweiz. Bereits vor Jahren entstand im Namen eines solchen Konzeptes ein interessantes Exemplar, und zwar die Giesserei in Winterthur. Diesbezüglich handelt es sich um eine altersdurchmischte Siedlung, welche den Zweck verfolgt, das Verständnis zwischen Generationen zu fördern. Die Siedlung entstand im Jahr 2012 und besitzt ca. 155 Wohnungen. Darin leben ungefähr 355 Menschen aus allen Altersklassen. Die Bewohner des Wohnkomplexes kennen sich alle und bei ihnen gehört es zur Normalität, sich gegenseitig zu helfen, wo man nur kann. Bereits 2012 existierten die gleichen Bedürfnisse wie heute, und zwar wollte man, dass alte Menschen möglichst lange selbstständig oder mit ein wenig Unterstützung am gesellschaftlichen Leben teilnehmen können. Sie dienen als Exemplar des modernen Zusammenlebens und helfen sich gegenseitig bei Schwierigkeiten aus. Jung und Alt gehen Hand in Hand durch den Alltag und bieten Unterstützung an, wo sie gefordert wird. Egal ob es um das Reparieren von Gegenständen oder um die Reinigung des Treppenhauses geht. Im Wohnkomplex gibt es verschiedenste Zimmer, in denen sich die Bewohner: innen treffen und Zeit verbringen können und damit gegen Einsamkeit vorgehen (Schneider, 2014).\n",
    "\n",
    " \n",
    "\n",
    "Nicht nur in der Schweiz steigt das Interesse am Konzept «Mehrgenerationen-Wohnen». In vielen Teilen der Welt hat der gesellschaftliche Strukturwandel neue kollaborative Wohngemeinschaften hervorgebracht.\n",
    "\n",
    "In Berlin gibt es eine sogenannte Clusterwohnung. Darin leben elf Personen im Alter von 16 bis 74 gemeinsam und teilen sich eine Mischung aus WG und Kleinwohnung. Die Bewohner teilen sich einen Gemeinschaftsraum mit Küche und Wohnbereich, aber dennoch besitzen sie einen privaten Rückzugbereich (Anonym, SwissLife, 2017).\n",
    "\n",
    "Länder wie die USA setzen sogar die Messlatte um einiges höhere, indem sie ganze Dörfer bauen, in denen bewusst auf einen Generationenmix geachtet wird. Die Dörfer sind so konzipiert, dass alle Dinge, welche zum täglichen Bedarf gehören, zu Fuss erreichbar sind. Dabei bieten sie die Möglichkeit einer Schule, einer Bio-Farm, einer Arztpraxis und noch vieles mehr. Für Senioren gibt es das Angebot auf Wearables. In diese Kategorie befinden sich z.B. Smartwatches, welche den Blutdruck und die Herzfrequenz messen können. Des Weiteren wird mithilfe von diversen Aktivitätsmöglichkeiten in solchen Siedlungen bewusst auf den Austausch zwischen den Generationen geschaut. All diese Dinge werden angeboten, um das Wohlfühlen aller Bewohner zu ermöglichen (Anonym, SwissLife, 2017).\n",
    "\n",
    " \n",
    "\n",
    "Nun folgt eine Auflistung von Vorteilen solcher «Mehrgenerationswohnungen»: \n",
    "\n",
    "- «Gemeinsam statt einsam» ist das Motto solcher Projekte \n",
    "\n",
    "- Aus finanzieller Sicht lohnt sich eine Wohngemeinschaft sicherlich, dabei spielt es keine Rolle, ob die Kosten geteilt werden oder eine jüngere Person, anstatt Miete zu zahlen, Hausarbeit verrichtet \n",
    "\n",
    "- Reduktion der Risiken im höheren Alter, wie z.B. Depressionen, Bluthochdruck oder Herz-Kreislauf-Erkrankungen  \n",
    "\n",
    "- Einsame können dadurch weiterhin am gesellschaftlichen Leben teilhaben \n",
    "\n",
    "- Erfahrungen/Weisheiten können zwischen den Generationen ausgetauscht werden \n",
    "\n",
    "\n",
    "Nachteile: \n",
    "\n",
    "- Bei einer Wohngemeinschaft müssen die Abmachungen klar definiert sein \n",
    "\n",
    "- Jüngere Personen halten sich im Schnitt nur für kürzere Zeit in derselben Wohnung auf \n",
    "\n",
    "- Die Bewohner: innen einer Wohngemeinschaft müssen sich untereinander gut verstehen"
   ]
  },
  {
   "cell_type": "markdown",
   "metadata": {},
   "source": [
    "## Haus für ältere und einsame Personen errichten/renovieren"
   ]
  },
  {
   "cell_type": "markdown",
   "metadata": {},
   "source": [
    "Im Rahmen dieser Arbeit wurde die Entscheidung getroffen, keine Planung für ein neues Haus zu erstellen, sondern ein bestehendes zu kaufen und an die Anliegen der möglichen Bewohner anzupassen. Das Haus sollte allen Altersklassen gerecht werden und auch für Personen zugänglich sein, die Mühe haben eine Treppe zu besteigen. Des Weiteren wurde darauf geachtet, dass das Haus in einer Gegend liegt, in der alles relativ Nahe ist und man im Alter nicht auf ein Auto angewiesen ist. Ein weiterer entscheidender Faktor war das Thema Umwelt. Dinge, die seit Jahren bestehen, müssen nicht immer durch etwas Neues ersetzt werden. Die Instandhaltung sollte gefördert werden und mit gewissen Renovationen kann ein Haus so gut wie neu aussehen, und gleichzeitig Kosten gespart werden. Zudem bleibt die Seele und der Charme des Hauses erhalten.\n",
    "\n",
    " \n",
    "\n",
    "Essenzielle Eigenschaften, welche das Gebäude besitzen muss, damit sich alle Bewohner: innen wohlfühlen: \n",
    "\n",
    "- Fahrstuhl für gehbeeinträchtigte Menschen \n",
    "\n",
    "- Getrennte Zimmer für Privatsphäre \n",
    "\n",
    "- Garten für Freizeitaktivitäten \n",
    "\n",
    "\n",
    "Wichtige Geschäfte, die sich in der Nähe des Hauses befinden müssen: \n",
    "\n",
    "- Lebensmittelladen  \n",
    "\n",
    "- Apotheke oder ärztliche Hilfe \n",
    "\n",
    "- Öffentliche Verkehrsmittel \n",
    "\n",
    "\n",
    "All diese Kriterien sind essenziell für eine Wohngemeinschaft mit verschiedenen Generationen. Durch etliche Recherchen konnte ein geeignetes Haus im Kanton Luzern in Rickenbach ausfindig gemacht werden."
   ]
  },
  {
   "cell_type": "markdown",
   "metadata": {},
   "source": [
    "Hier eine Übersicht des Hauses: \n",
    "\n",
    "| **Angaben zum Haus**          |                          |\n",
    "|-----------------------|--------------------------|\n",
    "| **Kanton**                | Luzern                   |\n",
    "| **Gemeinde**              | Rickenbach               |\n",
    "| **Ort**                   | Pfeffikon                |\n",
    "| **PLZ**                   | 5735                     |\n",
    "| **Wohnfläche**          | 331 m<sup>2</sup>        |\n",
    "| **Grundstückfläche**      | 786 m<sup>2</sup>       |\n",
    "| **Verkaufspreis**         | 1'600'000 CHF            |\n",
    "|                       |                          |\n",
    "| **Weitere Eigenschaften** | Ruhiges Quartier         |\n",
    "|                       | 3 Etagen                 |\n",
    "|                       | 7 Schlafzimmer           |\n",
    "|                       | 2 Küchen                 |\n",
    "|                       | 3 Badezimmer             |\n",
    "|                       | 1 Gästebad               |\n",
    "|                       | 2 beheizte Wintergärten  |\n",
    "|                       | Garage mit 2 Parkplätzen |\n",
    "|                       |                          |\n",
    "| **Obergeschoss**       | 3 Schlafzimmer           |\n",
    "|                       | Bibliothek               |\n",
    "|                       | Badezimmer               |\n",
    "|                       | Wintergarten             |\n",
    "|                       |                          |\n",
    "| **Erdgeschoss**           | Grosser Wohnraum         |\n",
    "|                       | Küche                    |\n",
    "|                       | Wintergarten             |\n",
    "|                       | 2 Schlafzimmer           |\n",
    "|                       | Badezimmer               |\n",
    "|                       | Gästebad                 |\n",
    "|                       |                          |\n",
    "| **Untergeschoss**        | Einliegerwohnung         |"
   ]
  },
  {
   "cell_type": "markdown",
   "metadata": {},
   "source": [
    "Damit das Gebäude für alle Bewohnenden zum perfekten Zuhause wird und keine Wünsche offengelassen werden, müssen Renovationen vorgenommen werden. Personen mit einer Gehbehinderung sollten die Möglichkeit besitzen, in das Obergeschoss zu gelangen, ohne die Treppe verwenden zu müssen. Aus diesem Grund wird ein Lift im Aussenbereich des Hauses installiert (AG, 2019). Weitere Ideen und geplante Renovationen werden unten als Übersicht aufgeführt, inklusive der ungefähren Kosten."
   ]
  },
  {
   "cell_type": "markdown",
   "metadata": {},
   "source": [
    "Hinweis:  \n",
    "\n",
    "Bei den Berechnungen der Kosten handelt es lediglich um Schätzungen. Dabei wurde der Kostenaufwand aus Broschüren und Webseiten ausfindig gemacht und an die Masse des Hauses angepasst (Zeugin, 2019).   \n",
    "\n",
    "| Bezeichnung          | Anzahl | Einzelkosten | Gesamtkosten |\n",
    "|----------------------|--------|--------------|--------------|\n",
    "| Schlafzimmer         | 7      | 5'000 CHF    | 35'000 CHF   |\n",
    "| Badezimmer           | 3      | 20'000 CHF   | 60'000 CHF   |\n",
    "| Küche                | 2      | 5'000 CHF    | 10'000 CHF   |\n",
    "| Wintergarten         | 2      | 5'000 CHF    | 10'000 CHF   |\n",
    "| Wohnzimmer           | 1      | 10'000 CHF   | 10'000 CHF   |\n",
    "| Garten               | 1      | 10'000 CHF   | 10'000 CHF   |\n",
    "| Aufzug               | 1      | 36'000 CHF   | 36'000 CHF   |\n",
    "| Weitere Anpassungen  | 1      | 15'000 CHF   | 15'000 CHF   |"
   ]
  },
  {
   "cell_type": "markdown",
   "metadata": {},
   "source": [
    "Der schlussendliche Kostenpunkt beläuft sich auf ca. 1'786'000 CHF. Dabei wurde der Kaufpreis des Hauses ohne Hypothek verwendet und alle Renovationen wurden berücksichtigt. Wer die Kosten übernehmen wird und wie die Finanzierung schlussendlich aussehen würde, wird innerhalb dieses Projekts nicht beantwortet. Denn dabei gibt es zu viele Faktoren, die beachtet werden müssten. Zum Beispiel könnte sich die Gemeinde Rickenbach dazu entscheiden, in ein solches Haus für Mehrgenerationswohnungen zu investieren oder auch jemand privates. Auch die Entscheidung, auf eine Hypothek zu verzichten, ist den definitiven Kaufenden selbst überlassen. Im Anhang ist das offizielle Verkaufsdossier des Hauses ersichtlich."
   ]
  },
  {
   "cell_type": "markdown",
   "metadata": {},
   "source": [
    "Anbei eine Auflistung von nützlichen Lokalitäten in der Nähe des Hauses: \n",
    "\n",
    "| Lokalität          | Distanz (in Meter) |\n",
    "|--------------------|--------------------|\n",
    "| Supermarkt         | 1200               |\n",
    "| Restaurants        | 700                |\n",
    "| Spital             | 1700               |\n",
    "| Arztpraxis         | 1200               |\n",
    "| Bahnhof            | 1300               |\n",
    "| Schulen für Kinder | 800                |"
   ]
  },
  {
   "cell_type": "markdown",
   "metadata": {},
   "source": [
    "Ein solches Haus bietet viele Vorteile. Zum einen ist die Einsamkeit, die bei Einzelhaushalten existiert, nicht mehr vorhanden, da es nun Mitbewohner: innen gibt. Die Bewohnenden können sich gegenseitig aushelfen bei den täglichen Aufgaben wie Wäsche waschen oder beim Reinigen des Hauses. Die körperlich herausfordernden Aufgaben können von den Jungen übernommen werden und dafür würden sich die älteren Personen um andere Tätigkeiten kümmern. Im Weiteren können Kosten und Nebenkosten für Heizung und Wasser von allen Mitbewohnern: innen getragen werden. Auch Gemeinschaftsanschaffungen für das Wohnzimmer müssen nicht mehr allein übernommen werden und können gleichmässig aufgeteilt werden. Für Senioren: innen ist ein weiterer positiver Aspekt, dass sie länger im häuslichen Umfeld bleiben können, da sie Unterstützung erhalten und auf das Beziehen eines Altersheimes verzichten können. Darin entsteht auch der Vorteil, dass eine Wohngemeinschaft kostengünstiger ist als eine Pflegeeinrichtung. Zusätzlich ergibt sich der Vorteil, dass keine Langeweile in einer Wohngemeinschaft herrscht, da die Möglichkeit besteht, Gespräche mit den Mitbewohner: innen zu führen. Das führt wiederum dazu, dass sich ältere Personen durch die soziale Integration länger jung fühlen. \n",
    "\n",
    "Die Nachteile eines Generationshauses sind aus finanzieller Sicht nicht bei den Mietenden, sondern bei den Vermietenden. Denn die langfristige finanzielle Belastung wird von ihnen getragen. Zudem ist ein Haus eine äusserst kostspielige Investition und benötigt ständige Pflege. Die Betreuung des Hauses sollte aber zwischen beiden Parteien aufgeteilt werden, wie in jedem Mietverhältnis. Ein weiteres Manko ist die Tatsache, dass jüngere Menschen im Vergleich zu Älteren, eine kürzere Verweildauer haben. Bei jungen Personen kommt es häufiger zu Veränderungen, wie z.B. ein neuer Job oder ein Standortwechsel des Arbeitgebers und deshalb ziehen sie häufiger um. Ein weiterer Grund, dass jüngere Personen umziehen, ist das Bedürfnis eine Familie zu gründen. In Folge des häufigen Wechsels von jungen Personen werden ältere Bewohner eher durch Jüngere ersetzt. Dadurch können die Leerstandskosten vermieden werden, denn für diese Kosten müssten die Mieter aufkommen (Sidler, 2020). Genau diese Situation beschreibt Maria wie folgt: «Jeder Wechsel bedeutet Diskussionen und nimmt uns mental in Anspruch. Die Jungen sind super- aber sie sind nach zwei oder drei Jahren wieder weg, wenn sie ihr Studium beendet haben oder eine Familie gründen.». Sie ist 58 Jahre alt und hat bereits Erfahrungen mit Mehrgenerationswohnungen sammeln können (Sidler, 2020, S.14)."
   ]
  },
  {
   "cell_type": "markdown",
   "metadata": {},
   "source": [
    "# Fazit\n",
    "\n",
    "Die Analysen in diesem Bericht haben ergeben, dass Alterseinsamkeit ein aktuelles und wachsendes Thema ist. Der Fokus auf Geschiedene und Verwitwete hat ein tieferes Verständnis für potenziell gefährdete Personen ermöglicht, und gezeigt, dass gerade bei dieser Personengruppe Änderungsbedarf besteht. Zusammen mit externer Literatur wurde die Möglichkeit für Mehrgenerationswohnungen erforscht und eine mögliche Planung dafür erstellt.\n",
    "\n",
    "Unsere Gruppe hat durch diese Arbeit viel zum Thema Alterseinsamkeit und Bevölkerungswissenschaften gelernt, aber auch wertvolle Erfahrungen in der Welt der Data Analysis gemacht. Auf der technischen Seite wurde zudem der Umgang mit Pandas, NumPy und diversen weiteren Tools und Bibliotheken vertieft.\n",
    "\n",
    "Für die weitergehende Forschung könnten spezifische Massnahmen neben Mehrgenerationswohnungen und andere potenziell gefährdete Personengruppen betrachtet werden. Auch wenn unsere Gruppe diese weiterführende Forschung nicht verfolgen wird, glauben wir, dass unsere Arbeit ein Erfolg war."
   ]
  },
  {
   "cell_type": "markdown",
   "metadata": {},
   "source": [
    "# Literaturverzeichnis\n",
    "\n",
    "AG, M. +. (5. Juli 2019). Meier + Co. AG. Von https://www.homelifte.ch/preise/ abgerufen am 10. November 2022  \n",
    "\n",
    "Anonym. (16. Oktober 2017). SwissLife. Von https://www.swisslife.com/de/home/hub/gemeinsam-statt-einsam.html abgerufen am 11. November 2022 \n",
    "\n",
    "Anonym. (September 2020). Generation-Wohnen. Von https://www.generation-wohnen.ch/das-projekt/ abgerufen am 3. November 2022 \n",
    "\n",
    "Anonym. (2022). Pro Senectute. Von https://pszh.ch/soziales-und-beratung/wohnen/generationenverbindende-wohnpartnerschaften/ abgerufen am 24. November 2022  \n",
    "\n",
    "Bundesamt für Statistik. (26. März 2021). Bundesamt für Statistik. Von https://www.bfs.admin.ch/bfs/de/home/statistiken/regionalstatistik/regionale-portraets-kennzahlen/gemeinden/daten-erlaeuterungen.assetdetail.15864450.html abgerufen am 2. Dezember 2022 \n",
    "\n",
    "Bundesamt für Statistik. (2. Januar 2021). Bundesamt für Statistik. Von https://www.agvchapp.bfs.admin.ch/de/mutated-communes/results?EntriesFrom=02.01.2021&EntriesTo=24.12.2022&Deleted=True&Created=True abgerufen am 2. Dezember 2022 \n",
    "\n",
    "Dahlberg L, A. L. (2015). Predictors of loneliness among older women and men in Sweden. \n",
    "\n",
    "Lachat, D. (13. Dezember 2022). HSLU - Hochschule Luzern. Von https://news.hslu.ch/planungshilfe-fuer-gemeinden abgerufen am 13. Dezember 2022 \n",
    "\n",
    "Laura Alejandra Rico-Uribe, F. F.-M.-M. (4. Januar 2018). Association of loneliness with all-cause mortality: A meta-analysis. Von journals.plos: https://journals.plos.org/plosone/article?id=10.1371/journal.pone.0190033 abgerufen am 3. Dezember 2022 \n",
    "\n",
    "Schneider, R. (28. Dezember 2014). Age-Stiftung. Von https://www.age-stiftung.ch/fileadmin/user_upload/Projekte/2012/045/ZaS_12_2014.pdf abgerufen am 25. November 2022 \n",
    "\n",
    "Sidler, A. (Februar 2020). Age-Stiftung. Von https://www.age-stiftung.ch/fileadmin/user_upload/Publikationen/Age_Dossier/Age_Dossier_2020_02.pdf abgerufen am 19. November 2022  \n",
    "\n",
    "Zeugin, P. (17. Oktober 2019). Credit Suisse. Von https://www.credit-suisse.com/ch/de/articles/private-banking/kosten-einer-renovation-tipps-zur-berechnung-der-investition-201804.html#:~:text=Kosten%20der%20Renovation%20sch%C3%A4tzen&text=Bei%20einem%20mittelgrossen%20Einfamilienhaus%20d%C3%BCrfte,000%20 abgerufen am 2. Dezember 2022 "
   ]
  }
 ],
 "metadata": {
  "colab": {
   "provenance": []
  },
  "kernelspec": {
   "display_name": "Python 3 (ipykernel)",
   "language": "python",
   "name": "python3"
  },
  "language_info": {
   "codemirror_mode": {
    "name": "ipython",
    "version": 3
   },
   "file_extension": ".py",
   "mimetype": "text/x-python",
   "name": "python",
   "nbconvert_exporter": "python",
   "pygments_lexer": "ipython3",
   "version": "3.10.8"
  },
  "toc-autonumbering": true
 },
 "nbformat": 4,
 "nbformat_minor": 4
}
